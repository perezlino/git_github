{
 "cells": [
  {
   "attachments": {},
   "cell_type": "markdown",
   "metadata": {},
   "source": [
    "### **4.5 - Rebase - Actualizando una rama**\n",
    "\n",
    "___"
   ]
  },
  {
   "attachments": {},
   "cell_type": "markdown",
   "metadata": {},
   "source": [
    "** En el ejemplo la rama principal aparece como **master**, pero es la rama **main**. Los datos utilizados para el ejemplo venian configurados de esa manera"
   ]
  },
  {
   "attachments": {},
   "cell_type": "markdown",
   "metadata": {},
   "source": [
    "#### **git rebase main**\n",
    "\n",
    "Los dos commits (en el reacuadro verde y que se encuentran en la rama **`main`**) deben de ser parte de la rama **`rama-misiones-completadas`**. Hay muchas formas de resolver este inconveniente que se plantea. La manera más sencilla es con un **rebase**, pero también está la otra opción que nosotros estando parados en la rama **`rama-misiones-completadas`**, hagamos un **merge** con la rama **`main`**. También se puede hacer de esa manera. Pero nuevamente, la forma más sencilla es como un **rebase**.\n",
    "\n",
    "<center><img src=\"https://i.postimg.cc/kMQBvMBp/gh190.png\"></center>\n",
    "\n",
    "Debemos posicionarnos en la rama **`rama-misiones-completadas`** y desde ahi ejecutar el comando **`git rebase main`**\n",
    "\n",
    "<center><img src=\"https://i.postimg.cc/rpw6dJ7J/gh191.png\"></center>\n",
    "\n",
    "Basicamente esto es lo que estamos haciendo\n",
    "\n",
    "<center><img src=\"https://i.postimg.cc/FzDCQ5HX/gh193.png\"></center>\n",
    "\n",
    "Finalmente, nos movemos a la rama **`main`** y ejecutamos un **merge**\n",
    "\n",
    "<center><img src=\"https://i.postimg.cc/3wSs2GTH/gh192.png\"></center>\n",
    "\n",
    "Basicamente esto es lo que estamos haciendo. Dado que la rama **`main`** ya no posee ninguna modificacion con respecto a la rama **`rama-misiones-completadas`**, se generará un merge del tipo **Fast-Forward**\n",
    "\n",
    "<center><img src=\"https://i.postimg.cc/cHDb8gV8/gh194.png\"></center>\n",
    "\n",
    "Finalmente, borramos la rama **`rama-misiones-completadas`** con el comando **`git branch -d rama-misiones-completadas`**\n",
    "\n",
    "___"
   ]
  }
 ],
 "metadata": {
  "language_info": {
   "name": "python"
  },
  "orig_nbformat": 4
 },
 "nbformat": 4,
 "nbformat_minor": 2
}
