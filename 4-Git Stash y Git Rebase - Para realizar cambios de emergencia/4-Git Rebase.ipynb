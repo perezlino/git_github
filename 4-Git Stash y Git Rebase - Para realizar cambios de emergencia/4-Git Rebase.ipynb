{
 "cells": [
  {
   "attachments": {},
   "cell_type": "markdown",
   "metadata": {},
   "source": [
    "### **4.4 - Git Rebase**\n",
    "\n",
    "Una presentación que nos ayudará a comprender los temas relacionados al rebase\n",
    "___"
   ]
  },
  {
   "attachments": {},
   "cell_type": "markdown",
   "metadata": {},
   "source": [
    "#### Introduccion a **git rebase**\n",
    "\n",
    "Pensemos en lo siguiente: Tenemos nuestra línea del tiempo para la rama **`main`** (aqui aparece representada como **Master**) y tenemos un commit ahí. Bueno, estamos trabajando y luego creamos una rama que se va a llamar **`rama-misiones`**, en la cual tenemos dos commits y ahí vamos trabajando.\n",
    "\n",
    "<center><img src=\"https://i.postimg.cc/J4fWFvzF/gh181.png\"></center>\n",
    "\n",
    "Pero qué pasa si ahora en la rama **`main`**, un compañero de nosotros o alguien más, o nosotros mismos creamos dos commits adicionales que son necesarios para la rama **`rama-misiones`**. Supongamos que los necesitamos ahí. ¿Cómo podemos hacer eso? ¿Cómo podríamos actualizar nuestra rama **`rama-misiones`**?\n",
    "\n",
    "<center><img src=\"https://i.postimg.cc/bvYv3rgg/gh182.png\"></center>"
   ]
  },
  {
   "attachments": {},
   "cell_type": "markdown",
   "metadata": {},
   "source": [
    "Para ejemplificar, tenemos el commit **`Nuevo Plan`**, que es un commit que comparten ambas ramas. Ahí fue donde se separaron. Luego tenemos en la rama **`main`** los commits **`Más héroes`** y **`Más misiones`**. En la rama **`Misiones Completadas`** tenemos los commits **`Misión 1 lista`** y **`Misión 2 lista`**. Si nosotros ejecutamos el comando **`git checkout rama-misiones`**, nos movemos a la rama **rama-misiones** y si despues lanzamos el comando **`git rebase main`**.\n",
    "\n",
    "<center><img src=\"https://i.postimg.cc/qRP4Vvs9/gh183.png\"></center>"
   ]
  },
  {
   "attachments": {},
   "cell_type": "markdown",
   "metadata": {},
   "source": [
    "**¿Qué va a hacer ese comando en este preciso momento?**\n",
    "\n",
    "Va a crear un **`área temporal`** en el cual vamos a mover las dos, por decirlo así, los dos commits únicos de la rama **`rama-misiones`**.\n",
    "\n",
    "<center><img src=\"https://i.postimg.cc/1X1h7YPS/gh184.png\"></center>\n"
   ]
  },
  {
   "attachments": {},
   "cell_type": "markdown",
   "metadata": {},
   "source": [
    "Luego va a mover el puntero de la rama **`rama-misiones`** hacia el último commit de la rama **`main`**.\n",
    "\n",
    "<center><img src=\"https://i.postimg.cc/B6Q1LNRq/gh185.png\"></center>"
   ]
  },
  {
   "attachments": {},
   "cell_type": "markdown",
   "metadata": {},
   "source": [
    "Y por último, va a regresar los dos commit que están en el área temporal. Primero **`Misión 1 lista`** y después **`Misión 2 lista`**.\n",
    "\n",
    "<center><img src=\"https://i.postimg.cc/Z0kRcLsv/gh186.png\"></center>\n",
    "\n",
    "Al finalizar el **rebase** va a quedar de esta forma.\n",
    "\n",
    "___"
   ]
  },
  {
   "attachments": {},
   "cell_type": "markdown",
   "metadata": {},
   "source": [
    "#### Introduccion a **git rebase**\n",
    "\n",
    "Pensemos en lo siguiente: Tenemos nuestra línea del tiempo para la rama **`main`** (aqui aparece representada como **Master**) y tenemos un commit ahí. Bueno, estamos trabajando y luego creamos una rama que se va a llamar **`rama-misiones`**, en la cual tenemos dos commits y ahí vamos trabajando.\n",
    "\n",
    "<center><img src=\"https://i.postimg.cc/J4fWFvzF/gh181.png\"></center>"
   ]
  }
 ],
 "metadata": {
  "language_info": {
   "name": "python"
  },
  "orig_nbformat": 4
 },
 "nbformat": 4,
 "nbformat_minor": 2
}
