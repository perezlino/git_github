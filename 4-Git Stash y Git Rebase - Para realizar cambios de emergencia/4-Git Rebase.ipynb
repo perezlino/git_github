{
 "cells": [
  {
   "attachments": {},
   "cell_type": "markdown",
   "metadata": {},
   "source": [
    "### **4.4 - Git Rebase**\n",
    "\n",
    "Una presentación que nos ayudará a comprender los temas relacionados al rebase\n",
    "___"
   ]
  },
  {
   "attachments": {},
   "cell_type": "markdown",
   "metadata": {},
   "source": [
    "#### Introduccion a **git rebase**\n",
    "\n",
    "Pensemos en lo siguiente: Tenemos nuestra línea del tiempo para la rama **`main`** (aqui aparece representada como **Master**) y tenemos un commit ahí. Bueno, estamos trabajando y luego creamos una rama que se va a llamar **`rama-misiones`**, en la cual tenemos dos commits y ahí vamos trabajando.\n",
    "\n",
    "<center><img src=\"https://i.postimg.cc/J4fWFvzF/gh181.png\"></center>\n",
    "\n",
    "Pero qué pasa si ahora en la rama **`main`**, un compañero de nosotros o alguien más, o nosotros mismos creamos dos commits adicionales que son necesarios para la rama **`rama-misiones`**. Supongamos que los necesitamos ahí. ¿Cómo podemos hacer eso? ¿Cómo podríamos actualizar nuestra rama **`rama-misiones`**?\n",
    "\n",
    "<center><img src=\"https://i.postimg.cc/bvYv3rgg/gh182.png\"></center>"
   ]
  },
  {
   "attachments": {},
   "cell_type": "markdown",
   "metadata": {},
   "source": [
    "Para ejemplificar, tenemos el commit **`Nuevo Plan`**, que es un commit que comparten ambas ramas. Ahí fue donde se separaron. Luego tenemos en la rama **`main`** los commits **`Más héroes`** y **`Más misiones`**. En la rama **`rama-misiones`** tenemos los commits **`Misión 1 lista`** y **`Misión 2 lista`**. Si nosotros ejecutamos el comando **`git checkout rama-misiones`**, nos movemos a la rama **rama-misiones** y si despues lanzamos el comando **`git rebase main`**.\n",
    "\n",
    "<center><img src=\"https://i.postimg.cc/qRP4Vvs9/gh183.png\"></center>"
   ]
  },
  {
   "attachments": {},
   "cell_type": "markdown",
   "metadata": {},
   "source": [
    "**¿Qué va a hacer ese comando en este preciso momento?**\n",
    "\n",
    "Va a crear un **`área temporal`** en el cual vamos a mover las dos, por decirlo así, los dos commits únicos de la rama **`rama-misiones`**.\n",
    "\n",
    "<center><img src=\"https://i.postimg.cc/1X1h7YPS/gh184.png\"></center>\n"
   ]
  },
  {
   "attachments": {},
   "cell_type": "markdown",
   "metadata": {},
   "source": [
    "Luego va a mover el puntero de la rama **`rama-misiones`** hacia el último commit de la rama **`main`**.\n",
    "\n",
    "<center><img src=\"https://i.postimg.cc/B6Q1LNRq/gh185.png\"></center>"
   ]
  },
  {
   "attachments": {},
   "cell_type": "markdown",
   "metadata": {},
   "source": [
    "Y por último, va a regresar los dos commit que están en el área temporal. Primero **`Misión 1 lista`** y después **`Misión 2 lista`**.\n",
    "\n",
    "<center><img src=\"https://i.postimg.cc/Z0kRcLsv/gh186.png\"></center>\n",
    "\n",
    "Al finalizar el **rebase** va a quedar de esta forma.\n",
    "\n",
    "___"
   ]
  },
  {
   "attachments": {},
   "cell_type": "markdown",
   "metadata": {},
   "source": [
    "#### **Rebase interactivo**\n",
    "\n",
    "Ahora existe otro tipo de rebase que se conoce como el **`Rebase interactivo`**.\n",
    "\n",
    "Se ejecuta con el comando **`git rebase -i HEAD~3`** (3 corresponde al número de commits que yo quiero). En este caso yo estoy apuntando a **HEAD** y quiero tres commits antes. No necesariamente tiene que ser a **HEAD**, puede ser cualquier hash de algún commit, pero ya vamos a ver eso un poquito más adelante con este comando. \n",
    "\n",
    "<center><img src=\"https://i.postimg.cc/WbwZYHZ7/gh187.png\"></center>\n",
    "\n",
    "¿Y este comando qué es lo que va a hacer? si yo lo ejecuto así como está, va a crear un área temporal en el cual vamos a mover los últimos tres commits en ese mismo orden \n",
    "\n",
    "<center><img src=\"https://i.postimg.cc/xjFhJ68t/gh188.png\"></center>\n",
    "\n",
    "y luego los va a regresar igual como fueron ingresados al área temporal o como fueron ejecutados en su línea del tiempo.\n",
    "\n",
    "<center><img src=\"https://i.postimg.cc/jdw9zyJK/gh189.png\"></center>"
   ]
  },
  {
   "attachments": {},
   "cell_type": "markdown",
   "metadata": {},
   "source": [
    "Pero más de uno va a decir: **¿Y esto para qué nos servirá?**\n",
    "\n",
    "Les voy a mencionar cuatro de los usos más comunes que tiene el **`rebase interactivo`**:\n",
    "\n",
    "1.\tOrdenar commits.\n",
    "2.\tCorregir mensajes que nosotros hacemos en los commits.\n",
    "3.\tUnir commits \n",
    "4.\tSeparar commits.\n",
    "\n",
    "Por ejemplo, supongamos que para un mismo archivo al cual le hicimos varias modificaciones (y generamos varios commits), nos dimos cuenta que todo esto tuvo que haber estado en un único commit. Ahí es donde podemos **`unir commits`**. También hay veces que nosotros tenemos demasiado cargado un commit, porque hicimos muchas modificaciones en varios archivos, y nos damos cuenta que deberíamos de separarlo en varios commits."
   ]
  }
 ],
 "metadata": {
  "language_info": {
   "name": "python"
  },
  "orig_nbformat": 4
 },
 "nbformat": 4,
 "nbformat_minor": 2
}
