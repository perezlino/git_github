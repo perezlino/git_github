{
 "cells": [
  {
   "attachments": {},
   "cell_type": "markdown",
   "metadata": {},
   "source": [
    "### **4.7 - Rebase - Reword (cambiar nombre de commit)**\n",
    "\n",
    "Actualizando el mensaje de un commit\n",
    "\n",
    "___"
   ]
  },
  {
   "attachments": {},
   "cell_type": "markdown",
   "metadata": {},
   "source": [
    "** En el ejemplo la rama principal aparece como **master**, pero es la rama **main**. Los datos utilizados para el ejemplo venian configurados de esa manera"
   ]
  },
  {
   "attachments": {},
   "cell_type": "markdown",
   "metadata": {},
   "source": [
    "#### **git rebase -i HEAD~**\n",
    "\n",
    "Para empezar nos encontramos en la rama **`main`** y veremos el log de commits\n",
    "\n",
    "<center><img src=\"https://i.postimg.cc/qqkF5f3y/gh205.png\"></center>\n",
    "\n",
    "Para renombrar un commit vamos a ejecutar el comando **`git rebase -i HEAD~1`**, donde el número 1 corresponde al numero de commits que tomaremos para renombrar desde el último commit realizado (es decir, desde el **HEAD**). En este caso, tomará solo el commit del HEAD, el último commit\n",
    "\n",
    "<center><img src=\"https://i.postimg.cc/L5NWdyt7/gh206.png\"></center>\n",
    "\n",
    "Despues de lanzar el comando, se nos abre una nueva pantalla que nos muestra el commit que buscamos renombrar, que corresponde al commit del HEAD o el último commit. Anteponemos una **r** de **rename** y luego para salir y guardar, pulsamos **esc** y **:wq** y **Enter**.\n",
    "\n",
    "<center><img src=\"https://i.postimg.cc/ryJ3tpBJ/gh207.png\"></center>\n",
    "\n",
    "Se nos abrirá una nueva pantalla que nos muestra el mensaje del commit. Aqui es donde editamos el mensaje que llevará el commit\n",
    "\n",
    "<center><img src=\"https://i.postimg.cc/GhmNPCr1/gh208.png\"></center>\n",
    "\n",
    "Para comenzar a modificar debemos presionar una letra, por ejemplo, la a y luego borramos ambos y escribimos un nuevo nombre para el commit. Luego para salir y guardar, pulsamos **esc** y **:wq** y **Enter**.\n",
    "\n",
    "<center><img src=\"https://i.postimg.cc/wT4r0GTR/gh209.png\"></center>\n",
    "\n",
    "Y revisando el log de commits podemos verificar que hemos modificado el nombre del commit.\n",
    "\n",
    "<center><img src=\"https://i.postimg.cc/CxZQtszP/gh210.png\"></center>\n",
    "\n",
    "___"
   ]
  }
 ],
 "metadata": {
  "language_info": {
   "name": "python"
  },
  "orig_nbformat": 4
 },
 "nbformat": 4,
 "nbformat_minor": 2
}
