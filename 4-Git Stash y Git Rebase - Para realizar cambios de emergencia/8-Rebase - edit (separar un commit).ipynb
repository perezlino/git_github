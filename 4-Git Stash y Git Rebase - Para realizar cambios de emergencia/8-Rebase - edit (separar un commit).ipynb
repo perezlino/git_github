{
 "cells": [
  {
   "attachments": {},
   "cell_type": "markdown",
   "metadata": {},
   "source": [
    "### **4.8 - Rebase - edit (separar un commit)**\n",
    "\n",
    "Separaremos el último commit en 2 o más\n",
    "\n",
    "___"
   ]
  },
  {
   "attachments": {},
   "cell_type": "markdown",
   "metadata": {},
   "source": [
    "** En el ejemplo la rama principal aparece como **master**, pero es la rama **main**. Los datos utilizados para el ejemplo venian configurados de esa manera"
   ]
  },
  {
   "attachments": {},
   "cell_type": "markdown",
   "metadata": {},
   "source": [
    "** No entendi cual es la diferencia y beneficios entre utilizar git rebase y no utilizarlo para separar un commit"
   ]
  },
  {
   "attachments": {},
   "cell_type": "markdown",
   "metadata": {},
   "source": [
    "#### Forma sin utilizar **git rebase**\n",
    "\n",
    "Vamos a comenzar directamente con un ejemplo sencillo donde vamos a modificar dos archivos y dichas modificaciones las vamos a lanzar en un solo commit. Modificaremos el archivo **`README.md`** y el archivo **`villanos.md`**\n",
    "\n",
    "Esta es la estructura original del archivo **`README.md`**\n",
    "\n",
    "<center><img src=\"https://i.postimg.cc/gkYHjnTH/gh211.png\"></center>\n",
    "\n",
    "Aqui mostramos las modificaciones del archivo **`README.md`** y para el archivo **`villanos.md`** agregamos un villano\n",
    "\n",
    "<center><img src=\"https://i.postimg.cc/K8j77CFK/gh212.png\"></center>\n",
    "\n",
    "Enviamos a **stage** y ejecutamos un unico commit que almacena ambos cambios\n",
    "\n",
    "<center><img src=\"https://i.postimg.cc/kgHQTwXT/gh213.png\"></center>\n",
    "\n",
    "Sin embargo, lo que buscamos es guardar ambas modificaciones en commits distintos. Utilizamos para el comando **`git reset --mixed d67022d`** para regresar en el tiempo al commit **`Update: Misiones completadas`** sin mantener las modificaciones en **stage**\n",
    "\n",
    "<center><img src=\"https://i.postimg.cc/YqbfWtcK/gh214.png\"></center>\n",
    "\n",
    "De esta manera, añadimos de manera separada las modificaciones al **stage** y geenramos commits separados\n",
    "\n",
    "<center><img src=\"https://i.postimg.cc/s2ZpqSMs/gh215.png\"></center>\n",
    "\n",
    "___"
   ]
  },
  {
   "attachments": {},
   "cell_type": "markdown",
   "metadata": {},
   "source": [
    "#### Forma utilizando **git rebase** ==> **git rebase -i HEAD~**\n",
    "\n",
    "Despues de haber modificado los archivos **`README.md`** y **`villanos.md`**, dichas modificadas se guardaran en **stage** y se ejecutaran en un mismo commit\n",
    "\n",
    "<center><img src=\"https://i.postimg.cc/Pf0DBygc/gh216.png\"></center>\n",
    "\n",
    "Vamos a utilizar el comando **`git rebase -i HEAD~1`** donde el número 1 corresponde al numero de commits que tomaremos para editar desde el último commit realizado (es decir, desde el **HEAD**). En este caso, tomará solo el commit del HEAD, el último commit\n",
    "\n",
    "<center><img src=\"https://i.postimg.cc/ZK3NZ3Zq/gh217.png\"></center>\n",
    "\n",
    "Despues de lanzar el comando, se nos abre una nueva pantalla que nos muestra el commit que buscamos editar, que corresponde al commit del HEAD o el último commit. Anteponemos una **e** de **edit** y luego para salir y guardar, pulsamos **esc** y **:wq** y **Enter**.\n",
    "\n",
    "<center><img src=\"https://i.postimg.cc/7ZnTJk58/gh218.png\"></center>"
   ]
  },
  {
   "attachments": {},
   "cell_type": "markdown",
   "metadata": {},
   "source": [
    "#### git reset HEAD^\n",
    "\n",
    "Estamos utilizando un rebase interactivo. Notar que el **HEAD** es el commit de hash **d67022d** y el commit **`commits`** es al cual le aplicamos el **rebase**.\n",
    "En este caso el comando **`git reset HEAD^`** funciona de igual manera que el comando **`git reset --mixed d67022d`**, es decir, volvemos en el tiempo hacia el commit de hash **d67022d** y las modificaciones se mantienen, pero no se encuentran en **stage**\n",
    "\n",
    "<center><img src=\"https://i.postimg.cc/DwTXzZyP/gh219.png\"></center>"
   ]
  },
  {
   "attachments": {},
   "cell_type": "markdown",
   "metadata": {},
   "source": [
    "#### git rebase --continue\n",
    "\n",
    "Luego de añadir las modificaciones y lanzar commits de manera separada, ejecutamos el comando **`git rebase --continue`** para finalizar el git rebase que lanzamos al principio.\n",
    "\n",
    "<center><img src=\"https://i.postimg.cc/fbWSxrd3/gh220.png\"></center>\n",
    "\n",
    "___"
   ]
  }
 ],
 "metadata": {
  "language_info": {
   "name": "python"
  },
  "orig_nbformat": 4
 },
 "nbformat": 4,
 "nbformat_minor": 2
}
