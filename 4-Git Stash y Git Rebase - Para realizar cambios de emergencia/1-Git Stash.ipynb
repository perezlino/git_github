{
 "cells": [
  {
   "attachments": {},
   "cell_type": "markdown",
   "metadata": {},
   "source": [
    "### **4.1 - Git Stash**\n",
    "\n",
    "___"
   ]
  },
  {
   "attachments": {},
   "cell_type": "markdown",
   "metadata": {},
   "source": [
    "#### **Git Stash**\n",
    "\n",
    "Es posible que nos pidan el despliegue de la rama main y ponerlo en producción, siendo que aún tenemos cambios que todavía no están listos para ser unidos al main.\n",
    "\n",
    "Entonces realmente hay cosas que nosotros deberíamos de acostumbrarnos a hacer. El Stash no debería ser necesario en ese caso si nosotros estamos trabajando con ramas, porque quiere decir que simplemente como estos cambios no están listos para ser unidos y yo estoy en una rama, simplemente me paso a la rama main y hago el respectivo trabajo ahí.\n",
    "\n",
    "Pero digamos que por alguna razón yo estoy trabajando en la rama o inclusive puede ser la rama main u otra rama y yo necesito realizar algún cambio, pero me piden desplegar la rama de inmediato y por tanto debo deshacer todos los cambios que tengo, pero no quiero perderlos. ¿Qué puedo hacer en ese caso? Podríamos colocarlos en algún lugar especial, para yo hacer alguna modificación, resolver el incendio y luego continuar trabajando en donde me quede. Y para eso es el git stash.\n",
    "\n",
    "____"
   ]
  },
  {
   "attachments": {},
   "cell_type": "markdown",
   "metadata": {},
   "source": [
    "#### **git stash**\n",
    "\n",
    "En la rama **`main`** vamos a modificar el archivo **`misiones.md`** y guardamos los cambios, pero mantenemos las modificaciones **`untracked (sin seguimiento)`** \n",
    "\n",
    "<center><img src=\"https://i.postimg.cc/28V6qZM4/gh154.png\"></center>\n",
    "\n",
    "Luego, al utilizar el comando **`git stash`** guardamos en una **\"caja\"** las modificaciones que acabamos de realizar y volvemos al estado que teniamos en el último commit hecho.\n",
    "\n",
    "<center><img src=\"https://i.postimg.cc/1RWX5HCm/gh153.png\"></center>\n",
    "\n",
    "Si ejecutamos el comando **`git status`** podemos ver que se apareció un **commit** que nos muestra que llamamos a esta **\"caja\"** que guarda las modificaciones\n",
    "\n",
    "<center><img src=\"https://i.postimg.cc/9Q9QbjW0/gh155.png\"></center>\n",
    "\n",
    "____"
   ]
  },
  {
   "attachments": {},
   "cell_type": "markdown",
   "metadata": {},
   "source": [
    "#### **git stash list**\n",
    "\n",
    "Utilizamos el comando **`git stash list`** si queremos saber todo el Work in progreess (WIP) que tenemos. Podemos tener la cantidad que queramos de stashes. La idea es que cuando retomemos el trabajo que guardemos en una **\"caja\"** eliminemos el stash del cual jalamos los cambios\n",
    "\n",
    "<center><img src=\"https://i.postimg.cc/c42JfJGP/gh156.png\"></center>\n",
    "\n",
    "____"
   ]
  },
  {
   "attachments": {},
   "cell_type": "markdown",
   "metadata": {},
   "source": [
    "#### **git stash pop**\n",
    "\n",
    "**¿Como hacemos para recuperar esos cambios que teníamos en el stash?** \n",
    "\n",
    "Al utilizar el comando **`git stash pop`** logramos lo siguiente:\n",
    "\n",
    "1.\tExtraer el ultimo elemento de la lista de stash\n",
    "2.\tExtraer del stash todos los cambios que estaban pendientes\n",
    "3.\tEliminar el stash de la lista de stash\n",
    "4.\tRecuperar las modificaciones como las habíamos dejado en el momento que creamos el stash\n",
    "\n",
    "Para ejemplificarlo, si recordamos nosotros comenzamos trabajando en la rama **`main`** y comenzamos modificando el archivo **`misiones.md`**. Luego, jefatura, nos pidio que dejaramos esos cambios **`PARA DESPUES`** y que **`AHORA`** modificaramos en la rama **`main`** el archivo **`README.md`** y que desplegaramos esos cambios.\n",
    "\n",
    "Inicialmente este era el estado del archivo **`README.md`**\n",
    "\n",
    "<center><img src=\"https://i.postimg.cc/25f8XX6w/gh157.png\"></center>\n",
    "\n",
    "Y lo modificamos\n",
    "\n",
    "<center><img src=\"https://i.postimg.cc/k5FXrFRd/gh158.png\"></center>\n",
    "\n",
    "Ya despues enviamos las modificaciones al **stage** y ejecutamos el commit. Podemos revisar el log de commits que tenemos hasta el momento\n",
    "\n",
    "<center><img src=\"https://i.postimg.cc/LXx959VC/gh159.png\"></center>\n",
    "\n",
    "Ya despues de haber realizado lo pedido por jefatura, podemos continuar neustro trabajo de modificación en el archivo **`misiones.md`**. Para ello vamos a hacer uso del comando **`git stash pop`** el cual llamará al último **stash** de la lista de stashes (en nuestro ejemplo es el unico que tenemos)\n",
    "\n",
    "<center><img src=\"https://i.postimg.cc/LX94mYjg/gh160.png\"></center>\n",
    "\n",
    "Podemos ver en el archivo **`misiones.md`** recuperamos las modificaciones que habiamos guardado en la **\"caja\"** y en el log de commits podemos ver que el commit que se habia lanzado al llamar el stash ya no está\n",
    "\n",
    "<center><img src=\"https://i.postimg.cc/7hbxTFsx/gh161.png\"></center>\n",
    "\n",
    "Finalmente, podemos agregar al **`stage`** las modificaciones recuperadas que habiamos realizado para el archivo **`misiones.md`** y ejecutamos un commit\n",
    "\n",
    "<center><img src=\"https://i.postimg.cc/T1STjtFn/gh162.png\"></center>\n",
    "\n",
    "____"
   ]
  }
 ],
 "metadata": {
  "language_info": {
   "name": "python"
  },
  "orig_nbformat": 4
 },
 "nbformat": 4,
 "nbformat_minor": 2
}
