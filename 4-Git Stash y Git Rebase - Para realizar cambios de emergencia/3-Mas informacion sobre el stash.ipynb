{
 "cells": [
  {
   "attachments": {},
   "cell_type": "markdown",
   "metadata": {},
   "source": [
    "### **4.3 - Más información sobre el stash**\n",
    "\n",
    "___"
   ]
  },
  {
   "attachments": {},
   "cell_type": "markdown",
   "metadata": {},
   "source": [
    "#### **git stash** o **git stash save**\n",
    "#### **git stash apply**\n",
    "\n",
    "1. Los comandos **`git stash`** y **`git stash save`** relizan lo mismo\n",
    "2. El comando **`git stash apply`** realiza lo mismo que el comando **`git stash pop`** con la diferencia que este último después de restaurar el último stash, lo elimina de la lista de stashes y **`git stash apply`** no lo hace\n",
    "\n",
    "<center><img src=\"https://i.postimg.cc/Gt1RGrR1/gh172.png\"></center>\n",
    "\n",
    "___"
   ]
  },
  {
   "attachments": {},
   "cell_type": "markdown",
   "metadata": {},
   "source": [
    "#### **git stash list**\n",
    "#### **git stash apply stash@{}**\n",
    "\n",
    "<center><img src=\"https://i.postimg.cc/FzMw2XGH/gh173.png\"></center>\n",
    "\n",
    "____"
   ]
  },
  {
   "attachments": {},
   "cell_type": "markdown",
   "metadata": {},
   "source": [
    "#### **git stash drop**\n",
    "#### **git stash drop stash@{}**\n",
    "\n",
    "1. Con el comando **`git stash drop`** eliminamos la primera entrada que tengamos en la lista de stashes. Esto quiere decir, que si utilizamos este comando eliminariamos el **`stash{0}`**\n",
    "2. Si queremos eliminar un stash en especifico utilizamos el mismo comando y le sumamos el stash que queramos eliminar, de la siguiente manera: **`git stash drop stash@{2}`**, en el caso que querramos eliminar el stash 2 \n",
    "\n",
    "<center><img src=\"https://i.postimg.cc/zD4BJLcV/gh174.png\"></center>\n",
    "\n",
    "___"
   ]
  },
  {
   "attachments": {},
   "cell_type": "markdown",
   "metadata": {},
   "source": [
    "#### **Formas rápidas de trabajar con el stash**\n",
    "\n",
    "1. Los comandos **`git stash`** y **`git stash save`** realizan lo mismo\n",
    "2. El comando **`git stash apply`**  y **`git stash apply stash@{0}`** realizan lo mismo\n",
    "3. El comando **`git stash drop`**  y **`git stash drop stash@{0}`** realizan lo mismo\n",
    "4. El comando **`git stash pop`** es lo mismo que utilizar **`git stash apply`** y **`git stash drop`** juntos\n",
    "\n",
    "<center><img src=\"https://i.postimg.cc/jdNjCspv/gh175.png\"></center>\n",
    "\n",
    "___"
   ]
  },
  {
   "attachments": {},
   "cell_type": "markdown",
   "metadata": {},
   "source": [
    "#### **git stash save --keep-index**\n",
    "#### **git stash save --include-untracked**\n",
    "\n",
    "- El comando **`git stash save --keep-index`** guarda todo menos los archivos en **stage**\n",
    "- El comando **`git stash save --include-untracked`** incluye todos los archivos, juntos a los que git no le da seguimiento\n",
    "\n",
    "<center><img src=\"https://i.postimg.cc/TPkdBhb2/gh176.png\"></center>\n",
    "\n",
    "___"
   ]
  },
  {
   "attachments": {},
   "cell_type": "markdown",
   "metadata": {},
   "source": [
    "#### **git stash list --stat**\n",
    "\n",
    "Visualizar información del stash\n",
    "\n",
    "<center><img src=\"https://i.postimg.cc/DZ8vhFQr/gh177.png\"></center>\n",
    "\n",
    "___"
   ]
  },
  {
   "attachments": {},
   "cell_type": "markdown",
   "metadata": {},
   "source": [
    "#### **git show stash**\n",
    "#### **git show stash@{}**\n",
    "\n",
    "Visualizar información detallada del stash\n",
    "\n",
    "<center><img src=\"https://i.postimg.cc/vZsZVJMy/gh178.png\"></center>\n",
    "\n",
    "___"
   ]
  },
  {
   "attachments": {},
   "cell_type": "markdown",
   "metadata": {},
   "source": [
    "#### **git stash save \"descripcion\"**\n",
    "\n",
    "Agregar un mensaje decriptivo al momento de crear un stash\n",
    "\n",
    "<center><img src=\"https://i.postimg.cc/L836Bx61/gh179.png\"></center>\n",
    "\n",
    "___"
   ]
  },
  {
   "attachments": {},
   "cell_type": "markdown",
   "metadata": {},
   "source": [
    "#### **git stash clear**\n",
    "\n",
    "Borra todas las entradas en el stash\n",
    "\n",
    "<center><img src=\"https://i.postimg.cc/Pqff61PF/gh180.png\"></center>\n",
    "\n",
    "___"
   ]
  }
 ],
 "metadata": {
  "language_info": {
   "name": "python"
  },
  "orig_nbformat": 4
 },
 "nbformat": 4,
 "nbformat_minor": 2
}
