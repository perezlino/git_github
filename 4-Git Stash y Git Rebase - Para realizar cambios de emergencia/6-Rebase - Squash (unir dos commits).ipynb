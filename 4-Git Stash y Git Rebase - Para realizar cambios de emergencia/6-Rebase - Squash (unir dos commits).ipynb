{
 "cells": [
  {
   "attachments": {},
   "cell_type": "markdown",
   "metadata": {},
   "source": [
    "### **4.6 - Rebase - Squash (unir dos commits)**\n",
    "\n",
    "Una forma de fusionar commits en uno\n",
    "\n",
    "___"
   ]
  },
  {
   "attachments": {},
   "cell_type": "markdown",
   "metadata": {},
   "source": [
    "** En el ejemplo la rama principal aparece como **master**, pero es la rama **main**. Los datos utilizados para el ejemplo venian configurados de esa manera"
   ]
  },
  {
   "attachments": {},
   "cell_type": "markdown",
   "metadata": {},
   "source": [
    "#### **git rebase -i HEAD~**\n",
    "\n",
    "Si quisiéramos modificar o unificar commits que estén más abajo (es decir, más antiguos) podríamos trabajarlos con un rebase interactivo, pero honestamente deberían de pensar que el rebase interactivo va a funcionar o deberían de trabajarlo únicamente si sus cambios están todavía local en su equipo. Pero si ustedes ya hicieron pushes, lo ideal es que si ya hicieron push eso que se quede así ya es parte de la historia. Otra persona pudo haberlo descargado y podemos generar conflictos de manera innecesaria que alguien va a tener que resolver.\n",
    "\n",
    "Entonces el rebase, especialmente las correcciones de nombres o uniones o separaciones, que es lo que vamos a ver pronto, traten de hacerlo únicamente si y sólo si sus modificaciones no han salido de su computadora, entonces ahí sí funciona super bien. Si no, ustedes pueden caer en el hecho de caer en conflictos que alguien más va a tener que resolver y nuevamente no queremos.\n",
    "\n",
    "Pero no procuren, no traten de irse a la historia de hace 4 años y cambiarla solo porque falta un punto o porque está mal escrito algo, bueno, eso tal vez si se puede hacer sin ningún inconveniente, pero nuevamente procuren no hacer esas modificaciones o no hacer modificaciones históricas tan fuertes.\n",
    "\n",
    "Para empezar nos encontramos en la rama **`main`** y veremos el log de commits\n",
    "\n",
    "<center><img src=\"https://i.postimg.cc/3rsyQLcz/gh195.png\"></center>\n",
    "\n",
    "Desde el archivo **`misiones.md`** vamos a copiar el punto 6. y lo vamos a pegar en el archivo **`misiones-completadas.md`** y guardamos todo\n",
    "\n",
    "<center><img src=\"https://i.postimg.cc/5N8X4Bcy/gh196.png\"></center>\n",
    "<center><img src=\"https://i.postimg.cc/GmrHH4rQ/gh197.png\"></center>\n",
    "\n",
    "Añadimos la modificación del archivo **`misiones-completadas.md`** al **stage** y ejecutamos un commit. Sin embargo, vemos que el commit anterior al que acabamos de realizar, también se enfoc+o en realizar modificaciones al archivo **`misiones-completadas.md`**. Podriamos dejar las modificaciones de este commit y del último commit en un solo commit. \n",
    "\n",
    "<center><img src=\"https://i.postimg.cc/sgc1S3gR/gh198.png\"></center>"
   ]
  },
  {
   "attachments": {},
   "cell_type": "markdown",
   "metadata": {},
   "source": [
    "Una de las variadas opciones que existen es **`UNIR AMBOS COMMITS`** y eso es lo que vamos a hacer. Vamos a ejecutar el comando **`git rebase -i HEAD~2`**, donde el número 2 corresponde al numero de commits que tomaremos para unir desde el último commit realizado (es decir, desde el **HEAD**)\n",
    "\n",
    "<center><img src=\"https://i.postimg.cc/Px0v5htn/gh199.png\"></center>\n",
    "\n",
    "Despues de lanzar el comando, se nos abre una nueva pantalla que nos muestra los 2 commits que buscamos unir\n",
    "\n",
    "<center><img src=\"https://i.postimg.cc/Hn5cJKxc/gh200.png\"></center>\n",
    "\n",
    "Anteponemos una **s** al último commit, de esta manera tomará ambos commits. En el caso de que sean 3 commits los que necesitamos unir, deberiamos anteponer una **s** en el último y penúltimo commit. Para salir y guardar, pulsamos **esc** y **:wq** y **Enter**.\n",
    "\n",
    "<center><img src=\"https://i.postimg.cc/5NdFcx7w/gh201.png\"></center>\n",
    "\n",
    "Se nos abrirá una nueva pantalla que nos muestra los mensaje de ambos commits. Aqui es donde editamos el mensaje que llevará el commit que unira ambos\n",
    "\n",
    "<center><img src=\"https://i.postimg.cc/c4Rt0V2P/gh202.png\"></center>\n",
    "\n",
    "Para comenzar a modificar debemos presionar una letra, por ejemplo, la a y luego borramos ambos y escribimos un nuevo nombre para el commit\n",
    "\n",
    "<center><img src=\"https://i.postimg.cc/pVnn19ZW/gh203.png\"></center>\n",
    "\n",
    "Y revisando el log de commits podemos verificar que ahora tenemos solo un commit. La union se realizó de manera correcta\n",
    "\n",
    "<center><img src=\"https://i.postimg.cc/BnJL6mGb/gh204.png\"></center>\n",
    "\n",
    "___\n"
   ]
  }
 ],
 "metadata": {
  "language_info": {
   "name": "python"
  },
  "orig_nbformat": 4
 },
 "nbformat": 4,
 "nbformat_minor": 2
}
