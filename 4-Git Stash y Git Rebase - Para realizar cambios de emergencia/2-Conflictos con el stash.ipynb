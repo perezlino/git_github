{
 "cells": [
  {
   "attachments": {},
   "cell_type": "markdown",
   "metadata": {},
   "source": [
    "### **4.2 - Conflictos con el stash**\n",
    "\n",
    "Es posible que nos encontremos con conflictos con la unión de un stash\n",
    "___"
   ]
  },
  {
   "attachments": {},
   "cell_type": "markdown",
   "metadata": {},
   "source": [
    "#### **Resolver conflicto al modificar un mismo archivo**\n",
    "\n",
    "En la rama **`main`** nos encontramos modificando el archivo **`README.md`** y se nos pide postergar esos cambios para después. Jefatura nos pide modificar el mismo archivo de una forma especifica y desplegarlo de manera inmediata, dado que es de suma urgencia este cambio que se ha sugerido por jefatura.\n",
    "\n",
    "Para empezar, para no perder nuestro avance de nuestras modificaciones previas, vamos a guardar los cambios y luego a utilizar el comando **`git stash`** pero manteniendo las modificaciones **`untracked (sin seguimiento)`**. \n",
    "\n",
    "Este es el archivo **`README.md`** sin modificación alguna\n",
    "\n",
    "<center><img src=\"https://i.postimg.cc/j5vdTYcR/gh163.png\"></center>\n",
    "\n",
    "Esta es nuestra modificación que debemos guardar en **stash**\n",
    "\n",
    "<center><img src=\"https://i.postimg.cc/KjzcvppB/gh164.png\"></center>\n",
    "\n",
    "Ejecutamos el comando **`git stash`** y revisamos el log de commits\n",
    "\n",
    "<center><img src=\"https://i.postimg.cc/hG1K8RHV/gh165.png\"></center>\n",
    "\n",
    "Ahora, procedemos a modificar el archivo **`README.md`** según como nos pidió Jefatura y luego la modificacion la enviamos a **stage** y luego ejecutamos un comit\n",
    "\n",
    "<center><img src=\"https://i.postimg.cc/YCgr9WRn/gh166.png\"></center>\n",
    "\n",
    "Después de haber realizado la tarea de emergencia pedida, vamos a continuar nuestro trabajo pendiente. Para ello utilizamos el comando **`git stash pop`** para recuperar los cambios que habiamos postergado para despues. Sin embargo, se genera un conflicto. Expliquemos la causa:\n",
    "\n",
    "- En un principio estabamos realizando modificaciones al archivo **`README.md`**\n",
    "- Luego nuestro avance lo guardamos en una **\"caja\" stash** para trabajarlo despues\n",
    "- Jefatura nos pidio modificar **`README.md`**\n",
    "- Luego de modificar el archivo segun nos pidio Jefatura, llamamos a nuestro avance que habiamos guardado\n",
    "- Se generan conflictos de esos antiguos avances con las modificaciones realizadas para Jefatura\n",
    "- Especificamente se genera un conflicto en el titulo \n",
    "\n",
    "Podemos utilizar las opciones que nos brinda VSCode para solucionarlo o manualmente. Optaremos por la opción **`Aceptar cambio entrante`**\n",
    "\n",
    "<center><img src=\"https://i.postimg.cc/nrPFsKN5/gh167.png\"></center>\n",
    "\n",
    "Guardamos dichos cambios, los enviamos al **stage** y ejecutamos un commit\n",
    "\n",
    "<center><img src=\"https://i.postimg.cc/ZKWYGgdh/gh168.png\"></center>\n",
    "\n",
    "Sin embargo, si revisamos el log de commits, podemos ver que nuestro ultimo se almaceno de manera correcta, pero el commit que se genera al utilizar un stash aún nos aparece y deberia desaparecer luego de llamar a dicho stash por medio del comando **`git stash pop`**\n",
    "\n",
    "<center><img src=\"https://i.postimg.cc/MKgZqD7f/gh169.png\"></center>\n",
    "\n",
    "____"
   ]
  },
  {
   "attachments": {},
   "cell_type": "markdown",
   "metadata": {},
   "source": [
    "#### **git stash drop**\n",
    "\n",
    "Si revisamos la lista de stashes con el comando **`git stash list`** vemos que aún aparece el stash que ya utilizamos. Vamos a eliminarlo utilizando el comando **`git stash drop`**\n",
    "\n",
    "<center><img src=\"https://i.postimg.cc/WpWbfjtn/gh170.png\"></center>\n",
    "\n",
    "Si volvemos a revisar el log de commits, vemos que ya desapareció el commit del stash\n",
    "\n",
    "<center><img src=\"https://i.postimg.cc/Y92MbyHZ/gh171.png\"></center>\n",
    "\n",
    "____"
   ]
  }
 ],
 "metadata": {
  "language_info": {
   "name": "python"
  },
  "orig_nbformat": 4
 },
 "nbformat": 4,
 "nbformat_minor": 2
}
