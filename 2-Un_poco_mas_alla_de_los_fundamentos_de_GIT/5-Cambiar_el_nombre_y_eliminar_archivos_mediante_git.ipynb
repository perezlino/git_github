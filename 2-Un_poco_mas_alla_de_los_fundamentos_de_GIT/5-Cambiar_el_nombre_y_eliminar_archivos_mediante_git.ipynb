{
 "cells": [
  {
   "attachments": {},
   "cell_type": "markdown",
   "metadata": {},
   "source": [
    "### **2.5 - Cambiar el nombre y eliminar archivos mediante git**\n",
    "\n",
    "Aprenderemos a eliminar y cambiar el nombre a los archivos desde Git\n",
    "___"
   ]
  },
  {
   "attachments": {},
   "cell_type": "markdown",
   "metadata": {},
   "source": [
    "#### Comando **git mv <nombre_archivo> <nuevo_nombre_archivo>**\n",
    "\n",
    "En el directorio **`demo_04`** agregamos el archivo **`destruir_mundo.md`**, y ejecutamos un commit. \n",
    "\n",
    "<center><img src=\"https://i.postimg.cc/bvRtFsNG/gh96.png\"></center>\n",
    "\n",
    "Sin embargo, vamos a modificar el nombre de este archivo utilizando el comando **`git mv destruir_mundo.md salvar_mundo`** y luego ejecutamos el commit\n",
    "\n",
    "<center><img src=\"https://i.postimg.cc/k4XbrqBT/gh97.png\"></center>"
   ]
  },
  {
   "attachments": {},
   "cell_type": "markdown",
   "metadata": {},
   "source": [
    "#### Comando **git rm <nombre_archivo>**\n",
    "\n",
    "Ahora vamos a eliminar el archivo **`salvar_mundo.md`** y eso lo vamos a hacer utilizando el comando **`git rm salvar_mundo`**, para luego ejecutar el commit\n",
    "\n",
    "<center><img src=\"https://i.postimg.cc/NMJrBSXB/gh98.png\"></center>"
   ]
  },
  {
   "attachments": {},
   "cell_type": "markdown",
   "metadata": {},
   "source": [
    "#### Comando **git reset --hard**\n",
    "\n",
    "Podriamos utilizar el comando **`git reset --hard`** para recuperar el archivo eliminado antes de ejecutar el commit.\n",
    "\n",
    "Por ejemplo, eliminamos el archivo **`salvar_mundo.md`**\n",
    "\n",
    "<center><img src=\"https://i.postimg.cc/SKWccgMp/gh99.png\"></center>\n",
    "\n",
    "Ejecutamos el comando **`git rm salvar_mundo`** y aún no usamos el commit\n",
    "\n",
    "<center><img src=\"https://i.postimg.cc/zB8K7TCH/gh100.png\"></center>\n",
    "\n",
    "Para recuperar el archivo podemos utilizar el comando **`git reset --hard`**\n",
    "\n",
    "<center><img src=\"https://i.postimg.cc/Qtm5yVm4/gh101.png\"></center>\n",
    "\n",
    "___"
   ]
  }
 ],
 "metadata": {
  "language_info": {
   "name": "python"
  },
  "orig_nbformat": 4
 },
 "nbformat": 4,
 "nbformat_minor": 2
}
