{
 "cells": [
  {
   "attachments": {},
   "cell_type": "markdown",
   "metadata": {},
   "source": [
    "### **2.3 - Preparando un repositorio para viajes en el tiempo**\n",
    "\n",
    "___"
   ]
  },
  {
   "attachments": {},
   "cell_type": "markdown",
   "metadata": {},
   "source": [
    "#### Comando **git commit**\n",
    "\n",
    "Para el directorio **`demo_04`** agregamos un nuevo archivo **`README.md`**, para el cual esta vez al momento de ejecutar el commit, ejecutaremos **`git commit`** sin el **-m**.\n",
    "\n",
    "<center><img src=\"https://i.postimg.cc/mg1V9YRN/gh76.png\"></center>\n",
    "\n",
    "Se nos devuelve una pantalla donde podemos ingresar el nombre del commit\n",
    "\n",
    "<center><img src=\"https://i.postimg.cc/CKy7sRxy/gh77.png\"></center>\n",
    "<center><img src=\"https://i.postimg.cc/MGyDPznn/gh78.png\"></center>\n",
    "\n",
    "Finalmente, para salir pulsamos **`esc`** y **`:wq`** (guardar (w) y salir (q))\n",
    "\n",
    "<center><img src=\"https://i.postimg.cc/8cCmzWtv/gh79.png\"></center>"
   ]
  },
  {
   "attachments": {},
   "cell_type": "markdown",
   "metadata": {},
   "source": [
    "#### Comando **git commit --amend**\n",
    "\n",
    "Para el directorio **`demo_04`** agregamos nuevos 3 archivos y un directorio con 2 archivos, a los cuales ejecutaremos el **commit** de manera individual\n",
    "\n",
    "<center><img src=\"https://i.postimg.cc/tRrzmS4N/gh80.png\"></center>\n",
    "\n",
    "Podemos visualizar que hasta el momento llevamos 5 commits. Sin embargo, nos equivamos en el nombre del último commit y queremos modificarlo.\n",
    "\n",
    "<center><img src=\"https://i.postimg.cc/Qthqvv70/gh81.png\"></center>\n",
    "\n",
    "Podemos utilizar el comando **`git commit --amend`**\n",
    "\n",
    "<center><img src=\"https://i.postimg.cc/wv2kzFcH/gh82.png\"></center>\n",
    "\n",
    "Se nos devuelve una pantalla donde nos aparece el nombre del último commit\n",
    "\n",
    "<center><img src=\"https://i.postimg.cc/PrPMGWLs/gh83.png\"></center>\n",
    "\n",
    "Para modificarlo no estoy seguro si hay que pulsar primero:\n",
    "\n",
    "- Al principio del nombre, cualquier letra del teclado\n",
    "- Ctrl + c\n",
    "- Pulsar la tecla 'Fin'\n",
    "\n",
    "Yo utilice las dos últimas y pude modificar el nombre. Luego finalmente, pulsamos **`esc`** y **`:wq`** para guardar (w) y salir (q)\n",
    "\n",
    "<center><img src=\"https://i.postimg.cc/GtSJ8255/gh84.png\"></center>\n",
    "\n",
    "Vemos que modificamos el nombre del commit (en realidad no se modificó, se creó un nuevo commit, nos podemos fijar en el HASH del commit)\n",
    "\n",
    "<center><img src=\"https://i.postimg.cc/yYty7D9J/gh85.png\"></center>"
   ]
  }
 ],
 "metadata": {
  "language_info": {
   "name": "python"
  },
  "orig_nbformat": 4
 },
 "nbformat": 4,
 "nbformat_minor": 2
}
