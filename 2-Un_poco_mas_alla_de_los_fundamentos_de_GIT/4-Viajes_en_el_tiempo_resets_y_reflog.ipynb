{
 "cells": [
  {
   "attachments": {},
   "cell_type": "markdown",
   "metadata": {},
   "source": [
    "### **2.4 - Viajes en el tiempo, resets y reflog**\n",
    "\n",
    "Vamos a realizar una serie de viajes en el tiempo, realizaremos destrucciones, restauraciones y luego volveremos a dejar todo como estaba originalmente.\n",
    "___"
   ]
  },
  {
   "attachments": {},
   "cell_type": "markdown",
   "metadata": {},
   "source": [
    "#### Comando **git reset --soft hash_previo_al_ultimo_commit**\n",
    "\n",
    "##### Caso 1\n",
    "\n",
    "- **Utilizaremos el penúltimo hash**\n",
    "\n",
    "En el directorio **`demo_04`** editamos el archivo **`README.md`**, y ejecutamos un commit. \n",
    "\n",
    "<center><img src=\"https://i.postimg.cc/524G8pbC/gh86.png\"></center>\n",
    "\n",
    "También editamos el archivo **`heroes.md`** y ejecutamos un commit\n",
    "\n",
    "<center><img src=\"https://i.postimg.cc/RZgYdfZb/gh87.png\"></center>\n",
    "\n",
    "Visualizamos los commits que hemos realizado. Ahora, nos acordamos que nos faltó agregar un heroe en el archivo **`heroes`** y ejecutarlo en el último commit. Podemos recordar que para ello podemos utilizar el comando **`git reset --soft HEAD^`** que nos permite eliminar el último commit (eliminar no es la palabra, si no, se mueve en el tiempo y nos posiciona en el penúltimo commit como actual). Sin embargo, existe un análogo a ese comando, que es el mismo comando pero utilizando el **hash** previo al último commit. De esta manera eliminamos el último commit\n",
    "\n",
    "En resumen, esto nos permite: \n",
    "\n",
    "- Eliminar el último commit (eliminar no es la palabra, si no, se mueve en el tiempo y nos posiciona en el penúltimo commit como actual)\n",
    "- Las modificaciones realizadas después de ese commit **se mantienen**\n",
    "- Las modificaciones **se mantienen en** **`stage`**\n",
    "\n",
    "<center><img src=\"https://i.postimg.cc/DzVxBgK6/gh88.png\"></center>\n",
    "\n",
    "Modficamos el archivo **`heroes.md`** y agregamos un heroe y ejecutamos un commit\n",
    "\n",
    "<center><img src=\"https://i.postimg.cc/Cdpx1XqX/gh89.png\"></center>\n",
    "\n",
    "___"
   ]
  },
  {
   "attachments": {},
   "cell_type": "markdown",
   "metadata": {},
   "source": [
    "#### Comando **git reset --soft hash_previo_al_ultimo_commit**\n",
    "\n",
    "##### Caso 2\n",
    "\n",
    "- **Utilizaremos el antepenúltimo hash**\n",
    "\n",
    "Si utilizamos el comando **`git reset --soft 9e7fade`** usando el **hash del tercer commit**. Esto nos permite: \n",
    "\n",
    "- Eliminar los dos últimos commits (eliminar no es la palabra, si no, se mueve en el tiempo y nos posiciona en el antepenúltimo commit como actual)\n",
    "- Las modificaciones realizadas después de ese commit **se mantienen**\n",
    "- Las modificaciones **se mantienen en** **`stage`**\n",
    "\n",
    "<center><img src=\"https://i.postimg.cc/m22Sbr4Q/gh90.png\"></center>\n",
    "\n",
    "___"
   ]
  },
  {
   "attachments": {},
   "cell_type": "markdown",
   "metadata": {},
   "source": [
    "#### Comando **git reset --mixed hash_previo_al_ultimo_commit**\n",
    "\n",
    "##### Caso 1\n",
    "\n",
    "- **Utilizaremos el antepenúltimo hash**\n",
    "\n",
    "Si utilizamos el comando **`git reset --mixed 9e7fade`** usando el **hash del tercer commit**. Esto nos permite: \n",
    "\n",
    "- Eliminar los dos últimos commits (eliminar no es la palabra, si no, se mueve en el tiempo y nos posiciona en el antepenúltimo commit como actual)\n",
    "- Las modificaciones realizadas después de ese commit **se mantienen**\n",
    "- Las modificaciones **no se mantienen en** **`stage`**\n",
    "\n",
    "<center><img src=\"https://i.postimg.cc/VsMjmb2r/gh91.png\"></center>\n",
    "\n",
    "___"
   ]
  },
  {
   "attachments": {},
   "cell_type": "markdown",
   "metadata": {},
   "source": [
    "#### Comando **git reset --hard hash_previo_al_ultimo_commit**\n",
    "\n",
    "##### Caso 1\n",
    "\n",
    "- **Utilizaremos el antepenúltimo hash**\n",
    "\n",
    "Si utilizamos el comando **`git reset --hard 9e7fade`** usando el **hash del tercer commit**. Esto nos permite: \n",
    "\n",
    "- Eliminar los dos últimos commits (eliminar no es la palabra, si no, se mueve en el tiempo y nos posiciona en el antepenúltimo commit como actual)\n",
    "- Las modificaciones realizadas después de ese commit **no se mantienen**\n",
    "- Las modificaciones **no se mantienen en** **`stage`**\n",
    "\n",
    "<center><img src=\"https://i.postimg.cc/qMpVG2T2/gh92.png\"></center>\n",
    "\n",
    "Aplicamos el comando **`git reset --hard 9e7fade`**\n",
    "\n",
    "<center><img src=\"https://i.postimg.cc/MpGCCxXT/gh93.png\"></center>\n",
    "\n",
    "___"
   ]
  },
  {
   "attachments": {},
   "cell_type": "markdown",
   "metadata": {},
   "source": [
    "#### Comando **git reflog**\n",
    "#### Comando **git reset --hard hash_historico**\n",
    "\n",
    "Todo el historial de commits realizados quedan registrados y los podemos visualizar utilizando el comando **`git reflog`**\n",
    "\n",
    "Si utilizamos el comando **`git reset --hard 768ac6c`** usando el **hash que correspondia al último commit que habiamos realizado originalmente**, nos permite: \n",
    "\n",
    "- Recuperar los dos últimos commits (Nos mueve en el tiempo y nos posiciona en lo que era nuestro último commit originalmente)\n",
    "- Recuperamos todas las modificaciones, tal cual, nos encontrabamos hasta ese momento\n",
    "\n",
    "<center><img src=\"https://i.postimg.cc/fTZy0HRs/gh94.png\"></center>\n",
    "\n",
    "Ejecutamos el comando **`git reset --hard 768ac6c`**\n",
    "\n",
    "<center><img src=\"https://i.postimg.cc/7ZZLKfzQ/gh95.png\"></center>\n",
    "\n",
    "___"
   ]
  }
 ],
 "metadata": {
  "language_info": {
   "name": "python"
  },
  "orig_nbformat": 4
 },
 "nbformat": 4,
 "nbformat_minor": 2
}
