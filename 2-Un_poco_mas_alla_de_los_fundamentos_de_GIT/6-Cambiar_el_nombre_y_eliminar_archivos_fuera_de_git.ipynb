{
 "cells": [
  {
   "attachments": {},
   "cell_type": "markdown",
   "metadata": {},
   "source": [
    "### **2.6 - Cambiar el nombre y eliminar archivos fuera de git**\n",
    "\n",
    "Vamos a realizar un trabajo de eliminar y renombrar fuera de Git y como podemos hacer para que Git se de cuenta de esos cambios\n",
    "___"
   ]
  },
  {
   "attachments": {},
   "cell_type": "markdown",
   "metadata": {},
   "source": [
    "#### **Cambiar nombre desde VSCode**\n",
    "\n",
    "En el directorio **`demo_04`** vamos a cambiar el nombre del archivo **`superman.historia.md`** a **`superman.md`** desde VSCode (pulsando sobre el nombre y \"Cambiar nombre\")\n",
    "\n",
    "<center><img src=\"https://i.postimg.cc/zBzH2DYG/gh102.png\"></center>\n",
    "\n",
    "Al realizar la modificacion del nombre por medio de VSCode se generan dos cambios que **`debemos enviar a stage`** para luego salvarlos en un commit:\n",
    "\n",
    "- **deleted: historia/superman.historia.md** (git nos dice que se eliminó el archivo)\n",
    "- **historia/superman.md** (git nos dice que se agregó un nuevo archivo)\n",
    "\n",
    "#### Caso 1\n",
    "\n",
    "Lo que hicimos aqui fue enviar al **`stage`** solo el cambio **historia/superman.md** y luego ejecutamos un commit. Quedando el cambio **deleted: historia/superman.historia.md** sin seguimiento (**untracked**). Eso es incorrecto. ¿Pero como podemos enviar al stage a un cambio **deleted**?\n",
    "\n",
    "<center><img src=\"https://i.postimg.cc/ZRwBGkJF/gh103.png\"></center>\n",
    "\n",
    "#### Caso 2\n",
    "\n",
    "En este caso, enviamos el cambio **deleted: historia/superman.historia.md** con el comando **`git add -u`** y luego el cambio **historia/superman.md** lo añadimos al **`stage`** de forma normal. Finalmente ejecutamos el commit y todo quedo en regla\n",
    "\n",
    "<center><img src=\"https://i.postimg.cc/d3DkvW1M/gh104.png\"></center>\n",
    "\n",
    "___"
   ]
  },
  {
   "attachments": {},
   "cell_type": "markdown",
   "metadata": {},
   "source": [
    "#### **Eliminar un archivo desde VSCode**\n",
    "\n",
    "En el directorio **`demo_04`** vamos a eliminar el archivo **`batman.historia.md`**:\n",
    "\n",
    "<center><img src=\"https://i.postimg.cc/2jQGcGbH/gh105.png\"></center>\n",
    "\n",
    "Al realizar la eliminación del archivo por medio de VSCode se genera un cambio que **`debemos enviar a stage`** para luego salvarlo en un commit:\n",
    "\n",
    "- **deleted: historia/batman.historia.md** (git nos dice que se eliminó el archivo)\n",
    "\n",
    "En este caso, enviamos el cambio **deleted: historia/batman.historia.md** con el comando **`git add -u`** al **`stage`**. Luego, ejecutamos el commit\n",
    "\n",
    "<center><img src=\"https://i.postimg.cc/dtJBzCGJ/gh106.png\"></center>\n",
    "\n",
    "___"
   ]
  }
 ],
 "metadata": {
  "language_info": {
   "name": "python"
  },
  "orig_nbformat": 4
 },
 "nbformat": 4,
 "nbformat_minor": 2
}
