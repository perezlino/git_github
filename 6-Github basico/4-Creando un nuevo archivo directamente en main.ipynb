{
 "cells": [
  {
   "attachments": {},
   "cell_type": "markdown",
   "metadata": {},
   "source": [
    "### **6.4 - Creando un nuevo archivo directamente en la rama main en Github**\n",
    "\n",
    "___"
   ]
  },
  {
   "attachments": {},
   "cell_type": "markdown",
   "metadata": {},
   "source": [
    "Vamos a crear un nuevo archivo en el directorio **`historia`** llamado **`flash.md`** y este irá directo a nuestra rama **`main`**\n",
    "\n",
    "<center><img src=\"https://i.postimg.cc/J464Lw68/gh314.png\"></center>\n",
    "\n",
    "Creamos el archivo\n",
    "\n",
    "<center><img src=\"https://i.postimg.cc/4xY448q9/gh315.png\"></center>\n",
    "\n",
    "Le damos contenido al archivo que dijimos se llamaria **`flash.md`** y luego pulsamos **`Commit changes`** para crear el **commit** \n",
    "\n",
    "<center><img src=\"https://i.postimg.cc/DZPnpRJt/gh316.png\"></center>\n",
    "\n",
    "Indicaremos que queremos lanzar el commit en la rama **`main`**\n",
    "\n",
    "<center><img src=\"https://i.postimg.cc/cJYswvs1/gh317.png\"></center>\n",
    "\n",
    "Finalmente podemos ver que el archivo se ha integrado al repositorio remoto\n",
    "\n",
    "<center><img src=\"https://i.postimg.cc/k4m7c74Q/gh318.png\"></center>\n",
    "\n",
    "Para traerlo a nuestro directorio local (actualizar nuestro directorio local) debemos lanzar el comando **`git pull`** o quizas si queremos revisar el archivo previamente podriamos utilizar **`git fetch`**. Nosotros vamos a utilizar **`git pull`** directamente\n",
    "\n",
    "<center><img src=\"https://i.postimg.cc/52D4XBWk/gh319.png\"></center>\n",
    "\n",
    "___"
   ]
  }
 ],
 "metadata": {
  "language_info": {
   "name": "python"
  },
  "orig_nbformat": 4
 },
 "nbformat": 4,
 "nbformat_minor": 2
}
