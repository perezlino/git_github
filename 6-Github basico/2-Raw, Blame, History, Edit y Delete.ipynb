{
 "cells": [
  {
   "attachments": {},
   "cell_type": "markdown",
   "metadata": {},
   "source": [
    "### **6.2 - Raw, Blame, History, Edit y Delete**\n",
    "\n",
    "Estos son acciones que nos ofrece GitHub sobre cualquier archivo en nuestro repositorio.\n",
    "___"
   ]
  },
  {
   "attachments": {},
   "cell_type": "markdown",
   "metadata": {},
   "source": [
    "Desde el repositorio remoto en Github vamos a abrir el archivo **`heroes.md`**"
   ]
  },
  {
   "attachments": {},
   "cell_type": "markdown",
   "metadata": {},
   "source": [
    "#### **Raw**\n",
    "\n",
    "Luego daremos clic en **`Raw`**\n",
    "\n",
    "<center><img src=\"https://i.postimg.cc/TYBztkhR/gh282.png\"></center>\n",
    "\n",
    "Visualizaremos el archivo de una manera **`cruda`**. De igual forma, podemos compartir esta URL y dirigirá a este archivo utilizando la vista **`Raw`**, siempre y cuando, el repositorio sea público\n",
    "\n",
    "<center><img src=\"https://i.postimg.cc/CxDWXjfb/gh283.png\"></center>\n",
    "\n",
    "___"
   ]
  },
  {
   "attachments": {},
   "cell_type": "markdown",
   "metadata": {},
   "source": [
    "#### **Blame**\n",
    "\n",
    "**`Blame`** básicamente nos va a decir qué cambios ha sufrido el archivo desde su creación, desde que fue incorporado. Es muy útil para saber quién hizo qué cosa. Tambien nos va a permitir viajar en el tiempo en cuanto al archivo y al repositorio\n",
    "\n",
    "Damos clic en **`Blame`**\n",
    "\n",
    "<center><img src=\"https://i.postimg.cc/C1Rf7Lzr/gh284.png\"></center>\n",
    "\n",
    "Podemos ver los commits realizados para este archivo, quien los realizó y un periodo estimado de cuando fue hecho\n",
    "\n",
    "<center><img src=\"https://i.postimg.cc/tJPn0Sdh/gh285.png\"></center>\n",
    "\n",
    "Si damos clic en el icono que viene con el commit **\"Agregamos a Linterna y a Robin\"**, realizaré un viaje en el tiempo **EN TODO EL REPOSITORIO**, es decir, esto afectará a todos los archivos. Sin embargo, podemos regresar sin ningún problema.\n",
    "\n",
    "<center><img src=\"https://i.postimg.cc/KzC3HSTG/gh286.png\"></center>\n",
    "\n",
    "Si nos fijamos aparece el HASH del commit anterior al commit **\"Agregamos a Linterna y a Robin\"**. Es como que yo me moví físicamente a ese commit. En teoría cada uno de los commits que ustedes hacen pueden ser considerados como una rama. Ustedes pueden viajar en el tiempo y pararse en esa rama y ver cómo estaba todo. El repositorio es exactamente idéntico como ustedes lo dejaron en ese punto del tiempo. Eso fue lo que acaba de hacer GitHub por mí.\n",
    "\n",
    "<center><img src=\"https://i.postimg.cc/Prs8bHhK/gh287.png\"></center>\n",
    "\n",
    "Nos movimos al commit anterior\n",
    "\n",
    "<center><img src=\"https://i.postimg.cc/pL2NFmSv/gh291.png\"></center>\n",
    "\n",
    "Podemos ver que nuestro repositorio viajó en el tiempo\n",
    "\n",
    "<center><img src=\"https://i.postimg.cc/CLGnm2x0/gh288.png\"></center>\n",
    "\n",
    "Para regresar a la actualidad, pulsamos sobre el **hash** y luego sobre **main**\n",
    "\n",
    "<center><img src=\"https://i.postimg.cc/Pf8w8JGP/gh289.png\"></center>\n",
    "\n",
    "Y regresamos\n",
    "\n",
    "<center><img src=\"https://i.postimg.cc/2SCbJx1Z/gh290.png\"></center>\n",
    "\n",
    "___"
   ]
  },
  {
   "attachments": {},
   "cell_type": "markdown",
   "metadata": {},
   "source": [
    "#### **History**\n",
    "\n",
    "Podemos ver la **`Historia`** que es literalmente cómo ha sido que se ha movido cada uno de estos cambios exactamente y la fecha en que se han realizado\n",
    "\n",
    "<center><img src=\"https://i.postimg.cc/28WjwLTB/gh292.png\"></center>\n",
    "\n",
    "- En el caso de que diga **\"verified\"** lleva relación con el que quien hizo el commit ES QUIEN DICE SER, es decir, corresponde a la persona que nos muestra la información.\n",
    "- Podemos ver el hash de cada commit\n",
    "- Y el icono subrayado en rojo nos permite viajar en el tiempo, tanto en el archivo como en el repositorio\n",
    "\n",
    "<center><img src=\"https://i.postimg.cc/7ZyHQPQt/gh293.png\"></center>\n",
    "\n",
    "___"
   ]
  },
  {
   "attachments": {},
   "cell_type": "markdown",
   "metadata": {},
   "source": [
    "#### **Edit**\n",
    "\n",
    "Nos permite editar un archivo. Luego de editar debemos generar un commit\n",
    "\n",
    "<center><img src=\"https://i.postimg.cc/qBLWdJRZ/gh294.png\"></center>\n",
    "\n",
    "___"
   ]
  },
  {
   "attachments": {},
   "cell_type": "markdown",
   "metadata": {},
   "source": [
    "#### **Delete**\n",
    "\n",
    "Nos permite eliminar un archivo. Luego de eliminarlo debemos generar un commit\n",
    "\n",
    "<center><img src=\"https://i.postimg.cc/FsH8rMkF/gh295.png\"></center>\n",
    "\n",
    "___"
   ]
  }
 ],
 "metadata": {
  "language_info": {
   "name": "python"
  },
  "orig_nbformat": 4
 },
 "nbformat": 4,
 "nbformat_minor": 2
}
