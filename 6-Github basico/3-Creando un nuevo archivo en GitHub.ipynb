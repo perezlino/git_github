{
 "cells": [
  {
   "attachments": {},
   "cell_type": "markdown",
   "metadata": {},
   "source": [
    "### **6.3 - Creando un nuevo archivo en Github**\n",
    "\n",
    "Aprenderemos a crear un archivo directamente en GitHub y luego recuperarlo a nuestro repositorio local\n",
    "___"
   ]
  },
  {
   "attachments": {},
   "cell_type": "markdown",
   "metadata": {},
   "source": [
    "#### **Pull request**\n",
    "\n",
    "Crearemos un nuevo archivo en la rama **`main`**, pero utilizando la estrategia de un **`pull request`**, para el cual existen varias maneras de dispararlo, pero un **`pull request`** no es más que una rama que se desprendió en cierto punto del tiempo de la rama principal.\n",
    "\n",
    "La idea del **`pull request`** es que no solo alguien llegue y la integre y se acabó el asunto, ya hice el **merge** de la rama y se acabó. Pues no. La idea del **`pull request`** es que nos sirva para hacer un análisis previo a un **merge**. Por ejemplo, yo hice una nueva característica de mi aplicación que tiene que ser revisada por alguien antes de unirla al **`main`**. Usualmente así es como ustedes van a querer trabajar, van a hacer sus modificaciones en su rama y directamente no las unifican al **`main`**. Debería haber una persona que tenga el conocimiento suficiente del proyecto para revisar si esos cambios son correctos, si esto va a causar conflictos con tal cosa, o bueno, sé que va a causar conflictos, pero está bien, hay que resolverlos, o bien este código no cumple el estándar de calidad, se tienen que hacer mejoras. Todo eso se puede hacer mediante el **`pull request`** y por eso es que se recomienda que se hagan así las integraciones a la rama principal.\n",
    "\n",
    "El abrir un **`pull request`** es como una solicitud antes de afectar alguna rama en particular o en este caso queremos afectar la rama **`main`**"
   ]
  },
  {
   "attachments": {},
   "cell_type": "markdown",
   "metadata": {},
   "source": [
    "Vamos a comenzar creando un archivo nuevo dentro del directorio **`historia`**\n",
    "\n",
    "<center><img src=\"https://i.postimg.cc/RZKHtXq6/gh296.png\"></center>\n",
    "\n",
    "Creamos el archivo\n",
    "\n",
    "<center><img src=\"https://i.postimg.cc/SK4zfCzZ/gh297.png\"></center>\n",
    "\n",
    "El archivo se llamara **`batman.md`**\n",
    "\n",
    "<center><img src=\"https://i.postimg.cc/N0x2JF6Q/gh298.png\"></center>\n",
    "\n",
    "Podemos realizar una previsualizacion\n",
    "\n",
    "<center><img src=\"https://i.postimg.cc/gk6X9NVS/gh299.png\"></center>\n",
    "\n",
    "Para guardar el archivo\n",
    "\n",
    "<center><img src=\"https://i.postimg.cc/mkPcgS0r/gh300.png\"></center>\n",
    "\n",
    "Indicaremos que queremos generar una **nueva rama** y enviar una solicitud de **`pull request`**. La nueva rama llevará el nombre de **`rama-historia-batman`**. Esta solicitud debe aprobarse para llevarse a cabo\n",
    "\n",
    "<center><img src=\"https://i.postimg.cc/SRHn2Mhf/gh301.png\"></center>"
   ]
  },
  {
   "attachments": {},
   "cell_type": "markdown",
   "metadata": {},
   "source": [
    "Este lector que tenemos aquí, me dice a qué rama estoy intentando mandar este **`pull request`**. En este caso es a la rama **`main`**. Pudiera ser que ese no fuese el caso y queramos ponerlo en otra rama.\n",
    "\n",
    "También me dice que es posible unirlo (**able to merge**). Esto es en el caso de que las modificaciones no sean compatibles con el repositorio y esto lo hace de manera automática.\n",
    "\n",
    "Vamos a pulsar el boton **`Create Pull request`**. Justo en el momento que pulsamos el boton de **`Create Pull request`** Git va a comparar ambas ramas para ver si es posible unirlas de una forma transparente, y si no, tendriamos que resolver los conflictos\n",
    "\n",
    "<center><img src=\"https://i.postimg.cc/HxZcmNvK/gh302.png\"></center>\n"
   ]
  },
  {
   "attachments": {},
   "cell_type": "markdown",
   "metadata": {},
   "source": [
    "Luego, imaginandonos que un compañero de proyecto me envio dicho **`pull request`**, nos aparece una pantalla de informacion y donde podemos aprobar o desaprobar dicho **`pull request`**.\n",
    "\n",
    "Previo a aprobar el **`pull request`** y ejecutar el **merge**, podemos revisar la solicitud, pulsando en el hash\n",
    "\n",
    "<center><img src=\"https://i.postimg.cc/G2h8ZRKG/gh303.png\"></center>\n",
    "\n",
    "Podemos visualizar la comparación. También se nos permite comentar cada linea del código que se envio en la solicitud de **`pull request`**\n",
    "\n",
    "<center><img src=\"https://i.postimg.cc/WpyFfQkq/gh304.png\"></center>\n",
    "\n",
    "Podemos comentar, por ejemplo, la primera linea\n",
    "\n",
    "<center><img src=\"https://i.postimg.cc/13hgywM9/gh305.png\"></center>\n",
    "\n",
    "Y luego, para salvar dichos comentarios pulsamos el boton de **`Finish your review`**\n",
    "\n",
    "<center><img src=\"https://i.postimg.cc/zfqVgN96/gh306.png\"></center>\n",
    "\n",
    "Y pulsamos **`Submit review`**\n",
    "\n",
    "<center><img src=\"https://i.postimg.cc/Kzzj0Nc5/gh307.png\"></center>"
   ]
  },
  {
   "attachments": {},
   "cell_type": "markdown",
   "metadata": {},
   "source": [
    "Entonces aqui abajo se va a ir creando toda una historia de este **`pull request`**, todo antes de realizar el **merge**\n",
    "\n",
    "<center><img src=\"https://i.postimg.cc/wjX1MMbD/gh308.png\"></center>"
   ]
  },
  {
   "attachments": {},
   "cell_type": "markdown",
   "metadata": {},
   "source": [
    "En el caso de que sea aceptado el **`pull request`**, para unirlo existen tres maneras para hacerlo:\n",
    "\n",
    "1.\t**`Crear un merge commit`**: un merge commit significa que es un commit adicional en el cual se hace esa adición.\n",
    "\n",
    "2.\t**`Squash and merge`**: La opción del squash significa que voy a tomar estos cambios y los voy a fusionar con el último commit realizado. \n",
    "\n",
    "Vamos a utilizar el primero\n",
    "\n",
    "<center><img src=\"https://i.postimg.cc/CdyKLpGv/gh309.png\"></center>\n",
    "\n",
    "Y confirmamos\n",
    "\n",
    "<center><img src=\"https://i.postimg.cc/0NZrG3vQ/gh310.png\"></center>"
   ]
  },
  {
   "attachments": {},
   "cell_type": "markdown",
   "metadata": {},
   "source": [
    "En el caso de arrepentirnos del merge que acabamos de hacer, tenemos la opción de eliminarlo. Y en el caso de eliminarlo, y luego nuevamente nos arrepentimos y nos dimos cuenta que en realidad era correcta la solicitud aparecerá otra opción de rehacer el merge\n",
    "\n",
    "<center><img src=\"https://i.postimg.cc/850596jg/gh311.png\"></center>"
   ]
  },
  {
   "attachments": {},
   "cell_type": "markdown",
   "metadata": {},
   "source": [
    "Finalmente, podemos revisar que la modificacion enviada por medio de un **`pull request`**, que basicamente era la creacion de un nuevo archivo, se ha cargado en nuestro repositorio remoto de manera correcta\n",
    "\n",
    "<center><img src=\"https://i.postimg.cc/hvQjBtdz/gh312.png\"></center>"
   ]
  },
  {
   "attachments": {},
   "cell_type": "markdown",
   "metadata": {},
   "source": [
    "Para traerlo a nuestro directorio local (actualizar nuestro directorio local) debemos lanzar el comando **`git pull`** o quizas si queremos revisar el archivo previamente podriamos utilizar **`git fetch`**. Nosotros vamos a utilizar **`git pull`** directamente\n",
    "\n",
    "<center><img src=\"https://i.postimg.cc/wx1cv55J/gh313.png\"></center>\n",
    "\n",
    "___"
   ]
  }
 ],
 "metadata": {
  "language_info": {
   "name": "python"
  },
  "orig_nbformat": 4
 },
 "nbformat": 4,
 "nbformat_minor": 2
}
