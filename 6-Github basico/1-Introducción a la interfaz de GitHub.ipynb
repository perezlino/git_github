{
 "cells": [
  {
   "attachments": {},
   "cell_type": "markdown",
   "metadata": {},
   "source": [
    "### **6.1 - Introducción a la interfaz de Github**\n",
    "\n",
    "Sobrevolamos la interfaz que tiene GitHub para tener una introducción rápida de las principales características.\n",
    "___"
   ]
  },
  {
   "attachments": {},
   "cell_type": "markdown",
   "metadata": {},
   "source": [
    "#### **Buscador de repositorios**\n",
    "\n",
    "Podríamos buscar repositorios que tengan relación con **`Airflow`**:\n",
    "\n",
    "<center><img src=\"https://i.postimg.cc/vB5v3kdR/gh273.png\"></center>\n",
    "<center><img src=\"https://i.postimg.cc/J0m5gx1s/gh274.png\"></center>\n",
    "<center><img src=\"https://i.postimg.cc/5y3SMz0n/gh275.png\"></center>\n",
    "\n",
    "___"
   ]
  },
  {
   "attachments": {},
   "cell_type": "markdown",
   "metadata": {},
   "source": [
    "#### **Code**\n",
    "\n",
    "Adicionalmente tenemos varios pestañas aquí arriba. Por ejemplo, la pestaña **`Code`** que ya lo vimos, es básicamente nuestro repositorio de Git con todas sus ramas, con todos sus archivos, con todo lo que nosotros hemos visto.\n",
    "\n",
    "<center><img src=\"https://i.postimg.cc/KckKSBKz/gh276.png\"></center>\n",
    "\n",
    "___"
   ]
  },
  {
   "attachments": {},
   "cell_type": "markdown",
   "metadata": {},
   "source": [
    "#### **Issues**\n",
    "\n",
    "Los **`Issues`** básicamente son problemas, sugerencias, bug fixes o cualquier pregunta que ustedes quieran hacer sobre este repositorio. Ustedes pueden usar GitHub como si fuera una herramienta súper avanzada para darle seguimiento a un proyecto. No digo repositorio, sino, un proyecto. Los issues, como su nombre lo dice, son preguntas, pero son problemas que tiene nuestro repositorio.\n",
    "\n",
    "<center><img src=\"https://i.postimg.cc/CxYdq2cB/gh277.png\"></center>\n",
    "\n",
    "___"
   ]
  },
  {
   "attachments": {},
   "cell_type": "markdown",
   "metadata": {},
   "source": [
    "#### **Pull Requests**\n",
    "\n",
    "Los **`Pull Requests`** hay varias formas de trabajar con ellos, pero la forma como lo está usando en este caso la librería de Airflow es que ustedes, por ejemplo, dicen a que hay un problema en Airflow y yo hice una resolución de ese problema, es decir, yo clone el repositorio o hice un fork del mismo, resolvió el problema he hice los cambios en ese código del repositorio y ese problema se resolvió.\n",
    "Yo puedo decirle a la gente de Airflow, mira, yo logré resolverlo de esta manera, revisa mi código, si el cambio te gusta, entonces puedes integrarlo a repositorio oficial, porque de esta manera (mediante un pull request) es como nosotros podemos hacer cambios en un repositorio que no nos pertenece. Claro, ustedes pueden habilitarlo dado que tengamos colaboradores y que otras personas también puedan cambiar el código directamente al repositorio.\n",
    "\n",
    "Pero por ejemplo, ustedes tienen un desarrollador junior en el cual no confían y no le quieren dar\n",
    "acceso directo al repositorio completo porque puede ser que haga un destrozo. Entonces le pueden decir, ok, clona el repositorio y luego cualquier otro cambio que tú quieras hacer lo haces mediante un **`pull request`**.\n",
    "\n",
    "<center><img src=\"https://i.postimg.cc/rF5KzTN2/gh278.png\"></center>\n",
    "\n",
    "___"
   ]
  },
  {
   "attachments": {},
   "cell_type": "markdown",
   "metadata": {},
   "source": [
    "#### **Projects**\n",
    "\n",
    "La parte de los **`Proyectos`**, como su nombre lo dice, sirve para organizar todo un proyecto y aquí es bien interesante. Esto me gusta mucho porque hay varias personas que compran software bastante caros y esta parte de los proyectos lo maneja por ustedes. Y a pesar de que, bueno, tal vez muchos no lo conocen, pero ustedes pueden decir digamos que mi proyecto de facturación sólo va a salir cuando la característica A, B y C estén desplegadas o cuando este, este y este punto estén terminados, o cuando hayamos resuelto todos los issues que están relacionados a problemas de desarrollo. Por ejemplo, ustedes pueden manejar un proyecto y planificar cómo va a salir o si ya se encuentra lo suficientemente maduro su repositorio para que vea la luz del día.\n",
    "\n",
    "<center><img src=\"https://i.postimg.cc/tg4TrxQ9/gh279.png\"></center>\n",
    "\n",
    "___"
   ]
  },
  {
   "attachments": {},
   "cell_type": "markdown",
   "metadata": {},
   "source": [
    "#### **Wiki**\n",
    "\n",
    "El **`Wiki`** como su nombre lo dice es muy parecido a la Wikipedia. Podríamos verlo de esa manera en la cual ustedes pueden crear una propia documentación del proyecto. Quizás no solo el proyecto, pudiera ser que ustedes lo que quieran subir aquí es la documentación oficial que el usuario final va a poder venir aquí, observar y buscar inclusive dentro de Github Wiki.\n",
    "\n",
    "___"
   ]
  },
  {
   "attachments": {},
   "cell_type": "markdown",
   "metadata": {},
   "source": [
    "#### **Security**\n",
    "\n",
    "La parte de la seguridad, por lo menos la parte que yo más he usado es si ustedes tienen un equipo de trabajo, cuántas personas pueden trabajar resolviendo los problemas de seguridad o vulnerabilidades que puede tener un proyecto, las cuales van desde librerías obsoletas código muy viejo o que ustedes subieron a API keys o repositorio público. Hay muchas cosas que están relacionadas a la seguridad que ustedes van a poder controlar de esta manera.\n",
    "\n",
    "<center><img src=\"https://i.postimg.cc/bY7ZzrbR/gh280.png\"></center>\n",
    "\n",
    "___"
   ]
  },
  {
   "attachments": {},
   "cell_type": "markdown",
   "metadata": {},
   "source": [
    "#### **Insights**\n",
    "\n",
    "En los **`Insights`** esto ha crecido muchísimo. Pero la parte de los insights ayuda bastante a saber cómo la gente o su equipo de trabajo está trabajando, valga la redundancia, dentro de este proyecto o dentro de este repositorio. Ustedes pueden ver aquí información estadística, quiénes son los principales colaboradores, que ha sucedido, etc.\n",
    "\n",
    "<center><img src=\"https://i.postimg.cc/cLmCMczD/gh281.png\"></center>\n",
    "\n",
    "___"
   ]
  }
 ],
 "metadata": {
  "language_info": {
   "name": "python"
  },
  "orig_nbformat": 4
 },
 "nbformat": 4,
 "nbformat_minor": 2
}
