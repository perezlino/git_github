{
 "cells": [
  {
   "attachments": {},
   "cell_type": "markdown",
   "metadata": {},
   "source": [
    "### **6.5 - Renombrar, borrar y sincronizar el repositorio local**\n",
    "\n",
    "___"
   ]
  },
  {
   "attachments": {},
   "cell_type": "markdown",
   "metadata": {},
   "source": [
    "Vamos a editar el archivo **`flash.md`** que se encuentra en el directorio **`historia`**\n",
    "\n",
    "<center><img src=\"https://i.postimg.cc/x8cP8V2m/gh320.png\"></center>\n",
    "\n",
    "Lo seleccionamos\n",
    "\n",
    "<center><img src=\"https://i.postimg.cc/8c9mrXp0/gh321.png\"></center>\n",
    "\n",
    "Seleccionamos la opción de edición\n",
    "\n",
    "<center><img src=\"https://i.postimg.cc/pLNBWS19/gh322.png\"></center>\n",
    "\n",
    "Para empezar editaremos el nombre del archivo a **`flash_reverso.md`** y luego pulsaremos **`Commit changes`**\n",
    "\n",
    "<center><img src=\"https://i.postimg.cc/c1bmjCRB/gh323.png\"></center>\n",
    "\n",
    "Indicaremos el nombre del commit y que lo queremos lanzar en la rama **`main`**\n",
    "\n",
    "<center><img src=\"https://i.postimg.cc/ZqHPL5Y3/gh324.png\"></center>\n",
    "\n",
    "Luego de lanzar el commit de modificacion del nombre del archivo, ahora borraremos el archivo\n",
    "\n",
    "<center><img src=\"https://i.postimg.cc/Y9y1JDWC/gh325.png\"></center>\n",
    "\n",
    "Esta eliminación nos obliga a lanzarla en un commit también, el cual lo lanzaremos en la rama **`main`**\n",
    "\n",
    "<center><img src=\"https://i.postimg.cc/6pdfyhDM/gh326.png\"></center>\n",
    "\n",
    "Verificamos que en el repositorio remoto el archivo **`flash_reverso.md`** ya no existe\n",
    "\n",
    "<center><img src=\"https://i.postimg.cc/R04QfHm4/gh327.png\"></center>\n",
    "\n",
    "Para solo actualizar los commits en nuestro directorio local lanzamos el comando **`git fetch`** (no tengo imagen). Luego visualizamos que existen 2 commits que no teniamos en nuestro directorio local\n",
    "\n",
    "<center><img src=\"https://i.postimg.cc/Nf24wtbq/gh328.png\"></center>\n",
    "\n",
    "Confiando en los cambios realizados en el repositorio remoto, vamos a realizar el **merge** con la rama **`origin/main`** y de esta manera unir dichos cambios con nuestra rama **`main`** de manera local\n",
    "\n",
    "<center><img src=\"https://i.postimg.cc/HxLwv1jN/gh329.png\"></center>\n",
    "\n",
    "Revisamos el log de commits y vemos que el **merge** ha resultado satisfactorio\n",
    "\n",
    "<center><img src=\"https://i.postimg.cc/Rh6c917Q/gh330.png\"></center>\n",
    "\n",
    "___"
   ]
  }
 ],
 "metadata": {
  "language_info": {
   "name": "python"
  },
  "orig_nbformat": 4
 },
 "nbformat": 4,
 "nbformat_minor": 2
}
