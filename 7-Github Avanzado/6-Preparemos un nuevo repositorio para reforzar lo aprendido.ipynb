{
 "cells": [
  {
   "attachments": {},
   "cell_type": "markdown",
   "metadata": {},
   "source": [
    "### **7.6 - Preparemos un nuevo repositorio para reforzar lo aprendido**\n",
    "\n",
    "Vamos a practicar varias cosas aprendidas hasta el momento\n",
    "___"
   ]
  },
  {
   "attachments": {},
   "cell_type": "markdown",
   "metadata": {},
   "source": [
    "Descargaremos el repositorio como un ZIP ==> https://github.com/klerith/avengers\n",
    "\n",
    "**`Esto no descargará el historial de commits`** dado que no posee el directorio **`.git`**\n",
    "\n",
    "<center><img src=\"https://i.postimg.cc/fWKQq3Tg/gh366.png\"></center>\n",
    "\n",
    "Descargamos los archivos y los movemos al directorio **demo_11**\n",
    "\n",
    "<center><img src=\"https://i.postimg.cc/SN1Fqw96/gh367.png\"></center>\n",
    "\n",
    "Posteriormente, creamos un nuevo repositorio en Github\n",
    "\n",
    "<center><img src=\"https://i.postimg.cc/QdBLM0gR/gh368.png\"></center>\n",
    "\n",
    "Finalmente, lo iniciamos con el comando **`git init`**, enviamos a **stage** los archivos y lanzamos el primer commit. Además generamos la conexión entre el repositorio local con el repositorio remoto\n",
    "\n",
    "<center><img src=\"https://i.postimg.cc/Pr5sgtCf/gh369.png\"></center>\n",
    "\n",
    "___"
   ]
  }
 ],
 "metadata": {
  "language_info": {
   "name": "python"
  },
  "orig_nbformat": 4
 },
 "nbformat": 4,
 "nbformat_minor": 2
}
