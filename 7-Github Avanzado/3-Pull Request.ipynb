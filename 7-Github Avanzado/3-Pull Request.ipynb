{
 "cells": [
  {
   "attachments": {},
   "cell_type": "markdown",
   "metadata": {},
   "source": [
    "### **7.3 - Pull Request**\n",
    "\n",
    "Vamos a solicitar que se unan nuestros cambios con los del repositorio original\n",
    "___"
   ]
  },
  {
   "attachments": {},
   "cell_type": "markdown",
   "metadata": {},
   "source": [
    "Para empezar (y no se mostrará en imagenes) realice modificaciones en el archivo **`aspirantes/fernando.md`**, en el cual, cambie su nombre a **`aspirantes/alfonso.md`**. Luego de dichos cambios, fueron salvados y lanzados en un commit. Esto lo realice en Github.\n",
    "\n",
    "Ahora, el repositorio copiado nos indica que nuestra rama **`master`** lleva 2 commits adelante que el repositorio **`master`** original\n",
    "\n",
    "<center><img src=\"https://i.postimg.cc/T3XvrXcj/gh346.png\"></center>\n",
    "\n",
    "Pulsando el icono de **commits**, podemos verificar que hemos realizados dos modificaciones posteriores al momento que este repositorio fue copiado en nuestra cuenta de Github \n",
    "\n",
    "<center><img src=\"https://i.postimg.cc/6qkJbsxX/gh347.png\"></center>\n",
    "\n",
    "Estos son todos los cambios que le quiero mandar a la persona dueña del repositorio original. Para hacer posible eso, podemos valernos de la opción de enviar una solicitud por medio de un **`pull request`**. Este **`pull request`** va a ser una colaboración o una contribución a el repositorio original.\n",
    "\n",
    "<center><img src=\"https://i.postimg.cc/MTyWQbc5/gh348.png\"></center>\n",
    "\n",
    "La primera modificacion la realizamos en el punto 7.2, la cual consistio en borrar el miembro Scarecrow del archivo **`miembros.md`**\n",
    "Y la segunda modificacion como mencione al comienzo, consistió en cambiar el nombre del archivo **`aspirantes/fernando.md`** a **`aspirantes/alfonso.md`**.\n",
    "Se nos entrega informacion de dichos cambios y si estamos conformes pulsamos en el boton de **`Create pull request`**\n",
    "\n",
    "<center><img src=\"https://i.postimg.cc/Kv1HpcfS/gh349.png\"></center>\n",
    "\n",
    "<center><img src=\"https://i.postimg.cc/CL963yrZ/gh350.png\"></center>\n",
    "\n",
    "Estos son los dos cambios que hemos realizado. Es importante saber que mientras el **`pull request`** está EN ESPERA podemos seguir agregando cambios.\n",
    "\n",
    "Mencionar que existen dos opciones al momento de pulsar el boton de **`Create pull request`**:\n",
    "\n",
    "- **`Create pull request`**\n",
    "- **`Create draft pull request`**: esto es para que todavía tengamos la chance de hacer más adiciones y modificaciones antes de que la persona dueña del repositorio vaya a poder hacer esta unión (merge), es decir, todavía no se va a dar cuenta. \n",
    "\n",
    "En este punto llegaría un correo electrónico a la persona o a todos los colaboradores que puedan hacer la revisión de este request\n",
    "\n",
    "<center><img src=\"https://i.postimg.cc/5y57MjXn/gh356.png\"></center>"
   ]
  },
  {
   "attachments": {},
   "cell_type": "markdown",
   "metadata": {},
   "source": [
    "#### **git checkout < hash > <nombre_archivo_modificado>**\n",
    "\n",
    "Pongamonos en el caso de que el dueño del repositorio reviso nuestro pull request y nos envio un comentario de que debemos revertir la modificacion realizada al archivo **`miembros.md`** en el cual eliminamos a Scarecrow. Dicha modificacion corresponde al penultimo commit de nuestra lista de commits ¿Como podemos hacer esta enmienda de manera facil y rapida? Utilizando el comando **`git checkout <hash> <nombre_archivo_modificado>`**"
   ]
  },
  {
   "attachments": {},
   "cell_type": "markdown",
   "metadata": {},
   "source": [
    "Revisemos como tenemos nuestro log de commits actual\n",
    "\n",
    "<center><img src=\"https://i.postimg.cc/fRzFD7jX/gh351.png\"></center>\n",
    "\n",
    "Si utilizamos el comando **`git checkout 666351f miembros.md`** estamos apuntando al hash del antepenultimo commit (debemos colocar el hash anterior al del hash del commit donde realizamos la modificacion, dado que debemos apuntar al estado previo de nuestro proyecto del momento en el se lanzó el commit de modificacion). E indicamos el nombre del archivo al cual le realizamos la modificacion\n",
    "\n",
    "Revertimos las modificaciones realizadas a dicho archivo y traemos el estado que tenia previo a la modificacion\n",
    "\n",
    "<center><img src=\"https://i.postimg.cc/t4BcT12c/gh352.png\"></center>\n",
    "\n",
    "Podemos ver que **`el archivo se mantiene en stage`** y no se ha tocado ningun commit de los que hemos realizado\n",
    "\n",
    "<center><img src=\"https://i.postimg.cc/cJ6b8szL/gh353.png\"></center>\n",
    "\n",
    "Lanzaremos un commit para guardar el archivo y asi revertir los cambios que nos pidieron\n",
    "\n",
    "<center><img src=\"https://i.postimg.cc/pd71fwNY/gh354.png\"></center>\n",
    "\n",
    "Empujamos al repositorio remoto el commit\n",
    "\n",
    "<center><img src=\"https://i.postimg.cc/nzDS03p8/gh355.png\"></center>\n",
    "\n",
    "Los cambios ya fueron actualizados en Github. En la historia del **`pull request`** aparecerá de manera automatica que hemos realizado un commit con los cambios que se nos pidió.\n",
    "\n",
    "<center><img src=\"https://i.postimg.cc/90H8SyQD/gh357.png\"></center>\n",
    "\n",
    "___"
   ]
  }
 ],
 "metadata": {
  "language_info": {
   "name": "python"
  },
  "orig_nbformat": 4
 },
 "nbformat": 4,
 "nbformat_minor": 2
}
