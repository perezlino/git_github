{
 "cells": [
  {
   "attachments": {},
   "cell_type": "markdown",
   "metadata": {},
   "source": [
    "### **7.4 - Actualizando nuestro Fork**\n",
    "\n",
    "___"
   ]
  },
  {
   "attachments": {},
   "cell_type": "markdown",
   "metadata": {},
   "source": [
    "Lo que les voy a enseñar a continuación es muy usado cuando nosotros tenemos algún compañero de trabajo nuevo que no confiamos mucho en él todavía como para darle acceso a todo el repositorio. Entonces le decimos a él que haga un fork en este caso y empiece a trabajar en ese repositorio.\n",
    "\n",
    "Ok, vamos a suponer el siguiente caso tenemos nuestro repositorio central en GitHub que en este momento lo vamos a llamar **`upstream`**. Entonces llega a Batman y él hace un fork del repositorio completo. El está trabajando ahí de forma aislada y ya lo tiene en su github y luego llega Superman y también hace un fork del mismo proyecto. En este punto del tiempo ambos repositorios serían iguales, no? Porque todavía ninguno de los dos ha hecho cambios. Pero bueno, llega Batman y hace un clon a su repositorio local, al igual que Superman hace un clon a su repositorio local. Ambos hacen cambios locales, hacen pushes a sus respectivos repositorios en GitHub y luego para que estos repositorios actualicen el **`upstream`**, en este caso el repositorio central, ellos tienen que hacer pull request.\n",
    "\n",
    "Todo parece normal, pero la pregunta del millón es ¿cómo podemos actualizar nuestro fork siendo nosotros Batman? Es decir, ¿cómo podemos saber los cambios que hizo Superman y tenerlos en nuestro repositorio para poder realizar trabajos? Porque puede ser que Superman haga cosas que nosotros ocupamos en nuestro repositorio. ¿Cómo podemos actualizar nuestro fork?\n",
    "\n",
    "<center><img src=\"https://i.postimg.cc/50DjLqSk/gh358.png\"></center>"
   ]
  },
  {
   "attachments": {},
   "cell_type": "markdown",
   "metadata": {},
   "source": [
    "Tanto Batman como Superman deberían de hacer un pull del **`upstream`** de manera directa al directorio local. Posteriormente ellos podrían hacer cambios locales, hacer push a sus respectivos repositorios y luego hacer la solicitud de un pull request para que estos cambios sean aceptados en el hosting o el repositorio central.\n",
    "\n",
    "Pero ¿cómo podemos hacer eso si nosotros tenemos ya un remoto agregado en nuestro git local?\n",
    "\n",
    "Mmmm. Bueno, simplemente tendríamos que agregar un nuevo remoto y luego tenemos que hacer un fetch o un pull para actualizar nuestro repositorio local y luego poder hacer push y luego un pull request otra vez.\n",
    "\n",
    "<center><img src=\"https://i.postimg.cc/DfbSFH2V/gh359.png\"></center>\n",
    "\n",
    "___"
   ]
  },
  {
   "attachments": {},
   "cell_type": "markdown",
   "metadata": {},
   "source": [
    "- Recordar que en este curso a la rama **`main`** la tienen por **`master`** (curso un poco desactualizado)\n",
    "\n",
    "- Nosotros tenemos que hacer este proceso cada vez que un pull request sea aceptado en el **`upstream`**\n",
    "\n",
    "- Recordar que el nombre de **`upstream`** se lo estamos dando nosotros, facilmente podriamos poner otro nombre. Pero generalmente se utiliza ese nombre para efectos de generar una conexión directa con el repositorio remoto original y nuestro repositorio local\n",
    "\n",
    "- Recordar que el nombre de **`origin`** se lo dimos nosotros a la conexión entre nuestro repositorio remoto que se encuentra en nuestra cuenta Github y nuestro repositorio local\n",
    "\n",
    "<center><img src=\"https://i.postimg.cc/8PcNNrd7/gh360.png\"></center>\n",
    "\n",
    "___"
   ]
  }
 ],
 "metadata": {
  "language_info": {
   "name": "python"
  },
  "orig_nbformat": 4
 },
 "nbformat": 4,
 "nbformat_minor": 2
}
