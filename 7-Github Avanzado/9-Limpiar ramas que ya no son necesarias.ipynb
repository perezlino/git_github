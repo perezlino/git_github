{
 "cells": [
  {
   "attachments": {},
   "cell_type": "markdown",
   "metadata": {},
   "source": [
    "### **7.9 - Limpiar ramas que ya no son necesarias**\n",
    "\n",
    "___"
   ]
  },
  {
   "attachments": {},
   "cell_type": "markdown",
   "metadata": {},
   "source": [
    "Podemos ver que del desarrollo del punto 7.8 existen en el repositorio remoto avengers 2 ramas, una es la rama **`main`** y la otra es la rama **`rama-misiones`** que no fue borrada. Esta última rama la borraremos desde nuestro repositorio local.\n",
    "\n",
    "<center><img src=\"https://i.postimg.cc/sf7XyPmT/gh403.png\"></center>\n",
    "\n",
    "Podriamos eliminarla desde Github, peron olo haremos de esa forma. La eliminaremos desde nuestro repositorio local.\n",
    "\n",
    "<center><img src=\"https://i.postimg.cc/d0hsfGDm/gh404.png\"></center>"
   ]
  },
  {
   "attachments": {},
   "cell_type": "markdown",
   "metadata": {},
   "source": [
    "Si revisamos nuestro repositorio local utilizando el comando **`git branch -a`** podemos ver que nos aparecen las ramas creadas en el repositorio remoto, las cuales anteriormente le hicimos pull para trabajar con ellas. Sin embargo, ya no las necesitamos y queremos limpiar nuestra listas de ramas.\n",
    "\n",
    "Comenzaremos eliminando la rama **`rama-misiones`** utilizando el comando **`git branch -D rama-misiones`**\n",
    "\n",
    "<center><img src=\"https://i.postimg.cc/CL4xnFWD/gh405.png\"></center>"
   ]
  },
  {
   "attachments": {},
   "cell_type": "markdown",
   "metadata": {},
   "source": [
    "Sin que se nos olvide, traremos los cambios que se realizaron en la rama **`main`**, que se realizaron al unir las modifiaciones de la rama **`rama-misiones`**\n",
    "\n",
    "<center><img src=\"https://i.postimg.cc/VLwNNSHm/gh406.png\"></center>"
   ]
  },
  {
   "attachments": {},
   "cell_type": "markdown",
   "metadata": {},
   "source": [
    "#### **git push origin :<rama_origin>**\n",
    "\n",
    "Utilizando el comando **`git push origin :rama-misiones`** eliminamos la rama del repositorio local y del repositorio remoto. Podemos utilizar siempre y cuando la rama aún exista en el repositorio remoto \n",
    "\n",
    "Vemos que al utilizar este comando contra la **`rama-villanos`** se nos devuelve un error, esto porque **esta rama ya no existe en el repositorio remoto avengers**\n",
    "\n",
    "<center><img src=\"https://i.postimg.cc/YCqq15HP/gh407.png\"></center>\n",
    "\n",
    "Podemos verificar que la rama **`rama-misiones`** fue eliminada en el repositorio remoto de Github\n",
    "\n",
    "<center><img src=\"https://i.postimg.cc/7ZTtQ6wJ/gh409.png\"></center>"
   ]
  },
  {
   "attachments": {},
   "cell_type": "markdown",
   "metadata": {},
   "source": [
    "#### **git remote prune origin**\n",
    "\n",
    "Por tanto, para eliminar dicha rama que nos aparece en el repositorio local y que no existe en el repositorio remoto, utilizamos el comando **`git remote prune origin`**\n",
    "\n",
    "<center><img src=\"https://i.postimg.cc/CxPMJcMx/gh408.png\"></center>\n",
    "\n",
    "___"
   ]
  }
 ],
 "metadata": {
  "language_info": {
   "name": "python"
  },
  "orig_nbformat": 4
 },
 "nbformat": 4,
 "nbformat_minor": 2
}
