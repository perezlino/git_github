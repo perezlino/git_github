{
 "cells": [
  {
   "attachments": {},
   "cell_type": "markdown",
   "metadata": {},
   "source": [
    "### **7.11 - Releases - Versiones de producción completas**\n",
    "\n",
    "___"
   ]
  },
  {
   "attachments": {},
   "cell_type": "markdown",
   "metadata": {},
   "source": [
    "Vamos a aclarar la diferencia entre los **`Releases`** y los **`Tags`**. Hay dos principales usos o beneficios al usar **`Releases`** sobre los **`Tags`**:\n",
    "\n",
    "1. Un Release nos permite compartir archivos binarios, sin necesidad que Git o Github lo revise\n",
    "2. Podemos proveer una información adicional sobre un release en particular"
   ]
  },
  {
   "attachments": {},
   "cell_type": "markdown",
   "metadata": {},
   "source": [
    "Vamos a ejemplificarlo para que no queden dudas. Transformaremos el **`tag v1.0.0`** en un **`Release`**.\n",
    "\n",
    "<center><img src=\"https://i.postimg.cc/KcJgRNbN/gh433.png\"></center>\n",
    "\n",
    "Pulsamos en **`Create release from tag`**\n",
    "\n",
    "<center><img src=\"https://i.postimg.cc/Kvj3LMvy/gh434.png\"></center>"
   ]
  },
  {
   "attachments": {},
   "cell_type": "markdown",
   "metadata": {},
   "source": [
    "Podemos agregar información adicional y además podemos agregar archivos o binarios\n",
    "\n",
    "**`Set as a pre-release`**, esto quiere decir que esta versión no está lista para producción. Es posible descargarla, pero no le estamos dando la importancia como si fuera una versión de producción\n",
    "\n",
    "<center><img src=\"https://i.postimg.cc/HsNctkV8/gh435.png\"></center>\n",
    "\n",
    "Esta es la estructura que puede tomar un **`Release`** contra a un **`tag`** normal.\n",
    "\n",
    "<center><img src=\"https://i.postimg.cc/85wsf125/gh436.png\"></center>\n",
    "<center><img src=\"https://i.postimg.cc/NFzMbdfv/gh437.png\"></center>\n",
    "\n",
    "De igual forma podemos editar el **`Release`**\n",
    "\n",
    "<center><img src=\"https://i.postimg.cc/3w5kPfjK/gh438.png\"></center>\n",
    "\n",
    "E indicar que ahora ya no queremos que sea un **`pre-release`**, si no, **`release`**\n",
    "\n",
    "<center><img src=\"https://i.postimg.cc/bw2GVftC/gh439.png\"></center>\n",
    "\n",
    "Ahora aparece un icono indicando que es la **`Ultima version lanzada`**\n",
    "\n",
    "<center><img src=\"https://i.postimg.cc/pdfmxQkK/gh440.png\"></center>\n",
    "<center><img src=\"https://i.postimg.cc/Y9thS4yZ/gh441.png\"></center>\n",
    "\n",
    "Y desde la lista de tags, el tag v1.0.0 se le agregó un icono de **`Notes`**\n",
    "\n",
    "<center><img src=\"https://i.postimg.cc/RhFhckmT/gh442.png\"></center>\n",
    "\n",
    "___"
   ]
  }
 ],
 "metadata": {
  "language_info": {
   "name": "python"
  },
  "orig_nbformat": 4
 },
 "nbformat": 4,
 "nbformat_minor": 2
}
