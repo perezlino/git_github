{
 "cells": [
  {
   "attachments": {},
   "cell_type": "markdown",
   "metadata": {},
   "source": [
    "### **7.5 - Introduccion a los flujos de trabajo**\n",
    "\n",
    "Aquí veremos una forma de trabajar en equipo, un poco más útil que el flujo de trabajo basado en Forks\n",
    "___"
   ]
  },
  {
   "attachments": {},
   "cell_type": "markdown",
   "metadata": {},
   "source": [
    "** Recordar que cuando se hace referencia a la rama **`master`** corresponde a la rama **`main`**"
   ]
  },
  {
   "attachments": {},
   "cell_type": "markdown",
   "metadata": {},
   "source": [
    "Bueno, en el caso anterior conocimos lo que era trabajar en base a Forks, es decir, teníamos nuestro repositorio central en Github, nuestro upstream, por decirlo así, el cual otros compañeros del equipo de trabajo tenían que, por decirlo así, hacer un fork, descargarlo localmente, realizar modificaciones, subirlas a sus respectivos repositorios en GitHub para posteriormente mandarlos a repositorio central.\n",
    "\n",
    "Ahora, esto no es que sea malo y es bastante útil cuando tenemos compañeros que todavía no confiamos mucho en ellos o queremos que trabajen de esta manera, así aislados del equipo. Pero esto en un equipo de trabajo que está en una misma oficina o en lugares remotos del mundo, pero todos son confiables, por decirlo así, sería un poco lento y engorroso.\n",
    "\n",
    "<center><img src=\"https://i.postimg.cc/fypXWSLY/gh361.png\"></center>"
   ]
  },
  {
   "attachments": {},
   "cell_type": "markdown",
   "metadata": {},
   "source": [
    "Ahora es bien común ver que en una empresa se tenga un proyecto en un único repositorio y no está para nada mal.\n",
    "\n",
    "Ahora mentalicémonos que tenemos nuestra línea del tiempo Master acá y los desarrolladores pueden hacer commits directos a ese repositorio, cosa que no está mal. Pero imagínense que tuviéramos otro compañero de trabajo y luego viene otro y luego viene otro que van haciendo commits directamente al master. Esto les aseguro que va a causar conflictos constantes con sus compañeros de trabajo. Claro, no es que no se pueda trabajar de esa manera, pero hay formas de trabajar con este tipo de repositorios. Ahora analicemos este mismo ejemplo, pero visto de otra perspectiva.\n",
    "\n",
    "<center><img src=\"https://i.postimg.cc/c4tw9h9h/gh362.png\"></center>"
   ]
  },
  {
   "attachments": {},
   "cell_type": "markdown",
   "metadata": {},
   "source": [
    "Supongamos que ese punto morado que tenemos ahorita en pantalla es el último commit hecho en el master. Luego, cada uno de los miembros del equipo de trabajo crearía una rama independiente en la cual ellos y solo ellos van a estar trabajando. Esa rama se conoce como el **`feature branch`**, es decir, una rama en la cual yo estoy trabajando en nuevas características que posteriormente van a ser regresadas o incluidas al master.\n",
    "\n",
    "Ahora, para poder revisar el trabajo de otros compañeros, simplemente tendríamos que hacer:\n",
    "\n",
    "1.\tUn **`git fetch`**\n",
    "2.\tLuego un **`git branch -a`** para revisar todas las ramas que se encuentran en el repositorio \n",
    "3.\tY luego un **`git checkout <rama>`** para pasarnos a la rama de otra persona\n",
    "\n",
    "En este caso tengo **`git checkout rama-capitan`**\n",
    "\n",
    "<center><img src=\"https://i.postimg.cc/52wv10MF/gh363.png\"></center>\n"
   ]
  },
  {
   "attachments": {},
   "cell_type": "markdown",
   "metadata": {},
   "source": [
    "Ahora, si nosotros trabajamos de esta forma, cualquier compañero del equipo de trabajo puede realizar el push a GitHub para que nuestro repositorio esté actualizado. Para eso podríamos hacer algo muy similar a esto:\n",
    "\n",
    "1.\tNos pasamos a la rama master con un **`git checkout master`**\n",
    "2.\tLuego hacemos un **`git merge`** de la **`rama-capitan`**. En este caso es la rama que yo quiero unir al master. Eso va a hacer que se cree este tipo de commit. Claro, si hubiera algún tipo de conflicto se resuelve en ese momento.\n",
    "3.\tLuego hacemos el **`git push`** para actualizar nuestro repositorio en GitHub.\n",
    "\n",
    "<center><img src=\"https://i.postimg.cc/x1rHWmB2/gh364.png\"></center>"
   ]
  },
  {
   "attachments": {},
   "cell_type": "markdown",
   "metadata": {},
   "source": [
    "Claro, también existe otra forma que nos ayuda a poder realizar ese mismo trabajo, pero utilizando los **`pull request`**, de esa manera el equipo de trabajo se entera y puede discutir los cambios antes de unirlos al master. ¿Cómo hacemos esto o a qué me quiero referir? En lugar de pasarnos al master y hacer un push del master, podríamos hacer un git push origin, la rama-silver. En este caso, entiéndase que la rama-silver es el trabajo que estoy haciendo de esta persona en pantalla.\n",
    "\n",
    "Al hacer esto, yo voy a subir a GitHub toda la rama con estos cambios y una vez en GitHub yo puedo hacer un **`pull request`** para que mi equipo de trabajo se entere de los cambios y de esta forma podemos revisarlo entre todos antes de unirlos al master. Así nos enteramos también de los cambios que quiere hacer alguna otra persona en nuestro equipo de trabajo.\n",
    "\n",
    "<center><img src=\"https://i.postimg.cc/CMQbsXNd/gh365.png\"></center>\n",
    "\n",
    "___"
   ]
  }
 ],
 "metadata": {
  "language_info": {
   "name": "python"
  },
  "orig_nbformat": 4
 },
 "nbformat": 4,
 "nbformat_minor": 2
}
