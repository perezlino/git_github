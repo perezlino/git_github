{
 "cells": [
  {
   "attachments": {},
   "cell_type": "markdown",
   "metadata": {},
   "source": [
    "### **7.10 - Rama de producción - Github**\n",
    "\n",
    "A veces son necesarias\n",
    "\n",
    "___"
   ]
  },
  {
   "attachments": {},
   "cell_type": "markdown",
   "metadata": {},
   "source": [
    "Este tema es bastante interesante y es una realidad. Vamos a ver, vamos a poner este ejemplo para que quede un poco más claro, suponiendo de que nosotros tenemos nuestra línea de tiempo, nuestra aplicación o lo que sea que estemos desarrollando, nosotros vamos a ir paulatinamente avanzando hasta llegar a la versión 2.0.0, por ejemplo. Pero sucede que en algún determinado punto se crea una rama, como por ejemplo la versión 1.1.0, en la cual estuvimos trabajando en ciertas actualizaciones que eventualmente no fueron incluidas en la versión master (main) pero son necesarias, porque llega un cliente y nos dice no!, la verdad es que yo no voy a pagar la versión 2.0.0, necesito que sigamos trabajando en la versión 1.0.0 y se queda de esa manera.\n",
    "\n",
    "Esto es una forma de trabajar también que realmente sucede en la vida real, especialmente si ustedes cobran o hacen cambios muy dramáticos en el cambio de sus versiones.\n",
    "\n",
    "<center><img src=\"https://i.postimg.cc/prtYkgKw/gh410.png\"></center>"
   ]
  },
  {
   "attachments": {},
   "cell_type": "markdown",
   "metadata": {},
   "source": [
    "Ahora, esto es bien común verlo cuando le damos soporte prolongado a una versión en particular o cuando nos pagan para darle mantenimiento a esa versión en particular. La otra es cuando realizamos arreglos en caliente o cambios que son urgentes, como por ejemplo si subimos ya la aplicación, pero resulta que la gente se dio cuenta de que no funcionaba con su usuario, no hay logging, no funciona algo, entonces tenemos que hacer ese cambio inmediatamente. Y la otra es cuando nosotros subimos a producción algo, pero constantemente tenemos que estar dando soporte y arreglos cada vez que hay un nuevo despliegue. Esto ayuda mucho a que nosotros podamos analizar o el equipo de soporte pueda darnos un feedback o una retroalimentación de lo que está pasando para que nosotros después podamos aplicar las correcciones.\n",
    "\n",
    "<center><img src=\"https://i.postimg.cc/nLDV0SKx/gh411.png\"></center>\n",
    "\n",
    "___"
   ]
  },
  {
   "attachments": {},
   "cell_type": "markdown",
   "metadata": {},
   "source": [
    "Vamos a ejemplificar lo recien explicado. Para ello vamos a crear 3 tags para 3 commits\n",
    "\n",
    "<center><img src=\"https://i.postimg.cc/3NKKrKsr/gh412.png\"></center>\n",
    "\n",
    "Y los vamos a empujar al repositorio remoto\n",
    "\n",
    "<center><img src=\"https://i.postimg.cc/dV7JVNxC/gh413.png\"></center>"
   ]
  },
  {
   "attachments": {},
   "cell_type": "markdown",
   "metadata": {},
   "source": [
    "Se presento el caso de que se nos pidio de manera urgente modificar los archivos **`miembros.md`** y **`villanos.md`**. Actualmente nos encontramos en la rama **`main`**\n",
    "\n",
    "<center><img src=\"https://i.postimg.cc/T29d7DbK/gh414.png\"></center>\n",
    "\n",
    "Donde eliminaremos de la lista de miembros a **Capitan America** y lo agregaremos a la lista de villanos. Para ello crearemos una nueva rama llamada **`rama-capitan-traicion`** y nos moveremos inmeadiatamente a ella utilizando el comando **`git checkout -b rama-capitan-traicion`**. Lanzamos un commit de esta modificacion \n",
    "\n",
    "<center><img src=\"https://i.postimg.cc/sDHVyCwy/gh415.png\"></center>\n",
    "\n",
    "Y empujamos ahora esta rama creada en el repositorio local al repositorio remoto utilizando el comando **`git push origin rama-capitan-traicion`**\n",
    "\n",
    "<center><img src=\"https://i.postimg.cc/5N2xZ25n/gh416.png\"></center>"
   ]
  },
  {
   "attachments": {},
   "cell_type": "markdown",
   "metadata": {},
   "source": [
    "Ahora, para esta modificacion que se nos habia pedido y que ya la lanzamos en un commit en la rama **`rama-capitan-traicion`** vamos a marcarla con un tag de nombre **`v1.0.1`** y empujamos el nuevo tag al repositorio remoto\n",
    "\n",
    "<center><img src=\"https://i.postimg.cc/Hx0YCJPP/gh417.png\"></center>\n",
    "\n",
    "Vemos que estando posicionados en la rama **`main`** y sin haber realizado ningun tipo de merge con la rama **`rama-capitan-traicion`**, se tiene acceso para descarga a como se encuentra en ese preciso momento la rama **`rama-capitan-traicion`**. Al último commit lanzado en dicha rama se le añadió el tag **`v.1.0.1`**\n",
    "\n",
    "<center><img src=\"https://i.postimg.cc/pLgRhQw6/gh418.png\"></center>\n",
    "\n",
    "<center><img src=\"https://i.postimg.cc/1XJyfkSG/gh419.png\"></center>\n",
    "\n",
    "<center><img src=\"https://i.postimg.cc/KzbbQGv7/gh420.png\"></center>"
   ]
  },
  {
   "attachments": {},
   "cell_type": "markdown",
   "metadata": {},
   "source": [
    "Luego de la emergencia, se nos pide revertir la modificación que realizamos en los archivos **`miembros.md`** y **`villanos.md`**. Utilizaremos el comando **`git checkout <hash> <archivo_modificado>`** para ambos archivos. Tambien lanzamos un commit para este cambio.\n",
    "\n",
    "<center><img src=\"https://i.postimg.cc/SRNhFg9J/gh421.png\"></center>\n",
    "\n",
    "Posteriormente, empujamos estos cambios a la rama **`rama-capitan-traicion`**\n",
    "\n",
    "<center><img src=\"https://i.postimg.cc/NFJwgR8b/gh422.png\"></center>"
   ]
  },
  {
   "attachments": {},
   "cell_type": "markdown",
   "metadata": {},
   "source": [
    "Ahora, podriamos generar un **`pull request`** ya para unir las modificaciones a la rama **`main`**\n",
    "\n",
    "<center><img src=\"https://i.postimg.cc/9MBhn6r6/gh423.png\"></center>\n",
    "\n",
    "<center><img src=\"https://i.postimg.cc/Kvj20sFW/gh424.png\"></center>\n",
    "\n",
    "<center><img src=\"https://i.postimg.cc/J7P8cWwJ/gh425.png\"></center>\n",
    "\n",
    "Se tiene elegida la opción por defecto **`Create a merge commit`**, esto significa que se creará un nuevo commit que basicamente hace de notificacion que se realizo un merge. Si hubiesemos escogido la opción Rebase and merge, esto significaba tomar los 2 commits de la rama **`rama-capitan-traicion`** y colocarlos como los dos últimos commits en la rama **`main`** y no se crea un tercer commit.\n",
    "\n",
    "<center><img src=\"https://i.postimg.cc/ncWtgYhh/gh426.png\"></center>\n",
    "\n",
    "<center><img src=\"https://i.postimg.cc/y8SzHgDX/gh427.png\"></center>\n",
    "\n",
    "<center><img src=\"https://i.postimg.cc/CKTpLhDy/gh428.png\"></center>"
   ]
  },
  {
   "attachments": {},
   "cell_type": "markdown",
   "metadata": {},
   "source": [
    "Aqui vemos que el tercer commit corresponde de notificacion de que se genero un merge y le siguen los dos commits que corresponden a la rama **`rama-capitan-traicion`**\n",
    "\n",
    "<center><img src=\"https://i.postimg.cc/6QrJ8kL8/gh429.png\"></center>\n",
    "\n",
    "Desde el repositorio local, nos vamos a mover a la rama **`main`** y ejecutaremos el comando **`git pull`** para actualizar la rama en nuestra maquina local\n",
    "\n",
    "<center><img src=\"https://i.postimg.cc/W3sRg5XX/gh430.png\"></center>\n",
    "\n",
    "Y para finalizar, eliminaremos la rama **`rama-capitan-traicion`** desde nuestro repositorio local. Esta tambien se eliminará en el repositorio remoto\n",
    "\n",
    "<center><img src=\"https://i.postimg.cc/9Mb6pykV/gh431.png\"></center>\n",
    "\n",
    "<center><img src=\"https://i.postimg.cc/brvKFsXn/gh432.png\"></center>\n",
    "\n",
    "___"
   ]
  }
 ],
 "metadata": {
  "language_info": {
   "name": "python"
  },
  "orig_nbformat": 4
 },
 "nbformat": 4,
 "nbformat_minor": 2
}
