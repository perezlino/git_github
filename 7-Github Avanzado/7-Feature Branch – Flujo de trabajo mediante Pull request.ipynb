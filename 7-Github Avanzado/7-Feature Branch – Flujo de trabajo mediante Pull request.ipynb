{
 "cells": [
  {
   "attachments": {},
   "cell_type": "markdown",
   "metadata": {},
   "source": [
    "### **7.7 - Feature Branch - Flujo de trabajo mediante Pull request**\n",
    "\n",
    "___"
   ]
  },
  {
   "attachments": {},
   "cell_type": "markdown",
   "metadata": {},
   "source": [
    "Para la explicacion de este capitulo vamos a suponer que el repositorio de **avengers** **`tiene varios colaboradores`**\n",
    "\n",
    "Estamos en la rama **`main`** y comenzaremos creando el archivo **`villanos.md`**\n",
    "\n",
    "<center><img src=\"https://i.postimg.cc/8PyprCjx/gh370.png\"></center>\n",
    "\n",
    "Pero nosotros debemos crear una rama para realizar este tipo de modificaciones, por lo tanto, crearemos la rama **`rama-villanos`** y el archivo se creará alli. Con el comando **`git checkout -b rama villanos`** creamos la rama y nos movemos inmediatamente a dicha rama y generamos el commit de la creacion del archivo en esta rama\n",
    "\n",
    "<center><img src=\"https://i.postimg.cc/t4YXdH6J/gh371.png\"></center>\n",
    "\n",
    "Ahora, solo para verificar, en la rama **`main`** no aparece el archivo villanos.md, dado que lo guardamos en la rama **`rama-villanos`**\n",
    "\n",
    "<center><img src=\"https://i.postimg.cc/3xV3nbjB/gh372.png\"></center>"
   ]
  },
  {
   "attachments": {},
   "cell_type": "markdown",
   "metadata": {},
   "source": [
    "#### **git push origin <nombre_rama>**\n",
    "\n",
    "** Recordar que **`origin`** es el nombre que dimos al repositorio remoto en el momento que creamos la conexion con Github\n",
    "\n",
    "<center><img src=\"https://i.postimg.cc/BQ1pjmZF/gh373.png\"></center>\n",
    "\n",
    "Luego, debemos subir esta rama **`rama-villanos`** porque, digamos, que nosotros ya terminamos el trabajo y necesito que mis otros compañeros lo revisen. Para ello utilizo el comando **`git push origin rama-villanos`**\n",
    "\n",
    "<center><img src=\"https://i.postimg.cc/GmwQGv95/gh374.png\"></center>"
   ]
  },
  {
   "attachments": {},
   "cell_type": "markdown",
   "metadata": {},
   "source": [
    "Si revisamos el repositorio remoto **avengers** vemos que la rama-villanos se ha cargado en el repositorio\n",
    "\n",
    "<center><img src=\"https://i.postimg.cc/gjLV60pp/gh375.png\"></center>\n",
    "\n",
    "Si luego nos dirigimos a la pestaña **`Pull requests`** y luego pulsamos **`New pull request`**, esto con el fin de generar una solicitud de revisión de las modificaciones que hemos realizado en esta rama **`rama-villanos`** (creación  del archivo **`villanos.md`**) para que en el caso de ser aprobados sean unidos (**merge**) a la rama **`main`**\n",
    "\n",
    "<center><img src=\"https://i.postimg.cc/52Bm3jCN/gh376.png\"></center>\n",
    "\n",
    "Ahora comparemos los cambios realizados en la rama **`rama-villanos`** contra la rama **`main`**\n",
    "\n",
    "<center><img src=\"https://i.postimg.cc/3RcjRvP9/gh377.png\"></center>\n",
    "\n",
    "Si todo es correcto pulsamos **`Create pull request`**\n",
    "\n",
    "<center><img src=\"https://i.postimg.cc/WtRMmPpk/gh378.png\"></center>\n",
    "\n",
    "Adjuntamos un mensaje descriptivo y pulsamos **`Create pull request`**\n",
    "\n",
    "<center><img src=\"https://i.postimg.cc/JnncMqdG/gh379.png\"></center>"
   ]
  },
  {
   "attachments": {},
   "cell_type": "markdown",
   "metadata": {},
   "source": [
    "En este preciso momento seriamos notificados o el equipo podria a entrar a esta pantalla y revisar estos cambios. Vamos a suponer que los cambie que realicé estan correctos, por tanto, uno de mis compañeros o quien este a cargo de la revision va a realizar el merge de estos al **`main`** y luego elimine la rama **`rama-villanos`**\n",
    "\n",
    "<center><img src=\"https://i.postimg.cc/YS8f5VR5/gh380.png\"></center>\n",
    "<center><img src=\"https://i.postimg.cc/d0JjSv2R/gh381.png\"></center>\n",
    "<center><img src=\"https://i.postimg.cc/FFY8xgsr/gh382.png\"></center>\n",
    "<center><img src=\"https://i.postimg.cc/Pf0cVpPm/gh383.png\"></center>\n",
    "\n",
    "Podemos ver que los cambios realizados en la rama **`rama-villanos`** fueron unidos a la rama **`main`**\n",
    "\n",
    "<center><img src=\"https://i.postimg.cc/Qx5z28Tv/gh384.png\"></center>\n",
    "\n",
    "Tambien vemos que en el repositorio **avengers** tenemos ahora solo a la rama **`main`**, dado que solo necesitabamos las modificaciones realizadas en la rama **`rama-villanos`**, por tanto, no era necesario mantenerla\n",
    "\n",
    "<center><img src=\"https://i.postimg.cc/vTnqfyFJ/gh385.png\"></center>"
   ]
  },
  {
   "attachments": {},
   "cell_type": "markdown",
   "metadata": {},
   "source": [
    "#### **git branch -D <nombre_rama>**\n",
    "#### **git branch -v**\n",
    "\n",
    "Por último desde nuestro repositorio local tambien eliminaremos la rama rama-villanos. Sin embargo, al utilizar el comando **`git branch -d rama-villanos`** nos aparece un error. Dado que nosotros ya sabemos que los cambios fueron aprobados y unidos al main, estamos seguros de que no la necesitamos más. Para ese caso, forzaremos la eliminación utilizando el comando **`git branch -D rama-villanos`**.\n",
    "\n",
    "Para visualizar TODAS LAS RAMAS existe el comando **`git branch -v`**\n",
    "\n",
    "<center><img src=\"https://i.postimg.cc/59QkZBYs/gh386.png\"></center>\n",
    "\n",
    "___"
   ]
  }
 ],
 "metadata": {
  "language_info": {
   "name": "python"
  },
  "orig_nbformat": 4
 },
 "nbformat": 4,
 "nbformat_minor": 2
}
