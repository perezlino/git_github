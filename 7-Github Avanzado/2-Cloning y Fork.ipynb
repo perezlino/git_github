{
 "cells": [
  {
   "attachments": {},
   "cell_type": "markdown",
   "metadata": {},
   "source": [
    "### **7.2 - Cloning y Fork**\n",
    "\n",
    "Un par de conceptos necesarios para poder trabajar con repositorios ajenos a nosotros o que no tenemos los derechos de colaborador\n",
    "\n",
    "___"
   ]
  },
  {
   "attachments": {},
   "cell_type": "markdown",
   "metadata": {},
   "source": [
    "Vamos a utilizar el siguiente repositorio remoto público ==> https://github.com/Klerith/legion-del-mal\n",
    "\n",
    "Vamos a pulsar sobre el boton que dice **`Fork`**\n",
    "\n",
    "<center><img src=\"https://i.postimg.cc/MGC1mPhk/gh335.png\"></center>\n",
    "\n",
    "Y esto va a crear una copia, dependiendo de cuantos archivos haya, puede tardar un poco. Pero crea una copia en la cual vamos a tener total acceso de escritura, lectura, modificacion, dar privilegios, agregar colaboradores, etc. Vamos a poder hacer de todo con este repositorio que es un clon del repositorio **legion-del-mal** que se encuentra en la cuenta del usuario **Klerith**\n",
    "\n",
    "<center><img src=\"https://i.postimg.cc/PJhZBLX2/gh336.png\"></center>\n",
    "\n",
    "Podemos ver que hemos clonado el repositorio en nuestra cuenta de Github\n",
    "\n",
    "<center><img src=\"https://i.postimg.cc/wjPN94xt/gh337.png\"></center>"
   ]
  },
  {
   "attachments": {},
   "cell_type": "markdown",
   "metadata": {},
   "source": [
    "Ahora vamos a clonar este repositorio remoto al cual le hicimos un \"fork\" en nuestra máquina. Vamos a copiar la URL\n",
    "\n",
    "<center><img src=\"https://i.postimg.cc/7Zb78r48/gh338.png\"></center>\n",
    "\n",
    "Utilizamos el comando **`git clone https://github.com/perezlino/legion-del-mal.git demo_10`**\n",
    "\n",
    "<center><img src=\"https://i.postimg.cc/mD7CX3sP/gh339.png\"></center>\n",
    "\n",
    "Luego de clonar este repositorio en nuestra maquina local, revisamos su configuracion y el log de commits\n",
    "\n",
    "<center><img src=\"https://i.postimg.cc/NG7RRxDV/gh340.png\"></center>"
   ]
  },
  {
   "attachments": {},
   "cell_type": "markdown",
   "metadata": {},
   "source": [
    "Ahora desde el repositorio local clonado vamos a editar el archivo **`miembros.md`**\n",
    "\n",
    "<center><img src=\"https://i.postimg.cc/9FmZbqNf/gh341.png\"></center>\n",
    "\n",
    "Donde eliminamos el miembro **Scarecrow**. Ejecutamos el commit y hacemos push\n",
    "\n",
    "<center><img src=\"https://i.postimg.cc/kXT8pXkv/gh342.png\"></center>\n",
    "\n",
    "Revisamos el log de commits\n",
    "\n",
    "<center><img src=\"https://i.postimg.cc/vTz9MQDM/gh343.png\"></center>\n",
    "\n",
    "Y los cambios también los podemos ver reflejados en el repositorio copiado en Github\n",
    "\n",
    "<center><img src=\"https://i.postimg.cc/g0ZZjyrg/gh344.png\"></center>\n",
    "\n",
    "Vemos la modificacion en el archivo **`miembros.md`**\n",
    "\n",
    "<center><img src=\"https://i.postimg.cc/63xGv7vt/gh345.png\"></center>\n",
    "\n",
    "___"
   ]
  }
 ],
 "metadata": {
  "language_info": {
   "name": "python"
  },
  "orig_nbformat": 4
 },
 "nbformat": 4,
 "nbformat_minor": 2
}
