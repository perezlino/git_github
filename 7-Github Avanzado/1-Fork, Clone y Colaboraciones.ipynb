{
 "cells": [
  {
   "attachments": {},
   "cell_type": "markdown",
   "metadata": {},
   "source": [
    "### **7.1 - Fork, Clone y Colaboraciones**\n",
    "\n",
    "Aquí tendremos la introducción necesaria para comprender estos conceptos\n",
    "\n",
    "___"
   ]
  },
  {
   "attachments": {},
   "cell_type": "markdown",
   "metadata": {},
   "source": [
    "Pensemos que tenemos nuestro propio repositorio en GitHub y bueno, nos movemos a una nueva computadora o tenemos algún tipo de problema y queremos volver a configurar el repositorio. Bueno, simplemente haríamos un **`git clone`** y se acabó el problema. Ya tenemos todo el repositorio clonado en nuestra máquina y podemos empezar a trabajar. En nuestra computadora podemos realizar commits y todo eso. Luego, cuando ya estamos listos con los cambios, podemos hacer un git push y eso es totalmente válido, es lo que hemos estado haciendo durante todo este curso.\n",
    "\n",
    "Ahora, aunque el repositorio no fuera de nosotros, el repositorio en GitHub, **pero nos agregan como colaboradores**, de igual manera ustedes vamos a poder hacer todo exactamente igual, como si ese repositorio fuera de nosotros.\n",
    "\n",
    "<center><img src=\"https://i.postimg.cc/zXJkVQC3/gh331.png\"></center>"
   ]
  },
  {
   "attachments": {},
   "cell_type": "markdown",
   "metadata": {},
   "source": [
    "Ahora tenemos un caso donde tenemos un repositorio público en GitHub, **pero nosotros no somos colaboradores**, en este caso, nosotros vamos a poder hacer un **`git clone`** perfectamente sin ningún problema.\n",
    "\n",
    "Ahora, en el repositorio local de nuestra máquina, nosotros vamos a poder hacer commits locales, hacer cambios, crear ramas, todo como si nosotros fuéramos los dueños de ese repositorio. **Pero nos va a ser imposible poder hacer push a GitHub**. Es decir, nuestros cambios no los vamos a poder subir a ese repositorio original.\n",
    "\n",
    "<center><img src=\"https://i.postimg.cc/kgGFythm/gh332.png\"></center>"
   ]
  },
  {
   "attachments": {},
   "cell_type": "markdown",
   "metadata": {},
   "source": [
    "Pero supongamos que nosotros queremos colaborar con el repositorio original porque tenemos algunas buenas ideas para esa librería o encontramos errores que nosotros sabemos cómo resolver.\n",
    "\n",
    "Pensemos que tenemos este repositorio público en GitHub del usuario Google y es el repositorio de Maps. ¿Cómo podemos hacer nosotros para poder hacer las pruebas y subirlas a GitHub? Aquí entra el concepto de un **`fork`**, que es tomar el repositorio original y clonarlo a un lugar donde nosotros tenemos total acceso a ese a ese repositorio. En este caso sería **mi_usuario/maps** en vez de **google/ maps**. En nuestra cuenta de Github se crea ese clon en el cual nosotros vamos a poder hacer push, commits, clones, etc. Vamos a tener total acceso a ese repositorio.\n",
    "\n",
    "Bueno, pero ¿qué pasa cuando nosotros queremos o hacemos las modificaciones a nuestro repositorio y queremos enseñárselas a los dueños del repositorio de Google? o para decirles agreguen esta característica o corrijan estos errores. ¿Cómo podemos hacer eso?\n",
    "\n",
    "<center><img src=\"https://i.postimg.cc/g27ytkf6/gh333.png\"></center>"
   ]
  },
  {
   "attachments": {},
   "cell_type": "markdown",
   "metadata": {},
   "source": [
    "Aquí entra el concepto de lo que es el **`pull request`**. De nuevo en el mismo ejemplo que teníamos anteriormente. Piensen que un **`fork`** es como una rama adicional en la cual la gente de Google Maps no tiene la menor idea de lo que ustedes están haciendo, pero sigue siendo como una rama, la cual puede ser unida de regreso al padre. En este caso, el padre sería Google Maps. \n",
    "\n",
    "Con la rama nosotros podemos hacer todas las modificaciones que nosotros queramos. Cuando ya estamos listos para decirle a la gente de Google, miren, estos son mis cambios, por favor, revísalos, ahí es donde entra el **`pull request`**, que es enviarle sus cambios a las personas que tienen total control y acceso a el repositorio de **goole/maps**. Ahí ellos van a poder revisarlo, van a poder aceptarlos o rechazarlos. Y si ellos lo aceptan, todos sus cambios van a ser parte ahora de una rama a la que ellos escojan en ese repositorio. En pocas palabras, ustedes harían su contribución a las librerías de Google.\n",
    "\n",
    "<center><img src=\"https://i.postimg.cc/wT0QJk22/gh334.png\"></center>\n",
    "\n",
    "___\n"
   ]
  }
 ],
 "metadata": {
  "language_info": {
   "name": "python"
  },
  "orig_nbformat": 4
 },
 "nbformat": 4,
 "nbformat_minor": 2
}
