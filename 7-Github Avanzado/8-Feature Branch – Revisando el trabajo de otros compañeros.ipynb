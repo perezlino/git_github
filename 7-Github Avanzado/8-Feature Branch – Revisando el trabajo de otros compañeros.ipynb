{
 "cells": [
  {
   "attachments": {},
   "cell_type": "markdown",
   "metadata": {},
   "source": [
    "### **7.8 - Feature Branch - Revisando el trabajo de otros compañeros**\n",
    "\n",
    "Podemos revisar el trabajo de otros compañeros de esta forma\n",
    "\n",
    "___"
   ]
  },
  {
   "attachments": {},
   "cell_type": "markdown",
   "metadata": {},
   "source": [
    "Para la explicacion de este capitulo vamos a suponer que el repositorio de **avengers** **`tiene varios colaboradores`**\n",
    "\n",
    "Esta vez vamos a simular el trabajo de otro compañero. Vamos a crear una rama directamente en Github, claro la idea es que nuestro compañero lo haga localmente y que suba los cambios y todo eso, pero en teoria nosotros lo haremos en Github solo como simulacion. La rama se llamará **`rama-misiones`**\n",
    "\n",
    "<center><img src=\"https://i.postimg.cc/qRMvGWyq/gh387.png\"></center>\n",
    "\n",
    "Y vamos a crear un archivo en dicha rama\n",
    "\n",
    "<center><img src=\"https://i.postimg.cc/QCFN256r/gh388.png\"></center>\n",
    "\n",
    "El archivo se llamará **`misiones.md`** \n",
    "\n",
    "<center><img src=\"https://i.postimg.cc/wTsTFXyX/gh389.png\"></center>\n",
    "\n",
    "Lanzaremos el commit para guardar esta modificación en la rama **`rama-misiones`**\n",
    "\n",
    "<center><img src=\"https://i.postimg.cc/ydd7RcCS/gh390.png\"></center>\n",
    "\n",
    "La modificacion se ejecutó correctamente\n",
    "\n",
    "<center><img src=\"https://i.postimg.cc/y846GDcw/gh391.png\"></center>"
   ]
  },
  {
   "attachments": {},
   "cell_type": "markdown",
   "metadata": {},
   "source": [
    "Si nos vemos ahora a la rama **`main`**, podemos ver que obviamente el archivo creado en **`rama-misiones`** no nos aparece\n",
    "\n",
    "<center><img src=\"https://i.postimg.cc/fRcWQMvk/gh392.png\"></center>"
   ]
  },
  {
   "attachments": {},
   "cell_type": "markdown",
   "metadata": {},
   "source": [
    "#### **git pull --all**\n",
    "\n",
    "Vamos a ponernos en la situación de que nuestro compañero Tomás fue quien creo la rama **`rama-misiones`** y nos pidió personalmente que revisaremos sus modificaciones. Vamos a revisarla de manera local y para ello debemos traer esa rama a nuestro repositorio local utilizando el comando **`git pull`**. Existe la probabilidad que al ejecutar este comando no nos traiga la rama, en dicho caso utilizamos el comando **`git pull --all`**\n",
    "\n",
    "<center><img src=\"https://i.postimg.cc/SQPxWTsQ/gh393.png\"></center>"
   ]
  },
  {
   "attachments": {},
   "cell_type": "markdown",
   "metadata": {},
   "source": [
    "Luego de traer la rama rama-misiones a nuestro repositorio local, vamos a movernos a ella utilizando el comando **`git checkout rama-misiones`**. Nosotros revisamos los cambios realizados por nuestro compañero Tomás y encontramos que le faltó una misión en el archivo **`misiones.md `**. La vamos a agregar.\n",
    "\n",
    "<center><img src=\"https://i.postimg.cc/90sXCMSw/gh394.png\"></center>\n",
    "\n",
    "A continuación, concluimos que todo lo demás está perfecto y lanzaremos el commit contra la rama rama-misiones. Finalmente, ejecutamos el push hacia el repositorio avengers especificamente a la rama **`rama-misiones`** utilizando el comando **`git push origin rama-misiones`**\n",
    "\n",
    "<center><img src=\"https://i.postimg.cc/jjRxsB8c/gh395.png\"></center>"
   ]
  },
  {
   "attachments": {},
   "cell_type": "markdown",
   "metadata": {},
   "source": [
    "Mi modificacion en la rama de mi compañero fue realizada correctamente. Ahora, supongamos que yo realizó el **`pull request`** (podria hacerlo yo o mi compañero, o cualquier otro compañero en realidad, dado que todos tenemos acceso)\n",
    "\n",
    "<center><img src=\"https://i.postimg.cc/bvLzdLWh/gh396.png\"></center>\n",
    "<center><img src=\"https://i.postimg.cc/zBc8Fvq2/gh397.png\"></center>\n",
    "\n",
    "En este preciso momento seriamos notificados o el equipo podria a entrar a esta pantalla y revisar estos cambios. Vamos a suponer que los cambie que realicé estan correctos, por tanto, uno de mis compañeros o quien este a cargo de la revision va a realizar el merge de estos al **`main`**\n",
    "\n",
    "<center><img src=\"https://i.postimg.cc/fySZ2sLz/gh398.png\"></center>\n",
    "<center><img src=\"https://i.postimg.cc/z3mN4Qbn/gh399.png\"></center>\n",
    "<center><img src=\"https://i.postimg.cc/dQgTqtG9/gh400.png\"></center>\n",
    "\n",
    "Verificamos que el archivo se unió de manera correcta al **`main`**\n",
    "\n",
    "<center><img src=\"https://i.postimg.cc/44Y9khHd/gh401.png\"></center>\n",
    "<center><img src=\"https://i.postimg.cc/8z7Z3CBg/gh402.png\"></center>\n",
    "\n",
    "___"
   ]
  }
 ],
 "metadata": {
  "language_info": {
   "name": "python"
  },
  "orig_nbformat": 4
 },
 "nbformat": 4,
 "nbformat_minor": 2
}
