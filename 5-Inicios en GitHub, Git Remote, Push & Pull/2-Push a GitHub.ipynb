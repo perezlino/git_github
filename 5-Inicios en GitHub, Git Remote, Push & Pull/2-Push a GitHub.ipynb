{
 "cells": [
  {
   "attachments": {},
   "cell_type": "markdown",
   "metadata": {},
   "source": [
    "### **5.2 - Push a Github**\n",
    "\n",
    "Realizaremos nuestra primera subida de nuestro repositorio local a nuestro repositorio en GitHub\n",
    "\n",
    "___"
   ]
  },
  {
   "attachments": {},
   "cell_type": "markdown",
   "metadata": {},
   "source": [
    "Desde nuestra cuenta de Github comenzaremos creando un repositorio:\n",
    "\n",
    "<center><img src=\"https://i.postimg.cc/ryWHjxQC/gh231.png\"></center>\n",
    "\n",
    "Indicamos un nombre para nuestro repositorio y lo dejamos **`público`**. Si ustedes lo dejan **`público`**, cualquier persona lo va a poder ver, va a poder analizar cada una de las líneas de código que ustedes tengan ahí y también lo pueden copiar y clonar en su computadora.\n",
    "\n",
    "Si ustedes lo hacen en **`privado`**, sólo las personas que ustedes especifiquen van a poder apreciar todo su contenido.\n",
    "\n",
    "Nuevamente, también si usted lo deja público no quiere decir que personas van a poder hacer commit a su repositorio. No, eso no lo permite, a menos de que ustedes habiliten que esa persona en particular puede hacer modificaciones en el repositorio.\n",
    "\n",
    "<center><img src=\"https://i.postimg.cc/9FYn5V3D/gh232.png\"></center>\n",
    "\n",
    "Copiamos el código indicado y lo pegamos en nuestra linea de comandos\n",
    "\n",
    "<center><img src=\"https://i.postimg.cc/rsxFFsGX/gh233.png\"></center>\n",
    "\n",
    "Lo hacemos linea por linea\n",
    "\n",
    "<center><img src=\"https://i.postimg.cc/NLhS7hJR/gh234.png\"></center>\n",
    "\n",
    "Ahora hemos logrado pushear nuestro directorio local al repositorio remoto en Github\n",
    "\n",
    "<center><img src=\"https://i.postimg.cc/7YsmkrM9/gh235.png\"></center>\n",
    "\n",
    "___"
   ]
  }
 ],
 "metadata": {
  "language_info": {
   "name": "python"
  },
  "orig_nbformat": 4
 },
 "nbformat": 4,
 "nbformat_minor": 2
}
