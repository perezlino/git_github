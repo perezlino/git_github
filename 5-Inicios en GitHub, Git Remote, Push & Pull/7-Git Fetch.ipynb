{
 "cells": [
  {
   "attachments": {},
   "cell_type": "markdown",
   "metadata": {},
   "source": [
    "### **5.7 - Git Fetch**\n",
    "\n",
    "___"
   ]
  },
  {
   "attachments": {},
   "cell_type": "markdown",
   "metadata": {},
   "source": [
    "#### **git fetch**\n",
    "\n",
    "- **`git fetch`** trae los cambios, pero los deja en otro branch, hasta que se hace el **`git merge`** para traerlos al branch local.\n",
    "\n",
    "- Siempre en un repositorio tienes una rama oculta, que puedes ver al usar **git branch -a**. Esa rama oculta es **`origin/main`**. Tú al usar **`git fetch`**, bajas los cambios del repositorio remoto a la rama **`origin/main`**: **`git fetch`** o **`git fetch origin`**. Ahora ya tienes los cambios en **`origin/main`**, pero tendrías que pasarlos a la rama **`main`**, para eso tienes que usar: **`git merge origin/main`**. A partir de esto tu tienes los nuevos cambios en tu rama **`main`** y listo. Al usar **`git pull`** estas combinando **git fetch + git merge**.\n",
    "\n",
    "- En realidad **`git pull`** baja los cambios de la rama determinada y la actualiza contra tu repositorio local. **`git fetch`** baja los cambios de la rama determinada y la coloca en una rama espejo que simplemente es una clase de rama escondida en la cual tú puedes mirar los cambios de dicha rama, para posteriormente hacer merge con tu rama local. El **`git pull`** simplemente es un **git fecth + git merge**. No utilizar el git pull si en realidad está dudoso de qué cambios puedan traerse del repositorio remoto."
   ]
  },
  {
   "attachments": {},
   "cell_type": "markdown",
   "metadata": {},
   "source": [
    "Veamoslo con un ejemplo, vamos a modificar en Github el archivo **`heroes.md`**\n",
    "\n",
    "<center><img src=\"https://i.postimg.cc/3JXjC8RB/gh264.png\"></center>\n",
    "\n",
    "Pulsamos el icono indicado\n",
    "\n",
    "<center><img src=\"https://i.postimg.cc/W1SMC50q/gh265.png\"></center>\n",
    "\n",
    "Agregamos un heroe y luego pulsamos el icono de commit\n",
    "\n",
    "<center><img src=\"https://i.postimg.cc/YCt6d5Lw/gh266.png\"></center>\n",
    "\n",
    "Indicamos el nombre del commit, que el commit sea lanzando en la rama **`main`** y luego pulsamos el icono de generar el commit\n",
    "\n",
    "<center><img src=\"https://i.postimg.cc/hv9mrsSj/gh267.png\"></center>\n",
    "\n",
    "Se ha ejecutado correctamente en el repositorio remoto\n",
    "\n",
    "<center><img src=\"https://i.postimg.cc/CMDbShjg/gh268.png\"></center>\n",
    "\n",
    "Sin embargo, nuestro directorio local esta ausente de las modificaciones realizadas en Github. No nos muestra la modificacion realizada en el archivo **`heroes.md`** y tampoco aparece el commit que realizamos en Github\n",
    "\n",
    "<center><img src=\"https://i.postimg.cc/HnG5XR1R/gh269.png\"></center>\n",
    "\n",
    "Lanzamos el comando **`git fetch origin`** (o **`git fetch`**). Vemos que nuestro archivo aun no es actualizado, sin embargo, nuestro log de commits si fue actualizado. Como se mencionó anteriormente, los cambios desde el repositorio remoto fueron traidos a la rama oculta **`origin/main`**\n",
    "\n",
    "<center><img src=\"https://i.postimg.cc/76J0CDdS/gh270.png\"></center>\n",
    "\n",
    "Veamos las diferencias entre la rama **`main`** y la rama **`origin/main`** antes de realizar el **merge** entre ambas ramas\n",
    "\n",
    "<center><img src=\"https://i.postimg.cc/wBvhpDkf/gh271.png\"></center>\n",
    "\n",
    "Si los cambios encontramos que estan correctos podemos ahora utilizar el comando **`git merge origin/main`**\n",
    "\n",
    "<center><img src=\"https://i.postimg.cc/pd6KXyG2/gh272.png\"></center>\n",
    "\n",
    "___"
   ]
  }
 ],
 "metadata": {
  "language_info": {
   "name": "python"
  },
  "orig_nbformat": 4
 },
 "nbformat": 4,
 "nbformat_minor": 2
}
