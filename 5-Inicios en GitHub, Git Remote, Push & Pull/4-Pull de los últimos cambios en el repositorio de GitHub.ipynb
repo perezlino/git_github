{
 "cells": [
  {
   "attachments": {},
   "cell_type": "markdown",
   "metadata": {},
   "source": [
    "### **5.4 - Pull de los últimos cambios en el repositorio de Github**\n",
    "\n",
    "El Pull, nos permite descargar los últimos cambios del repositorio en GitHub\n",
    "___"
   ]
  },
  {
   "attachments": {},
   "cell_type": "markdown",
   "metadata": {},
   "source": [
    "Vamos a comenzar mostrando un ejemplo, donde vamos a editar el archivo **`README.md`**\n",
    "\n",
    "<center><img src=\"https://i.postimg.cc/jdYhPVzq/gh244.png\"></center>\n",
    "\n",
    "Pulsamos sobre el icono indicado\n",
    "\n",
    "<center><img src=\"https://i.postimg.cc/3xKCfgSP/gh245.png\"></center>\n",
    "\n",
    "Agregamos dos lineas de texto al archivo y luego pulsamos sobre el icono para generar el commit\n",
    "\n",
    "<center><img src=\"https://i.postimg.cc/L5KjtfgQ/gh246.png\"></center>\n",
    "\n",
    "Escribimos el nombre que tendrá el commit y luego elegimos la opción que este commit se lanzará en la rama **`main`**\n",
    "\n",
    "Ahora también ustedes les da la opción de crearse una nueva rama para después hacer lo que se conoce como un **`pull request`**.\n",
    "\n",
    "Ya vamos a hablar más sobre lo que es el **`pull request`**, pero por ahora haremos el commit directamente en el **`main`**, cosa que usualmente ustedes no van a hacer. Ustedes no deberían hacer commits directos al **`main`**, porque recuerden que el main lo va a tener todo el mundo y las personas deberían de tener o visualizar el **`main`** como la versión final del repositorio, la versión final que tiene todo lo estable, todo lo que está listo para producción y luego trabajar siempre en ramas. Inclusive si ustedes son los únicos que están trabajando en el repositorio, siempre es conveniente que trabajen en ramas.\n",
    "\n",
    "\n",
    "<center><img src=\"https://i.postimg.cc/cH8QtTC8/gh247.png\"></center>\n",
    "\n",
    "Visualizamos que los cambios se ejecutaron de manera correcta\n",
    "\n",
    "<center><img src=\"https://i.postimg.cc/59LBxPDh/gh248.png\"></center>\n",
    "\n",
    "<center><img src=\"https://i.postimg.cc/MH7VdTy6/gh249.png\"></center>"
   ]
  },
  {
   "attachments": {},
   "cell_type": "markdown",
   "metadata": {},
   "source": [
    "#### **git remote -v**\n",
    "\n",
    "Desde nuestro directorio local podemos ver que el archivo **`README.md`** no posee las modificaciones que realizamos desde Github\n",
    "\n",
    "Si lanzamos el comando `**git remote -v**`, aquí tenemos el **Fetch** que es de donde ustedes van a obtener la información y también el **Push** donde vamos a hacer obviamente el Push o la subida de su información que pudiera ser diferente, pero usualmente son iguales.\n",
    "\n",
    "<center><img src=\"https://i.postimg.cc/6pYVkyFT/gh250.png\"></center>"
   ]
  },
  {
   "attachments": {},
   "cell_type": "markdown",
   "metadata": {},
   "source": [
    "#### **git pull**\n",
    "\n",
    "Para ello debemos utilizar el comando **`git pull`** con el cual traemos al directorio local todos los cambios realizados en el sitio web o que se hayan realizado en el archivo por otras personas y pusheados al sitio web\n",
    "\n",
    "Nos permite traer los datos que se encuentran en el origen (origin) que está seteado por defecto. Ahora podemos ver los cambios hechos en la interfaz web de GitHub en el archivo README.md en VSCode, es decir, de forma local.\n",
    "\n",
    "<center><img src=\"https://i.postimg.cc/mrk3BTGj/gh251.png\"></center>\n",
    "\n",
    "Podemos revisar el log de commits el cual contiene el commit realizado en Github\n",
    "\n",
    "<center><img src=\"https://i.postimg.cc/MGL7Gg6S/gh252.png\"></center>\n",
    "\n",
    "Y utilizando el comando **`git log`** podemos revisar quien, cuando y donde fue realizado un commit en especifico\n",
    "\n",
    "<center><img src=\"https://i.postimg.cc/vHyWDrsc/gh253.png\"></center>\n",
    "\n",
    "___"
   ]
  }
 ],
 "metadata": {
  "language_info": {
   "name": "python"
  },
  "orig_nbformat": 4
 },
 "nbformat": 4,
 "nbformat_minor": 2
}
