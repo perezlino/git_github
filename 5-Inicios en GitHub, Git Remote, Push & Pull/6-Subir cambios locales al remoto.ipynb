{
 "cells": [
  {
   "attachments": {},
   "cell_type": "markdown",
   "metadata": {},
   "source": [
    "### **5.6 - Subir cambios locales al remoto**\n",
    "\n",
    "___"
   ]
  },
  {
   "attachments": {},
   "cell_type": "markdown",
   "metadata": {},
   "source": [
    "#### **git push**\n",
    "\n",
    "Vamos a comenzar modificando el archivo **`README.md`** y agregando el texto indicado\n",
    "\n",
    "<center><img src=\"https://i.postimg.cc/dth09LDP/gh259.png\"></center>\n",
    "\n",
    "Luego agregaremos la modificacion al **stage** y lanzaremos el commit. Verificamos si el commit se lanzo correctamente revisando el log de commits.\n",
    "\n",
    "- **`origin/main`**: Es una rama oculta que utiliza el repositorio remoto. Podemos ver su existencia con el comando **`git branch -a`**\n",
    "- **`origin/HEAD`**: nos indica que este es el último commit que tiene el repositorio remoto\n",
    "\n",
    "<center><img src=\"https://i.postimg.cc/3xpJPVgt/gh260.png\"></center>\n",
    "\n",
    "Ahora, lanzaremos el comando **`git push`** y de esta manera empujaremos los cambios al repositorio remoto\n",
    "\n",
    "<center><img src=\"https://i.postimg.cc/CL9xrSfZ/gh261.png\"></center>\n",
    "\n",
    "Revisemos desde Github si efectivamente en el repositorio se efectuo la carga\n",
    "\n",
    "<center><img src=\"https://i.postimg.cc/hG14GmZx/gh262.png\"></center>\n",
    "\n",
    "Podemos ver que todo se cargo de manera correcta\n",
    "\n",
    "<center><img src=\"https://i.postimg.cc/0Ns2xnnP/gh263.png\"></center>\n",
    "\n",
    "___"
   ]
  }
 ],
 "metadata": {
  "language_info": {
   "name": "python"
  },
  "orig_nbformat": 4
 },
 "nbformat": 4,
 "nbformat_minor": 2
}
