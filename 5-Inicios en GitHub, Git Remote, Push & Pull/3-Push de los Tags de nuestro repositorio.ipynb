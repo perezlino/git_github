{
 "cells": [
  {
   "attachments": {},
   "cell_type": "markdown",
   "metadata": {},
   "source": [
    "### **5.3 - Push de los Tags de nuestro repositorio**\n",
    "\n",
    "Realizaremos la subida de los tags que en GitHub nos ayudarán a que trabajen como versiones completas o puntos de control importantes\n",
    "___"
   ]
  },
  {
   "attachments": {},
   "cell_type": "markdown",
   "metadata": {},
   "source": [
    "#### **git push --tags**\n",
    "\n",
    "Luego de haber pusheado nuestro directorio local al repositorio remoto en Github, pudimos darnos cuenta que el **`icono de tags`** nos decia **`0`**.\n",
    "\n",
    "<center><img src=\"https://i.postimg.cc/WpGT1Xhx/gh236.png\"></center>\n",
    "\n",
    "Si damos clic sobre el icono, podemos verificar que no se ha cargado ningun tag de los que creamos en nuestro directorio local\n",
    "\n",
    "<center><img src=\"https://i.postimg.cc/L8fVcYyk/gh237.png\"></center>\n",
    "\n",
    "Verificamos los tags de nuestro directorio local\n",
    "\n",
    "<center><img src=\"https://i.postimg.cc/NjHx3JsP/gh242.png\"></center>\n",
    "\n",
    "Y luego lanzamos un push de los tags utilizando el comando **`git psuh --tags`** estos hacia el repositorio remoto\n",
    "\n",
    "<center><img src=\"https://i.postimg.cc/dQ5nrZNn/gh238.png\"></center>\n",
    "\n",
    "Se han cargado nuestros 3 tags en el repositorio remoto\n",
    "\n",
    "<center><img src=\"https://i.postimg.cc/nLf1p4MV/gh239.png\"></center>\n",
    "\n",
    "Si damos clic en el icono y luego pulsamos sobre el tag **`v2.0.0`**\n",
    "\n",
    "<center><img src=\"https://i.postimg.cc/5Njg39ZJ/gh240.png\"></center>\n",
    "\n",
    "Podemos ver que se tiene la opción de descargar el código de esta version. Ahora, si pulsamos sobre **`hash`** de este commit \n",
    "\n",
    "<center><img src=\"https://i.postimg.cc/WbKnfLvk/gh241.png\"></center>\n",
    "\n",
    "Podemos ver las modificaciones que realizamos con respecto al commit anterior\n",
    "\n",
    "<center><img src=\"https://i.postimg.cc/SKLfsnz6/gh243.png\"></center>\n",
    "\n",
    "___"
   ]
  }
 ],
 "metadata": {
  "language_info": {
   "name": "python"
  },
  "orig_nbformat": 4
 },
 "nbformat": 4,
 "nbformat_minor": 2
}
