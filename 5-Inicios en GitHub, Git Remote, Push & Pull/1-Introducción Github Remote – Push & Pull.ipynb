{
 "cells": [
  {
   "attachments": {},
   "cell_type": "markdown",
   "metadata": {},
   "source": [
    "### **5.1 - Introduccion Githubg Remote - Push & Pull**\n",
    "\n",
    "Esta clase nos ayudara a tener una idea de lo que los términos remote, push y pull significan\n",
    "\n",
    "___"
   ]
  },
  {
   "attachments": {},
   "cell_type": "markdown",
   "metadata": {},
   "source": [
    "Mentalicémonos que tenemos nuestro proyecto, estamos trabajando, tenemos todo nuestro repositorio listo con commits, con ramas, todo listo. Llega un punto donde nosotros vamos a querer hacer un respaldo de ese repositorio, por lo general en una computadora ajena a la nuestra. Esto se llama un **`repositorio remoto`**. La idea es que nosotros estemos en interacción con ese servidor remoto para asegurarnos de que nuestro proyecto está a salvo, porque el disco duro de nuestra máquina o toda la computadora puede fallar en cualquier momento.\n",
    "\n",
    "Para eso nosotros ahí votaremos un comando llamado **`push`**, que es tomar nuestro repositorio o los últimos cambios que hemos hecho o los cambios pendientes que no están en el repositorio y subirlo a ese servidor.\n",
    "\n",
    "Ahora puede ser que vengan al equipo otras dos personas nuevas. Esas dos personas simplemente tendrían que hacer lo que se conoce como un **`pull`** para obtener los cambios desde el servidor. Es decir, yo subo los cambios y otras personas pueden hacer el pull para descargarlos.\n",
    "\n",
    "Ahora digamos que \"Batman\" llega y realiza modificaciones. Él también podrá realizar un push para que él también pueda subir sus cambios y yo darme cuenta, siendo yo \"Daredevil\" debo poder darme cuenta de los cambios que hizo Batman y así trabajar de forma colaborativa con otras personas.\n",
    "\n",
    "<center><img src=\"https://i.postimg.cc/Gtq8xQzQ/gh221.png\"></center>"
   ]
  },
  {
   "attachments": {},
   "cell_type": "markdown",
   "metadata": {},
   "source": [
    "Ahora es importante que ustedes conozcan que Git no maneja el acceso al repositorio y también es importante que ustedes consideren que Git y GitHub son cosas totalmente diferentes.\n",
    "\n",
    "Pensemos que tenemos un equipo de trabajo. Ese equipo podrá trabajar y hacer todo lo que sea en el repositorio. Es decir, no hay un control de acceso que les diga, ok, Linterna Verde solo podrá trabajar con estos archivos, Daredevil solo puede trabajar con aquellos otros, Batman solo con la rama principal. Eso no se puede hacer en Git.\n",
    "\n",
    "Para eso existen diferentes servicios que nos permiten a nosotros tener ese control de acceso. Hay dos tipos: \n",
    "\n",
    "1. Hosteados: es decir que usamos los servicios que nos ofrecen otras personas. \n",
    "2. Ahora puede ser que necesitemos manejar algo por nuestra cuenta. Podemos usar algo llamado Gitosis.\n",
    "\n",
    "<center><img src=\"https://i.postimg.cc/SRz3WTy0/gh222.png\"></center>\n",
    "\n",
    "___"
   ]
  },
  {
   "attachments": {},
   "cell_type": "markdown",
   "metadata": {},
   "source": [
    "#### **Github**\n",
    "\n",
    "Es una plataforma de desarrollo colaborativo de software para alojar proyectos. \n",
    "\n",
    "Estos son algunos beneficios que nos entrega Github:\n",
    "\n",
    "<center><img src=\"https://i.postimg.cc/28LLZ4h4/gh223.png\"></center>"
   ]
  },
  {
   "attachments": {},
   "cell_type": "markdown",
   "metadata": {},
   "source": [
    "Una pequeña actualización es que GitHub desde enero del 2019 les permite ustedes crear repositorios privados de forma gratuita, esto con su misma cuenta y sin ningún pago de suscripción ni nada de tarjeta de crédito. En pocas palabras, podemos crear repositorios públicos y privados.\n",
    "\n",
    "¿A que me refiero con que sea público?  La gente va a poder clonar sus repositorios y ver lo que está en ellos. No pueden hacer push ni tampoco pueden hacer commits a sus repositorios, pero la gente sabrá qué es lo que están haciendo con su proyecto. Si eso no les estorba, pues entonces Guitub es la forma ideal para ustedes de forma gratuita.\n",
    "\n",
    "<center><img src=\"https://i.postimg.cc/h4frJfrV/gh224.png\"></center>"
   ]
  },
  {
   "attachments": {},
   "cell_type": "markdown",
   "metadata": {},
   "source": [
    "Una vez que nosotros vamos a crear un repositorio en GitHub, tenemos una pantalla muy parecida a ésta en la cual vamos a escribir el nombre del repositorio que tiene que ser único dentro de nuestra cuenta de usuario y luego le damos crear repositorio. Eso sería todo.\n",
    "\n",
    "<center><img src=\"https://i.postimg.cc/SxsNqbqQ/gh225.png\"></center>"
   ]
  },
  {
   "attachments": {},
   "cell_type": "markdown",
   "metadata": {},
   "source": [
    "Después de eso, nos lleva una pantalla como esta dependiendo de las opciones que seleccionamos, pero por lo general va a ser esta pantalla en la cual nos da una URL.\n",
    "\n",
    "<center><img src=\"https://i.postimg.cc/0jjM4Mtx/gh226.png\"></center>\n"
   ]
  },
  {
   "attachments": {},
   "cell_type": "markdown",
   "metadata": {},
   "source": [
    "Cuando estamos en nuestro repositorio local y queremos agregar lo que se conoce como un origen remoto, es el siguiente comando:\n",
    "\n",
    "**git remote add origin https://github.com/perezlino/regular_expressions_regex.git**\n",
    "\n",
    "- **`perezlino`**: usuario\n",
    "- **`regular_expressions_regex`**: nombre repositorio remoto\n",
    "\n",
    "**¿Qué significa la palabra `add`?**\n",
    "\n",
    "Simplemente quiero agregar un nuevo **`remote`**. Podemos tener varios remotes en un mismo repositorio.\n",
    "\n",
    "La palabra **`origin`** es el nombre que nosotros le queremos dar a ese repositorio. Cuando nosotros agregamos otro repositorio, le podemos poner como \"upstream\" o le podemos poner \"origen2\" o le podemos poner cualquier nombre, pero es un estándar que se llame origin.\n",
    "\n",
    "Luego tenemos la dirección de donde va a estar ese repositorio por defecto es la dirección de GuitHub, pues así lo vamos a hacer a lo largo de este curso.\n",
    "\n",
    "**`origin`**, como decía, es un estándar para referirnos al origen, nada más.\n",
    "\n",
    "<center><img src=\"https://i.postimg.cc/V6Lp3mXm/gh227.png\"></center>\n"
   ]
  },
  {
   "attachments": {},
   "cell_type": "markdown",
   "metadata": {},
   "source": [
    "Ahora, eso del **`fetch`** y **`push`** es porque puede ser que nosotros ocupemos obtener datos de un lugar diferente a donde hacemos los push. Pero bueno, la cosa es que por lo general el 99 por ciento de las veces va a ser igual. El **`fetch`** y **`push`** van a ser del mismo lugar.\n",
    "\n",
    "<center><img src=\"https://i.postimg.cc/PrwX6QtK/gh228.png\"></center>"
   ]
  },
  {
   "attachments": {},
   "cell_type": "markdown",
   "metadata": {},
   "source": [
    "Las opciones **`-m`** y **`-M`** de **`git branch`** se actualizaron en Git 2.30 para permitir renombrar el nombre de la rama actual aún no existente en situaciones especiales, como cuando estás en un repositorio nuevo y vacío.\n",
    "\n",
    "Ahora tenemos otra cosa que es muy interesante ver acá lo que es el **`git push -u origin main`**.\n",
    "\n",
    "¿Qué significa cada una de estas cosas?\n",
    "\n",
    "Bueno, pensemos que el **`origin`** es el nombre del repositorio que nosotros queremos. Ok, cuando vayamos a hacer la subida de la información, main es la rama que nosotros deseamos enviar al repositorio. Puede ser main, puede ser rama-misiones-completadas, se acuerdan? Puede ser cualquier rama. Ustedes pueden especificarla en ese punto. Y él **`-u`** pues nos ayuda a que la próxima vez que nosotros queramos hacer un push, no necesitamos especificar la rama.\n",
    "\n",
    "Por ejemplo, quiero establecer **`main`** por defecto. Esto es bien común hacerlo.\n",
    "\n",
    "<center><img src=\"https://i.postimg.cc/GpvwGb1j/gh229.png\"></center>"
   ]
  },
  {
   "attachments": {},
   "cell_type": "markdown",
   "metadata": {},
   "source": [
    "Una vez ingresemos ese comando, nos va a pedir nuestro usuario y contraseña de GitHub. Una vez que las ingresamos va a realizar este trabajo del push y lo va a subir todo al sitio web. Sin embargo, existe un metodo para automatizar ese proceso y no tener que ingresar nuestras credenciales cada vez que hagamos un push\n",
    "\n",
    "<center><img src=\"https://i.postimg.cc/brg2JXJy/gh230.png\"></center>\n",
    "\n",
    "___"
   ]
  }
 ],
 "metadata": {
  "language_info": {
   "name": "python"
  },
  "orig_nbformat": 4
 },
 "nbformat": 4,
 "nbformat_minor": 2
}
