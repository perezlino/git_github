{
 "cells": [
  {
   "attachments": {},
   "cell_type": "markdown",
   "metadata": {},
   "source": [
    "### **5.5 - Clonar un repositorio**\n",
    "\n",
    "Esta es la forma más rápida de comenzar a trabajar en un repositorio\n",
    "___"
   ]
  },
  {
   "attachments": {},
   "cell_type": "markdown",
   "metadata": {},
   "source": [
    "#### **git clone <URL>**\n",
    "\n",
    "Desde el repositorio remoto pulsamos **`Code`** y copiamos la URL, seleccionando **`HTTPS`** dado que nuestro repositorio remoto lo creamos con dicha opción\n",
    "\n",
    "<center><img src=\"https://i.postimg.cc/SNGfh1kf/gh254.png\"></center>\n",
    "\n",
    "Desde nuestra consola nos posicionamos sobre nuestro directorio padre y lanzamos el comando **`git clone https://github.com/perezlino/udemy_heroes.git`** para clonar dicho repositorio en nuestro directorio local\n",
    "\n",
    "<center><img src=\"https://i.postimg.cc/x1TyTGdD/gh255.png\"></center>\n",
    "\n",
    "Podemos ver que se ha creado el directorio **udemy-heroes** que corresponde al repositorio que hemos clonado\n",
    "\n",
    "<center><img src=\"https://i.postimg.cc/mrKQw0yB/gh256.png\"></center>\n",
    "\n",
    "___"
   ]
  },
  {
   "attachments": {},
   "cell_type": "markdown",
   "metadata": {},
   "source": [
    "#### **git clone <URL> nombre_directorio**\n",
    "\n",
    "De igual forma podemos agregar al comando el nombre que queremos dar para el repositorio que estamos clonando. En este caso, al final del comando indicamos el nombre que tendrá nuestro directorio que sera un clon del repositorio, se llamará **`demo_09`**\n",
    "\n",
    "<center><img src=\"https://i.postimg.cc/NjJ8yyyy/gh257.png\"></center>\n",
    "\n",
    "Podemos ver que se ha creado el directorio **demo_09** que corresponde al repositorio que hemos clonado\n",
    "\n",
    "<center><img src=\"https://i.postimg.cc/0NzY78mV/gh258.png\"></center>\n",
    "\n",
    "___"
   ]
  }
 ],
 "metadata": {
  "language_info": {
   "name": "python"
  },
  "orig_nbformat": 4
 },
 "nbformat": 4,
 "nbformat_minor": 2
}
