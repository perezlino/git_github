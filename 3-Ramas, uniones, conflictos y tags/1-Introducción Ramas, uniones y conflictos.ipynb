{
 "cells": [
  {
   "attachments": {},
   "cell_type": "markdown",
   "metadata": {},
   "source": [
    "### **2.7 - Introducción Ramas, uniones y conflictos**\n",
    "\n",
    "Una pequeña presentación para que tengamos los fundamentos necesarios para comprender los temas\n",
    "___"
   ]
  },
  {
   "attachments": {},
   "cell_type": "markdown",
   "metadata": {},
   "source": [
    "#### **Ramas**\n",
    "\n",
    "Las ramas nos van a ayudar a nosotros cuando queramos agregar funcionalidades a nuestro programa, que eventualmente puede ser que esos cambios se unan a la rama principal o a otra rama, o bien simplemente sean descartados, porque la función o la nueva característica no va a ser implementada en el programa y simplemente nosotros eliminamos la rama y no hay que hacer ninguna modificación al programa principal.\n",
    "\n",
    "Una nueva rama es una línea del tiempo totalmente aparte. Supongan ustedes que es como cuando llegan a un punto en su camino donde se divide en dos lados. Puede ser que ustedes tomen el camino de la derecha, o puede ser que tomen el camino de la izquierda. Si tomamos un camino o cualquiera de los dos que sea, ustedes van a hacer ciertas modificaciones, van a experimentar ciertas cosas y eventualmente pudiera ser que regresen al camino original.\n",
    "\n",
    "<center><img src=\"https://i.postimg.cc/kMZfXPTD/gh110.png\"></center>"
   ]
  },
  {
   "attachments": {},
   "cell_type": "markdown",
   "metadata": {},
   "source": [
    "#### **Merge - Uniones**\n",
    "\n",
    "Ahora, otro concepto muy importante que viene con las ramas es lo que se conoce como el **`Merge`**. Cuando nosotros queremos unir una rama a otra, Git lo va a intentar hacer por nosotros. Entonces hay tres posibles escenarios que pueden suceder de un **`Merge`**: "
   ]
  },
  {
   "attachments": {},
   "cell_type": "markdown",
   "metadata": {},
   "source": [
    "#### Merge: Fast-Forward\n",
    "\n",
    "Tenemos uno que se conoce como el **`Fast-Forward`**, que se dispara cuando Git detecta que no hay ningún cambio en la rama principal y los cambios pueden ser reintegrados de forma, por decirlo así, transparente. Y cada uno de los commits formará parte de la rama principal, como si nunca nos hubiéramos separado. Esa característica se puede desactivar si ustedes no lo quieren.\n",
    "\n",
    "<center><img src=\"https://i.postimg.cc/VLC4JZhg/gh111.png\"></center>"
   ]
  },
  {
   "attachments": {},
   "cell_type": "markdown",
   "metadata": {},
   "source": [
    "#### Merge: Uniones automáticas\n",
    "\n",
    "Luego tenemos lo que se conoce como **`Uniones automáticas`**. Es decir, Git detecta que en la rama principal hubo algún cambio que las ramas secundarias o la otra rama desconoce. Pero cuando nosotros intentamos hacer el Merge y Git dice OK, si no se modificaron pueden ser líneas iguales, no hay conflictos, lo puedo unir de forma automática y Git lo hace sin ningún problema, marcando que en este momento ambas ramas se unieron.\n",
    "\n",
    "<center><img src=\"https://i.postimg.cc/qvHwyXVT/gh112.png\"></center>"
   ]
  },
  {
   "attachments": {},
   "cell_type": "markdown",
   "metadata": {},
   "source": [
    "#### Merge: Union manual\n",
    "\n",
    "Luego tenemos lo que es la **`Unión manual`** , que es cuando Git no puede resolver esto de forma automática. ¿Y qué es lo que hace? Bueno, supongamos que tenemos esas dos líneas del tiempo, la rama 1 y la rama 2. Entendiendo que la anaranjada es la rama main. En la rama de secundaria, en la rama 2, nosotros hicimos algunas modificaciones que también afectan las mismas líneas en los archivos, en la rama en la cual nosotros queremos unir los cambios. Ahora, cuando Git intenta hacer esto, les va a decir que no se puede y va a entrar en un modo de conflicto, en lo cual Git nos va a pedir que nosotros lo resolvamos de forma manual. Esto lo veremos en las secciones posteriores. Y una vez resolvemos ese conflicto, Git crea un commit nuevo, lo que se conoce como el **`Merge commit`**. Luego ya podemos seguir trabajando sin ningún problema.\n",
    "\n",
    "<center><img src=\"https://i.postimg.cc/GmPQQ8ds/gh113.jpg\"></center>"
   ]
  }
 ],
 "metadata": {
  "language_info": {
   "name": "python"
  },
  "orig_nbformat": 4
 },
 "nbformat": 4,
 "nbformat_minor": 2
}
