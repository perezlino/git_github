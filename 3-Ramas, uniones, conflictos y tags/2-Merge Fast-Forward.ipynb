{
 "cells": [
  {
   "attachments": {},
   "cell_type": "markdown",
   "metadata": {},
   "source": [
    "### **3.2 - Merge: Fast-Forward**\n",
    "\n",
    "Realizaremos la union más simple que hay en las ramas, pero aprenderemos conceptos muy importantes\n",
    "___"
   ]
  },
  {
   "attachments": {},
   "cell_type": "markdown",
   "metadata": {},
   "source": [
    "En el directorio **`demo_05`** tenemos exactamente lo mismo que el directorio **`demo_04`** incluyendo el directorio **`.git`**.\n",
    "\n",
    "Vamos a comenzar creando el archivo **`villanos.md`** y le ingresaremos dos villanos y guardamos todo:\n",
    "\n",
    "<center><img src=\"https://i.postimg.cc/0jDTW4ds/gh114.png\"></center>\n",
    "\n",
    "Se me olvidó a mí o de manera intencional me digo que mejor debería estar trabajando en una nueva rama, porque no sé si esto va a terminar impactando la **rama main**, entonces mejor **`crearé una nueva rama para trabajar`**. Recordar que actualmente nos encontramos en la **rama main**\n",
    "\n",
    "<center><img src=\"https://i.postimg.cc/MZ35N5rk/gh115.png\"></center>\n",
    "\n",
    "Recuerden las ramas son otra línea del tiempo que tiene otra serie de commits que puede ser que se unan o no al repositorio principal o a la rama principal.\n",
    "\n",
    "Entonces, no importa si ustedes no han hecho el commit del archivo **`villanos.md`**, no importa si ustedes ya crearon el archivo en la **rama main**, recuerden que esto todavía está siendo **`Untracked`**, es decir, todavía Git no le está dando seguimiento. Entonces vamos a crear una nueva rama. ¿Cómo lo hago? Bueno, muy fácil con el comando de **`git branch <nombre_rama>`**.\n",
    "\n",
    "___"
   ]
  },
  {
   "attachments": {},
   "cell_type": "markdown",
   "metadata": {},
   "source": [
    "#### Comando **git branch <nombre_rama>**\n",
    "\n",
    "Creamos la **rama rama-villanos** con el comando **`git branch rama-villanos`**. Pero con el comando **`git branch`** podemos ver que aún nos encontramos en la **`rama main`** \n",
    "\n",
    "<center><img src=\"https://i.postimg.cc/mgNDnX2B/gh116.png\"></center>\n",
    "\n",
    "___"
   ]
  },
  {
   "attachments": {},
   "cell_type": "markdown",
   "metadata": {},
   "source": [
    "#### Comando **git checkout <nombre_rama>**\n",
    "\n",
    "Con el comando **`git checkout rama-villanos`** nos cambiamos a la rama **rama-villanos**. Con el comando **`git branch`** podemos ver que nos hemos cambiado\n",
    "\n",
    "<center><img src=\"https://i.postimg.cc/JhrnCNGJ/gh117.png\"></center>\n",
    "\n",
    "Antes de ejecutar cualquier commit, Git me dice que la rama **`rama-villanos`** y la rama **`main`** están apuntando al mismo lado. Es decir, la rama **`rama-villanos`** y la rama **`main`** están parados exactamente en el mismo punto del tiempo. Y este es el último commit de ambas. Hasta el momento entre ambas ramas tenemos los mismos commits.\n",
    "\n",
    "<center><img src=\"https://i.postimg.cc/GpXpL4yf/gh118.png\"></center>\n",
    "\n",
    "Lo que haremos ahora es en la rama **`rama-villanos`** guardar el archivo **`villanos.md`** que recién hemos creado y ejecutaremos un commit:\n",
    "\n",
    "<center><img src=\"https://i.postimg.cc/Y9GjdQnH/gh119.png\"></center>\n",
    "\n",
    "Ahora si nos cambiamos a la rama **`main`** veremos que el archivo **`villanos.md`** no se encuentra, porque este existe en la rama **`rama-villanos`**\n",
    "\n",
    "<center><img src=\"https://i.postimg.cc/sx2znzDZ/gh120.png\"></center>\n",
    "\n",
    "____"
   ]
  },
  {
   "attachments": {},
   "cell_type": "markdown",
   "metadata": {},
   "source": [
    "#### Comando **git diff <rama_1> <rama_2>**  \n",
    "\n",
    "Nos cambiamos a la rama **`rama-villanos`**. Para ver las diferencias entre la rama **`rama-villanos`** y la rama **`main`**, podemos hacer uso del comando **`git diff rama-villanos main`**. Hasta al momento lo unico diferente que existe entre ambas ramas es la existencia del archivo **`villanos.md`**, nos mostrará el contenido de este\n",
    "\n",
    "<center><img src=\"https://i.postimg.cc/PJM2fS9W/gh121.png\"></center>\n",
    "\n",
    "Aún encontrandonos en la rama **`rama-villanos`**, vamos a modificar el archivo **`villanos.md`** y le agregaremos un nuevo villano. Añadiremos esta modificación al **`stage`** y ejecutamos un commit\n",
    "\n",
    "<center><img src=\"https://i.postimg.cc/ncH3St90/gh122.png\"></center>\n",
    "\n",
    "Podemos volver a ejecutar el comando **`git diff rama-villanos main`** para ver las diferencias entre ambas ramas\n",
    "\n",
    "<center><img src=\"https://i.postimg.cc/pVQ0Bdrm/gh123.png\"></center>\n",
    "\n",
    "____"
   ]
  },
  {
   "attachments": {},
   "cell_type": "markdown",
   "metadata": {},
   "source": [
    "#### Comando **git merge <nombre_rama>**  \n",
    "\n",
    "Ahora si queremos unir la rama **`rama-villanos`** con la rama **`main`** (unir los nuevos commits que tenemos en la rama **`rama-villanos`** en la rama **`main`**), debemos posicionarnos en la rama **`main`** primero y luego ejecutar el comando **`git merge rama-villanos`**.\n",
    "\n",
    "Estando posicionados en la rama **`rama-villanos`** vemos que hemos generado dos commits que la rama **`main`** no posee\n",
    "\n",
    "<center><img src=\"https://i.postimg.cc/436DhRKt/gh124.png\"></center>\n",
    "\n",
    "Desde la rama **`main`** también podemos visualizar que desde la rama **`rama-villanos`** se han generado dos commits que en la rama **`main`** no existen\n",
    "\n",
    "<center><img src=\"https://i.postimg.cc/zvB6MLxS/gh125.png\"></center>\n",
    "\n",
    "Estando posicionados en la rama **`main`** ejecutamos el comando **`git merge rama-villanos`** y de esta manera se agregan los cambios que se tenian en la rama **`rama-villanos`** a la rama **`main`**. De esta manera, la rama **`rama-villanos`** y la rama **`main`** están parados exactamente en el mismo punto del tiempo una vez más.\n",
    "\n",
    "<center><img src=\"https://i.postimg.cc/63zFYVfp/gh126.png\"></center>\n",
    "\n",
    "___"
   ]
  },
  {
   "attachments": {},
   "cell_type": "markdown",
   "metadata": {},
   "source": [
    "#### Comando **git branch -d <nombre_rama>**  \n",
    "#### Comando **git branch -d <nombre_rama> -f**  \n",
    "\n",
    "Ahora que ya realizamos el **merge** de las nuevas modificaciones realziadas en la rama **`rama-villanos`** a la rama **`main`**, podria existir el caso o la necesidad de querer eliminar la rama **`rama-villanos`**. Para ello deberiamos utilizar el comando **`git branch -d rama-villanos`**. \n",
    "\n",
    "Para borrar una rama de manera forzosa, en el caso que no hayamos guardado algo, la podremos borrar de todas maneras utilizando el comando **`git branch -d rama-villanos -f`**\n",
    "\n",
    "<center><img src=\"https://i.postimg.cc/cHdVRkYz/gh127.png\"></center>\n",
    "\n",
    "____"
   ]
  }
 ],
 "metadata": {
  "language_info": {
   "name": "python"
  },
  "orig_nbformat": 4
 },
 "nbformat": 4,
 "nbformat_minor": 2
}
