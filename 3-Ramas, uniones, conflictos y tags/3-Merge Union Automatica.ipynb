{
 "cells": [
  {
   "attachments": {},
   "cell_type": "markdown",
   "metadata": {},
   "source": [
    "### **3.3 - Merge: Unión Automática**\n",
    "\n",
    "Realizaremos un merge automático, realizando modificaciones en una rama y en el main, luego las uniremos\n",
    "___"
   ]
  },
  {
   "attachments": {},
   "cell_type": "markdown",
   "metadata": {},
   "source": [
    "#### Comando **git checkout -b <nombre_rama>**\n",
    "\n",
    "Continuando en el directorio **`demo_05`**, vamos a crear la rama **`rama-villanos`** nuevamente. Si yo quiero crear la rama y automáticamente moverme a ella, simplemente utilizamos el comando **`git checkout -b rama-villanos`**.\n",
    "\n",
    "Estando en la rama **`rama-villanos`** vamos a modificar el archivo **`villanos.md`** y agregaremos un villano nuevo. Luego ejecutamos un commit\n",
    "\n",
    "<center><img src=\"https://i.postimg.cc/qv2W6HSr/gh128.png\"></center>\n",
    "\n",
    "Visualizemos el log de commits para la rama **`rama-villanos`** estando en la rama **`rama-villanos`**\n",
    "\n",
    "<center><img src=\"https://i.postimg.cc/W4nKS6sf/gh129.png\"></center>\n",
    "\n",
    "Visualizemos el log de commits para la rama **`main`** estando en la rama **`main`**\n",
    "\n",
    "<center><img src=\"https://i.postimg.cc/nrsPHyB6/gh130.png\"></center>\n",
    "\n",
    "Estando en la rama **`main`** vamos a modificar el archivo **`heroes.md`** y eliminaremos un heroe\n",
    "\n",
    "<center><img src=\"https://i.postimg.cc/N0YS1PvH/gh131.png\"></center>\n",
    "\n",
    "Vamos a añadir esta modificacion al **`stage`** y luego ejecutamos un commit\n",
    "\n",
    "<center><img src=\"https://i.postimg.cc/Kz8WWkzc/gh132.png\"></center>\n",
    "\n",
    "Hasta el momento hemos modificado el archivo **`villanos.md`** desde la rama **`rama-villanos`** y hemos modificado el archivo **`heroes.md`** desde la rama **`main`** \n",
    "\n",
    "Si visualizamos el log de commits desde la rama **`main`**\n",
    "\n",
    "<center><img src=\"https://i.postimg.cc/V6ZhPfrq/gh133.png\"></center>\n",
    "\n",
    "Finalmente, estando en la rama **`main`** vamos a ejecutar el comando **`git merge rama-villanos`**. Git logró identificar correctamente todos los cambios y de manera automática lo logró unificar.\n",
    "\n",
    "<center><img src=\"https://i.postimg.cc/QNPz6Mrs/gh134.png\"></center>\n",
    "\n",
    "____"
   ]
  }
 ],
 "metadata": {
  "language_info": {
   "name": "python"
  },
  "orig_nbformat": 4
 },
 "nbformat": 4,
 "nbformat_minor": 2
}
