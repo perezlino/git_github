{
 "cells": [
  {
   "attachments": {},
   "cell_type": "markdown",
   "metadata": {},
   "source": [
    "### **3.4 - Merge: Uniones con conflicto**\n",
    "\n",
    "Aprenderemos a resolver conflictos en los archivos\n",
    "\n",
    "___"
   ]
  },
  {
   "attachments": {},
   "cell_type": "markdown",
   "metadata": {},
   "source": [
    "1.\tModificaremos el archivo **`misiones.md`** en una nueva rama que creamos, la rama **`rama-conflicto`**. Guardamos todo y ejecutamos el commit.\n",
    "\n",
    "2.\tModificaremos el archivo **`misiones.md`** en la rama **`main`**, guardamos todo y ejecutamos el commit.\n",
    "\n",
    "3.\tDesde la rama **`main`** haremos un **merge** con la rama **`rama-conflicto`** y veremos que se genera un conflicto\n",
    "\n",
    "4. Solucionaremos el conflicto\n",
    "\n",
    "____"
   ]
  },
  {
   "attachments": {},
   "cell_type": "markdown",
   "metadata": {},
   "source": [
    "#### Desarrollo\n",
    "\n",
    "Utilizando el comando **`git checkout -b rama-conflicto`** creamos la rama **`rama-conflicto`** y nos movemos automaticamente a ella\n",
    "\n",
    "<center><img src=\"https://i.postimg.cc/wBd6Pdn4/gh135.png\"></center>\n",
    "\n",
    "Desde la rama **`rama-conflicto`** modificamos el archivo **`misiones.md`**, añadimos al **stage** la modificación y luego ejecutamos un commit\n",
    "\n",
    "<center><img src=\"https://i.postimg.cc/qRJpJxJ8/gh136.png\"></center>\n",
    "\n",
    "Luego nos movemos a la rama **`main`**\n",
    "\n",
    "<center><img src=\"https://i.postimg.cc/gJgmnLj1/gh137.png\"></center>\n",
    "\n",
    "Desde la rama **`main`** también vamos a modificar el archivo **`misiones.md`**, añadimos al **stage** la modificación y luego ejecutamos un commit\n",
    "\n",
    "<center><img src=\"https://i.postimg.cc/pr7vBNDZ/gh138.png\"></center>\n",
    "\n",
    "Desde la rama **`main`** vamos a ejecutar el comando **`git merge rama-conflicto`** para unir ambas ramas, sin embargo, se nos presentará un conflicto y nos nos deja hacer el **merge**. Se nos presenta unas lineas coloreadas y 4 opciones:\n",
    "\n",
    "- Aceptar cambio actual\n",
    "- Aceptar cambio entrante\n",
    "- Aceptar ambos cambios\n",
    "- Comparar cambios\n",
    "\n",
    "<center><img src=\"https://i.postimg.cc/xjF9QmWz/gh139.png\"></center>\n",
    "\n",
    "Podemos ir probando las distintas opciones que nos entrega VSCode para resolver el problema. Sin embargo, nosotros lo haremos manualmente. Iremos eleminando dichos caracteres **>>>** , **<<<** y **===**\n",
    "\n",
    "<center><img src=\"https://i.postimg.cc/L5hRf4Z5/gh140.png\"></center>\n",
    "\n",
    "Aún estando en la rama **`main`**, utilizaremos la linea 3. modificada en la rama **`rama-conflicto`** y usaremos la linea 4. modificada en la rama **`main`**. Añadiremos cambios al **`stage`** y ejecutamos el commit\n",
    "\n",
    "<center><img src=\"https://i.postimg.cc/7YGwZ6kQ/gh141.png\"></center>\n",
    "\n",
    "Podemos ver que arreglamos el conflicto de manera manual y pudimos lanzar el commit\n",
    "\n",
    "<center><img src=\"https://i.postimg.cc/t4FbFM73/gh142.png\"></center>\n",
    "\n",
    "De igual forma, si necesitacemos podemos eliminar las ramas **`rama-conflicto`** y **`rama-villanos`** dado que ya nos las utilizaremos\n",
    "\n",
    "<center><img src=\"https://i.postimg.cc/TYzGL622/gh143.png\"></center>\n",
    "\n",
    "____\n"
   ]
  }
 ],
 "metadata": {
  "language_info": {
   "name": "python"
  },
  "orig_nbformat": 4
 },
 "nbformat": 4,
 "nbformat_minor": 2
}
