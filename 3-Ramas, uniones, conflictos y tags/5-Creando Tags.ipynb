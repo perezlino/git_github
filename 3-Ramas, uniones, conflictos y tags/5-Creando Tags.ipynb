{
 "cells": [
  {
   "attachments": {},
   "cell_type": "markdown",
   "metadata": {},
   "source": [
    "### **3.5 - Creando Tags**\n",
    "\n",
    "Vamos a crear etiquetas para nuestro repositorio\n",
    "\n",
    "___"
   ]
  },
  {
   "attachments": {},
   "cell_type": "markdown",
   "metadata": {},
   "source": [
    "#### **Tags o Etiquetas**\n",
    "\n",
    "Los **Tags** no son más que una referencia a un commit especifico en el tiempo, es decir, todo el estado del proyecto en ese punto en específico.\n",
    "\n",
    "<center><img src=\"https://i.postimg.cc/K8dtK4wq/gh144.png\"></center>\n",
    "\n",
    "____"
   ]
  },
  {
   "attachments": {},
   "cell_type": "markdown",
   "metadata": {},
   "source": [
    "#### Forma 1: **git tag <nombre_tag>**\n",
    "\n",
    "Los tags no son más que un mensaje o una etiqueta que se le pone a un commit. Es decir, para que el día de mañana yo pueda tomar rápidamente la referencia de ese commit.\n",
    "\n",
    "Vemos que nos encontramos en la rama **`main`** y visualizamos el log de commits\n",
    "\n",
    "<center><img src=\"https://i.postimg.cc/Qt98Fk9w/gh145.png\"></center>\n",
    "\n",
    "Lo que estoy haciendo en este momento es colocar al último commit o donde me encuentre parado en ese momento, crear un tag. En este momento, la rama **`main`** se encuentra parada en el commit **Resolviendo conflictos con misiones.md** que corresponde al último commit y es efectivamente a ese commit en el cual crearemos el tag. Usaremos el comando simple **`git tag super-release`**, siendo **super-release** el nombre del tag.\n",
    "\n",
    "<center><img src=\"https://i.postimg.cc/FRM93d0R/gh146.png\"></center>\n",
    "\n",
    "____"
   ]
  },
  {
   "attachments": {},
   "cell_type": "markdown",
   "metadata": {},
   "source": [
    "#### **git tag -d <nombre_tag>**\n",
    "\n",
    "Para eliminar el tag que acabamos de crear utilizamos el comando **`git tag -d super-release`**\n",
    "\n",
    "<center><img src=\"https://i.postimg.cc/PJ1d4XMM/gh147.png\"></center>\n",
    "\n",
    "____"
   ]
  },
  {
   "attachments": {},
   "cell_type": "markdown",
   "metadata": {},
   "source": [
    "#### Forma 2: **git tag -a <nombre_tag> -m <descripcion>**\n",
    "\n",
    "Con esta forma obtenemos el mismo resultado que con la forma anterior, sin embargo, esta nos da la opción de agregar una descripción para nuestro tag. \n",
    "\n",
    "- a: es un abreviado de **`annotation`**\n",
    "- m: es un abreviado de **`message`**\n",
    "\n",
    "Dado que en este momento, la rama **`main`** se encuentra parada en el commit **Resolviendo conflictos con misiones.md** que corresponde al último commit y es efectivamente a ese commit en el cual crearemos el tag. Usaremos el comando **`git tag -a v1.0.0 -m \"Version 1.0.0`**, siendo **v1.0.0** el nombre del tag.\n",
    "\n",
    "<center><img src=\"https://i.postimg.cc/pLWPft5D/gh148.png\"></center>\n",
    "\n",
    "____"
   ]
  },
  {
   "attachments": {},
   "cell_type": "markdown",
   "metadata": {},
   "source": [
    "#### Forma 3: **git tag -a <nombre_tag> <hash_commit> -m <descripcion>**\n",
    "\n",
    "Nos permite crear un tag a un commit que no sea el último, en el cual estemos posicionados.\n",
    "\n",
    "Crearemos un tag a un commit pasado utilizando su **hash**. Ejecutamos el siguiente comando **`git tag -a v0.1.0 c6f4ba6 -m \"Version Alfa`**, siendo **v0.1.0** el nombre del tag.\n",
    "\n",
    "<center><img src=\"https://i.postimg.cc/gkPz0hYt/gh149.png\"></center>\n",
    "\n",
    "____"
   ]
  },
  {
   "attachments": {},
   "cell_type": "markdown",
   "metadata": {},
   "source": [
    "#### **git show <nombre_tag o hash>**\n",
    "\n",
    "Este comando nos permite visualizar información con respecto a un commit en especifico. Podemos entregarle el nombre del tag que hace referencia al commit o podemos indicar el hash del commit\n",
    "\n",
    "Vemos información indicando el nombre del tag **`v.0.1.0`**\n",
    "\n",
    "<center><img src=\"https://i.postimg.cc/dtmqZ03s/gh150.png\"></center>\n",
    "\n",
    "Vemos información indicando el nombre del tag **`v.1.0.0`**\n",
    "\n",
    "<center><img src=\"https://i.postimg.cc/fWdWZCh0/gh151.png\"></center>\n",
    "\n",
    "Vemos información indicando el hash del commit\n",
    "\n",
    "<center><img src=\"https://i.postimg.cc/zXg1TGfb/gh152.png\"></center>\n",
    "\n",
    "____"
   ]
  }
 ],
 "metadata": {
  "language_info": {
   "name": "python"
  },
  "orig_nbformat": 4
 },
 "nbformat": 4,
 "nbformat_minor": 2
}
