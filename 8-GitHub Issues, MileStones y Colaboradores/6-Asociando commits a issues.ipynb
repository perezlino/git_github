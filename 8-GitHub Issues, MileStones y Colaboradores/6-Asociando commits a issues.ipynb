{
 "cells": [
  {
   "attachments": {},
   "cell_type": "markdown",
   "metadata": {},
   "source": [
    "### **8.6 - Asociando commits a issues**\n",
    "\n",
    "___"
   ]
  },
  {
   "attachments": {},
   "cell_type": "markdown",
   "metadata": {},
   "source": [
    "Es simple asociar issues a commits pasados desde el repositorio remoto en Github, solo debemos mencionar el indicador del issue.\n",
    "\n",
    "Vamos a crear un nuevo issue\n",
    "\n",
    "<center><img src=\"https://i.postimg.cc/NjjZwJqV/gh475.png\"></center>\n",
    "<center><img src=\"https://i.postimg.cc/j5PFhBPW/gh476.png\"></center>\n",
    "\n",
    "Ya creada **`la issue de indicador número 6`**\n",
    "\n",
    "<center><img src=\"https://i.postimg.cc/BZ5zP9Jk/gh477.png\"></center>\n",
    "\n",
    "Luego, vamos a dirigirnos al archivo **`misiones.md`** y revisaremos la historia de commits\n",
    "\n",
    "<center><img src=\"https://i.postimg.cc/MHwr3tm9/gh478.png\"></center>\n",
    "\n",
    "Por ejemplo, vamos a seleccionar el commit indicado\n",
    "\n",
    "<center><img src=\"https://i.postimg.cc/tJzvKPrp/gh479.png\"></center>\n",
    "\n",
    "Vamos a ingresar un comentario en este commit donde lo vincularemos con el issue que acabamos de crear de indicador número 6\n",
    "\n",
    "<center><img src=\"https://i.postimg.cc/rwsZHD52/gh480.png\"></center>\n",
    "<center><img src=\"https://i.postimg.cc/ZKTMr7RR/gh481.png\"></center>\n",
    "\n",
    "Si revisamos el historial del Issue podemos ver que vinculamos el commit donde realizamos el comentario y la Issue, con solo indicar en un comentario el número indicador de este Issue\n",
    "\n",
    "<center><img src=\"https://i.postimg.cc/4NBFw671/gh482.png\"></center>\n",
    "\n",
    "___"
   ]
  }
 ],
 "metadata": {
  "language_info": {
   "name": "python"
  },
  "orig_nbformat": 4
 },
 "nbformat": 4,
 "nbformat_minor": 2
}
