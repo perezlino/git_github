{
 "cells": [
  {
   "attachments": {},
   "cell_type": "markdown",
   "metadata": {},
   "source": [
    "### **8.2 - Cerrar un Issue**\n",
    "\n",
    "Que significa realmente cerrar un issue\n",
    "\n",
    "___"
   ]
  },
  {
   "attachments": {},
   "cell_type": "markdown",
   "metadata": {},
   "source": [
    "Vamos a abrir el Issue que acabamos de crear en la leccion 8.1\n",
    "\n",
    "<center><img src=\"https://i.postimg.cc/G2n5NDmB/gh450.png\"></center>"
   ]
  },
  {
   "attachments": {},
   "cell_type": "markdown",
   "metadata": {},
   "source": [
    "Aunque hayamos cerrado el Issue, otras personas no necesariamente colaboradores, pueden seguir escribiendo comentarios. \n",
    "\n",
    "<center><img src=\"https://i.postimg.cc/xCG4SdX6/gh451.png\"></center>\n",
    "\n",
    "Cuando ya queramos dar por terminado el Issue y que personas externas al proyecto no puedan dejar comentarios pulsamos el boton de **`Lock conversation`**. De esta manera, solo los colaboradores tendrán aún esa facultad.\n",
    "\n",
    "<center><img src=\"https://i.postimg.cc/c4L5V00c/gh452.png\"></center>\n",
    "<center><img src=\"https://i.postimg.cc/d34NLSmd/gh453.png\"></center>"
   ]
  },
  {
   "attachments": {},
   "cell_type": "markdown",
   "metadata": {},
   "source": [
    "Solo los que sean colaboradores pueden desbloquear los comentarios\n",
    "\n",
    "<center><img src=\"https://i.postimg.cc/nhsSh2sj/gh454.png\"></center>\n",
    "<center><img src=\"https://i.postimg.cc/MHWrZ8Rq/gh455.png\"></center>\n",
    "<center><img src=\"https://i.postimg.cc/nVkPRCbz/gh456.png\"></center>"
   ]
  },
  {
   "attachments": {},
   "cell_type": "markdown",
   "metadata": {},
   "source": [
    "Vamos a ver otra forma de cerrar un Issue automáticamente. Para ello vamos a reabrir el Issue, debemos tenerlo abierto.\n",
    "\n",
    "<center><img src=\"https://i.postimg.cc/zX2PN6fY/gh457.png\"></center>\n",
    "\n",
    "Como decia anteriormente, hay varias formas de cerrar automaticamente este Issue con respecto a algun trabajo que nosotros hagamos directamente o un commit.\n",
    "\n",
    "Nos encontramos en la rama main y modificamos el archivo **`miembros.md`**, donde agregamos a Nick Fury a la lista miembros como se solicitaba en el Issue. Luego lanzamos el commit de la modificacion:\n",
    "\n",
    "- Utilizamos el comando **`git commit -am 'Agregamos a Nick Fury en la lista de miembros.md fixes #4'`**\n",
    "- Podriamos haber usado también **`closes #4`** o **`resolves #4`**\n",
    "\n",
    "<center><img src=\"https://i.postimg.cc/CLn10ZCh/gh458.png\"></center>\n",
    "\n",
    "Luego, empujamos las modificaciones a la rama **`main`** en el repositorio avengers\n",
    "\n",
    "<center><img src=\"https://i.postimg.cc/0ygNy8Zp/gh459.png\"></center>\n",
    "\n",
    "Si nos dirijimos al repositorio remoto en Github vemos que el Issue se ha cerrado automaticamente y que muestra en un mensaje el **`hash`** del commit donde indicamos que habiamos resuelto el Issue y donde agregamos la frase fixes y el indicador del Issue, que en este caso corresponde al #4 \n",
    "\n",
    "<center><img src=\"https://i.postimg.cc/nhvhs6wN/gh460.png\"></center>\n",
    "\n",
    "Si pulsamos el hash, nos dirige al detalle del commit con dicho hash\n",
    "\n",
    "<center><img src=\"https://i.postimg.cc/Jhx7xj8q/gh461.png\"></center>\n",
    "\n",
    "Al pulsar el indicador, regresamos a la historia del Issue\n",
    "\n",
    "<center><img src=\"https://i.postimg.cc/d0wtG4b3/gh462.png\"></center>\n",
    "\n",
    "Esta es la vista del repositorio remoto\n",
    "\n",
    "<center><img src=\"https://i.postimg.cc/50t4RjNM/gh463.png\"></center>\n",
    "\n",
    "___\n"
   ]
  }
 ],
 "metadata": {
  "language_info": {
   "name": "python"
  },
  "orig_nbformat": 4
 },
 "nbformat": 4,
 "nbformat_minor": 2
}
