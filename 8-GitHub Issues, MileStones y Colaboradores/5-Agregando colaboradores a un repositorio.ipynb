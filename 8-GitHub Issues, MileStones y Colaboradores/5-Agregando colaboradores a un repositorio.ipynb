{
 "cells": [
  {
   "attachments": {},
   "cell_type": "markdown",
   "metadata": {},
   "source": [
    "### **8.5 - Agregando colaboradores a un repositorio**\n",
    "\n",
    "___"
   ]
  },
  {
   "attachments": {},
   "cell_type": "markdown",
   "metadata": {},
   "source": [
    "**Si agregamos un colaborador a nuestro repositorio el tendrá control total del mismo**\n",
    "\n",
    "Para agregar un colaborador debemos dirigirnos a la pestaña de **`Settings`**\n",
    "\n",
    "<center><img src=\"https://i.postimg.cc/wvDywB7X/gh472.png\"></center>\n",
    "\n",
    "Luego pulsar en **`Collaborators`** y en **`Add people`**\n",
    "\n",
    "<center><img src=\"https://i.postimg.cc/hvrJq38h/gh473.png\"></center>\n",
    "\n",
    "Luego debemos buscar por el nombre de usuario de Github\n",
    "\n",
    "<center><img src=\"https://i.postimg.cc/NFYySwHW/gh474.png\"></center>\n",
    "\n",
    "___"
   ]
  }
 ],
 "metadata": {
  "language_info": {
   "name": "python"
  },
  "orig_nbformat": 4
 },
 "nbformat": 4,
 "nbformat_minor": 2
}
