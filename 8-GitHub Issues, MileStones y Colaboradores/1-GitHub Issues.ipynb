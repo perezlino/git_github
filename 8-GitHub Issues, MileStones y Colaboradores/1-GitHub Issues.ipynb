{
 "cells": [
  {
   "attachments": {},
   "cell_type": "markdown",
   "metadata": {},
   "source": [
    "### **8.1 - Github Issues**\n",
    "\n",
    "Empecemos a crear issues!\n",
    "___"
   ]
  },
  {
   "attachments": {},
   "cell_type": "markdown",
   "metadata": {},
   "source": [
    "Si revisamos la lista del archivo **`miembros.md`** nos damos cuenta que falta un miembro, falta Nick Fury.\n",
    "\n",
    "<center><img src=\"https://i.postimg.cc/BvjdKsXg/gh443.png\"></center>\n",
    "\n",
    "Entonces, si nos dirigimos a la pestaña **`Issues`** yo puedo notificar a todos los colaboradores o a todas las personas del proyecto que existe este problema o este requerimiento que yo estoy pidiendo\n",
    "\n",
    "<center><img src=\"https://i.postimg.cc/KYCC7VTy/gh444.png\"></center>\n",
    "\n",
    "Pulsamos **`New Issue`**\n",
    "\n",
    "<center><img src=\"https://i.postimg.cc/sXSqTcPG/gh445.png\"></center>\n",
    "\n",
    "Debemos ser muy descriptivos en cuanto al problema que encontremos\n",
    "\n",
    "<center><img src=\"https://i.postimg.cc/fyNFp952/gh446.png\"></center>"
   ]
  },
  {
   "attachments": {},
   "cell_type": "markdown",
   "metadata": {},
   "source": [
    "En este momento voy a recibir una notificacion por correo electronico si yo soy un colaborador, avisandonos que existe un nuevo Issue abierto. Una vez el Issue ya está creado, otras personas, incluyendo colaboradores o personas ajenas a este repositorio, pueden crear comentarios en este Issue. Y eso es porque este repositorio es público. Si el repositorio fuese privado, solo colaboradores podran crear Issues. Si no queremos que nos lleguen correos de notificacion acerca de los Issue, desactivamos esta opción pulsando el boton de **`Unsubscribe`**\n",
    "\n",
    "<center><img src=\"https://i.postimg.cc/WbsC70dt/gh447.png\"></center>"
   ]
  },
  {
   "attachments": {},
   "cell_type": "markdown",
   "metadata": {},
   "source": [
    "Por defecto aparece el filtro **`is:issue is:open`**, es decir, mostrar todos los Issues abiertos\n",
    "\n",
    "<center><img src=\"https://i.postimg.cc/QCJP3dyX/gh448.png\"></center>\n",
    "\n",
    "- Si borramos dicho filtro, nos apareceran en dicha lista comentarios y también pull requests\n",
    "- Si borramos ducho filtro, nos va a mostrar todo lo que tenga un índice de GuitHub, es decir, este índice numeral 1 y numeral 2 y esto va a ir creciendo. Pueden llegar hasta X cantidad de números.\n",
    "\n",
    "<center><img src=\"https://i.postimg.cc/DfrRsxyt/gh449.png\"></center>\n",
    "\n",
    "___"
   ]
  }
 ],
 "metadata": {
  "language_info": {
   "name": "python"
  },
  "orig_nbformat": 4
 },
 "nbformat": 4,
 "nbformat_minor": 2
}
