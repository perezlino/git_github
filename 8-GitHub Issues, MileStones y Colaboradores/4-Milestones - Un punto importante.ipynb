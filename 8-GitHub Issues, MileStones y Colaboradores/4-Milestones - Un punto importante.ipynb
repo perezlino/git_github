{
 "cells": [
  {
   "attachments": {},
   "cell_type": "markdown",
   "metadata": {},
   "source": [
    "### **8.4 - Milestones - Un punto importante**\n",
    "\n",
    "___"
   ]
  },
  {
   "attachments": {},
   "cell_type": "markdown",
   "metadata": {},
   "source": [
    "#### **¿Que es un Milestone?**\n",
    "\n",
    "Son grupos de issues, caracteristicas o una fecha dentro de un periodo de tiempo que es importante o memorable. Es decir, los Milestone nos van a ayudar a agrupar esos Issues o esas caracteristicas o estar pendientes de una fecha del tiempo. Mucha gente en un proyecto de desarrollo las maneja de la siguiente forma:\n",
    "\n",
    "- **`Lanzamiento Beta`**: aqui tenemos agrupado todo lo referente a las necesidades que tenemos que arreglar antes del lanzamiento\n",
    "- **`Otra gente puede poner un mes`**, el Milestone de Octubre por ejemplo. Esto seria todas las issues que nos gustaria que estuvieran funcionando en el mes de Octubre y es un excelente forma de mantener un enfoque ahí\n",
    "- **`Milestone de rediseño`**: issues relacionados al diseño del proyecto, es una excelente forma para mantener las ideas y trabajos enfocados en el mismo punto\n",
    "\n",
    "Para mayor información:  https://guides.github.com/features/issues"
   ]
  },
  {
   "attachments": {},
   "cell_type": "markdown",
   "metadata": {},
   "source": [
    "Algo muy importante que nosotros debemos de saber es que los **`labels`** y los **`milestones`** no nos van a servir de nada por si solos. Si nosotros cuando creamos un nuevo issue, no nos acostumbramos a asignar a alguna persona, o añadir un label o referirnos a un milestone, va a ser muy dificil saber a que versión de la aplicativo, a que estado del repositorio y a que se refiere esta issue"
   ]
  }
 ],
 "metadata": {
  "language_info": {
   "name": "python"
  },
  "orig_nbformat": 4
 },
 "nbformat": 4,
 "nbformat_minor": 2
}
