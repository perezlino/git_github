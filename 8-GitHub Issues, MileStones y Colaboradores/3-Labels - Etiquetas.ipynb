{
 "cells": [
  {
   "attachments": {},
   "cell_type": "markdown",
   "metadata": {},
   "source": [
    "### **8.3 - Labels - Etiquetas**\n",
    "\n",
    "¿Para qué nos pueden servir las etiquetas?\n",
    "\n",
    "___"
   ]
  },
  {
   "attachments": {},
   "cell_type": "markdown",
   "metadata": {},
   "source": [
    "Los labels nos pueden servir cuando necesitamos administrar de mejor manera los Issues\n",
    "\n",
    "<center><img src=\"https://i.postimg.cc/fTbTwDpb/gh464.png\"></center>\n",
    "\n",
    "Los labels son personalizables. Podemos crear nuevos labels, como editar o eliminar los ya existentes.\n",
    "\n",
    "<center><img src=\"https://i.postimg.cc/L6045GF3/gh465.png\"></center>\n",
    "\n",
    "Vamos a crear un nuevo label para identificar las solicitudes de nuevos avengers\n",
    "\n",
    "<center><img src=\"https://i.postimg.cc/bw7zHbJG/gh466.png\"></center>\n",
    "<center><img src=\"https://i.postimg.cc/qqDrt6Sv/gh467.png\"></center>"
   ]
  },
  {
   "attachments": {},
   "cell_type": "markdown",
   "metadata": {},
   "source": [
    "Ahora si creamos un Issue\n",
    "\n",
    "<center><img src=\"https://i.postimg.cc/T3LdDQRM/gh468.png\"></center>\n",
    "\n",
    "Podemos asignarle labels de acuerdo a nuestra necesidad\n",
    "\n",
    "<center><img src=\"https://i.postimg.cc/xdL9sCJ6/gh469.png\"></center>\n",
    "<center><img src=\"https://i.postimg.cc/XJ34tb94/gh470.png\"></center>\n"
   ]
  },
  {
   "attachments": {},
   "cell_type": "markdown",
   "metadata": {},
   "source": [
    "Podemos filtrar los Issues por algun label\n",
    "\n",
    "<center><img src=\"https://i.postimg.cc/Vvk1LW7h/gh471.png\"></center>\n",
    "\n",
    "___"
   ]
  }
 ],
 "metadata": {
  "language_info": {
   "name": "python"
  },
  "orig_nbformat": 4
 },
 "nbformat": 4,
 "nbformat_minor": 2
}
