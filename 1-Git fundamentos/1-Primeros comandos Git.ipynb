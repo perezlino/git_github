{
 "cells": [
  {
   "attachments": {},
   "cell_type": "markdown",
   "metadata": {},
   "source": [
    "### **1.1 - Primeros comandos Git**\n",
    "___"
   ]
  },
  {
   "attachments": {},
   "cell_type": "markdown",
   "metadata": {},
   "source": [
    "##### Comando **git help**\n",
    "\n",
    "Nos despliega una ayuda con algunos comandos y una explicación de ellos\n",
    "\n",
    "<center><img src=\"https://i.postimg.cc/WpMVcLdx/gh1.png\"></center>\n",
    "\n",
    "___"
   ]
  },
  {
   "attachments": {},
   "cell_type": "markdown",
   "metadata": {},
   "source": [
    "##### Comando **git help \"comando\"**\n",
    "\n",
    "Por ejemplo, vamos a ejecutar **`git help commit`** y se nos abrirá en el navegador una página con documentación respecto al **\"comando\"** que indicamos. En nuestro caso, **`git help init`**\n",
    "\n",
    "<center><img src=\"https://i.postimg.cc/J4ML16J0/gh2.png\"></center>\n",
    "\n",
    "<center><img src=\"https://i.postimg.cc/wByKWSKf/gh3.png\"></center>\n",
    "\n",
    "___"
   ]
  },
  {
   "attachments": {},
   "cell_type": "markdown",
   "metadata": {},
   "source": [
    "##### Comando **git --version**\n",
    "\n",
    "Nos permite visualizar la versión instalada de Git en nuestro sistema\n",
    "\n",
    "<center><img src=\"https://i.postimg.cc/FspQ1ygZ/gh4.png\"></center>\n",
    "\n",
    "___"
   ]
  },
  {
   "attachments": {},
   "cell_type": "markdown",
   "metadata": {},
   "source": [
    "##### Comando **git config --global user.name \"nombre\"**\n",
    "##### Comando **git config --global user.email \"correo\"**\n",
    "\n",
    "Configuración básica de los datos que le indicamos a Git acerca de nosotros. Al hacer estas configuraciones de forma global le indicamos a Git que cada vez que alguien en esta sesión, en esta máquina, que haga un **commit** con el nombre y correo que indicamos.\n",
    "\n",
    "Vamos a ingresar los siguientes valores para dichos comandos:\n",
    "\n",
    "- `git config --global user.name \"Alfonso Perez\"`\n",
    "- `git config --global user.email \"perezlino@gmail.com\"`\n",
    "\n",
    "<center><img src=\"https://i.postimg.cc/4x3RcYWT/gh5.png\"></center>\n",
    "\n",
    "___\n"
   ]
  },
  {
   "attachments": {},
   "cell_type": "markdown",
   "metadata": {},
   "source": [
    "##### Comando **git config --global -e**\n",
    "\n",
    "Para ver los datos que acabamos de ingresar utilizamos este comando\n",
    "\n",
    "<center><img src=\"https://i.postimg.cc/fRgnfMPS/gh6.png\"></center>\n",
    "\n",
    "___"
   ]
  }
 ],
 "metadata": {
  "language_info": {
   "name": "python"
  },
  "orig_nbformat": 4
 },
 "nbformat": 4,
 "nbformat_minor": 2
}
