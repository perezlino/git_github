{
 "cells": [
  {
   "attachments": {},
   "cell_type": "markdown",
   "metadata": {},
   "source": [
    "### **1.9 - Crear Alias para nuestros comandos**\n",
    "___"
   ]
  },
  {
   "attachments": {},
   "cell_type": "markdown",
   "metadata": {},
   "source": [
    "#### Comando **git config --global alias.nombre_alias \"comando a renombrar\"**\n",
    "\n",
    "Vamos a crear un alias de forma global, es decir, no importa en que repositorio estemos, lo vamos a poder utilizar de igual manera. \n",
    "\n",
    "Creamos un alias para el comando **`git log --oneline --decorate --all --graph`** de la siguiente manera: \n",
    "\n",
    "- **`git config --global alias.lg \"log --oneline --decorate --all --graph\"`**\n",
    "\n",
    "<center><img src=\"https://i.postimg.cc/L8mLMd0Y/gh61.png\"></center>\n",
    "\n",
    "___"
   ]
  }
 ],
 "metadata": {
  "language_info": {
   "name": "python"
  },
  "orig_nbformat": 4
 },
 "nbformat": 4,
 "nbformat_minor": 2
}
