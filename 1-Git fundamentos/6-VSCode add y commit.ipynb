{
 "cells": [
  {
   "attachments": {},
   "cell_type": "markdown",
   "metadata": {},
   "source": [
    "### **1.6 - VSCode add y commit**\n",
    "___"
   ]
  },
  {
   "attachments": {},
   "cell_type": "markdown",
   "metadata": {},
   "source": [
    "En el archivo **`README.md`** vamos a agregar el siguiente texto:\n",
    "\n",
    "<center><img src=\"https://i.postimg.cc/9Xyz3KmH/gh32.png\"></center>"
   ]
  },
  {
   "attachments": {},
   "cell_type": "markdown",
   "metadata": {},
   "source": [
    "Guardamos los cambios. Nos aparecerá una letra “M” que significa que el archivo fue “MODIFICADO”.\n",
    "\n",
    "<center><img src=\"https://i.postimg.cc/DygZ0G4C/gh33.png\"></center>"
   ]
  },
  {
   "attachments": {},
   "cell_type": "markdown",
   "metadata": {},
   "source": [
    "Ahora si modificamos el archivo “index.html”:\n",
    "\n",
    "<center><img src=\"https://i.postimg.cc/nhShYtkB/gh34.png\"></center>\n",
    "<center><img src=\"https://i.postimg.cc/W4Db5fWK/gh35.png\"></center>"
   ]
  },
  {
   "attachments": {},
   "cell_type": "markdown",
   "metadata": {},
   "source": [
    "Guardo los cambios y me voy a Control de código fuente, vemos que nos indica los dos archivos que fueron modificados:\n",
    "\n",
    "<center><img src=\"https://i.postimg.cc/133zqzpy/gh36.png\"></center>\n",
    "<center><img src=\"https://i.postimg.cc/W4sx3Dr7/gh37.png\"></center>\n",
    "<center><img src=\"https://i.postimg.cc/cHw1StNB/gh38.png\"></center>"
   ]
  },
  {
   "attachments": {},
   "cell_type": "markdown",
   "metadata": {},
   "source": [
    "Ahora vamos a eliminar la modificación del archivo **`index.html`** y haremos un **commit** al archivo **`README.md`**. Dejamos un mensaje y pulsamos **`Commit (Confirmación)`**\n",
    "\n",
    "<center><img src=\"https://i.postimg.cc/pdgV4Y3d/gh39.png\"></center>"
   ]
  },
  {
   "attachments": {},
   "cell_type": "markdown",
   "metadata": {},
   "source": [
    "Para hacer el commit nos pedirá ingresar el nombre y el correo, si es que no lo habíamos hecho."
   ]
  },
  {
   "attachments": {},
   "cell_type": "markdown",
   "metadata": {},
   "source": [
    "Ahora si revisamos los commits por medio de **`git log`**:\n",
    "\n",
    "<center><img src=\"https://i.postimg.cc/j2hsWV2W/gh40.png\"></center>\n",
    "\n",
    "___"
   ]
  }
 ],
 "metadata": {
  "language_info": {
   "name": "python"
  },
  "orig_nbformat": 4
 },
 "nbformat": 4,
 "nbformat_minor": 2
}
