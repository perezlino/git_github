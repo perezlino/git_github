{
 "cells": [
  {
   "attachments": {},
   "cell_type": "markdown",
   "metadata": {},
   "source": [
    "### **1.3 - Reconstruir un proyecto de acuerdo al último commit**\n",
    "___"
   ]
  },
  {
   "attachments": {},
   "cell_type": "markdown",
   "metadata": {},
   "source": [
    "#### Comando **git checkout -- .**\n",
    "\n",
    "Vamos a comenzar ejemplificando y luego utilizando el comando **`git checkout -- .`**\n",
    "\n",
    "Mencionar que si hemos generado multiples modificaciones para un archivo, o varios archivos para luego guardar cambios, con el comando **`git checkout -- .`** vamos a lograr anular todas esas modificaciones y regresar a la(s) estructuras del archivo(s) que tenian al momento de realizar el último commit. Al utilizar solo 1 vez este comando anulamos una o varias modificaciones realizadas para 1 o varios archivos\n",
    "\n",
    "- Para el archivo **`index.html`**  \n",
    "\n",
    "<center><img src=\"https://i.postimg.cc/wjTnmjhJ/gh17.png\"></center>\n",
    "\n",
    "- Borramos todo el código y guardamos los cambios\n",
    "\n",
    "<center><img src=\"https://i.postimg.cc/SKn5g11x/gh18.png\"></center>\n",
    "\n",
    "- Más tarde, nos damos cuenta que no debiamos borrar el código y necesitamos recuperar los datos del archivo según como lo teniamos en el último **`commit`**\n",
    "\n",
    "- Para ello útilizamos el comando **`git checkout -- .`**\n",
    "\n",
    "<center><img src=\"https://i.postimg.cc/wjfZcYVr/gh19.png\"></center>\n",
    "\n",
    "- Si revisamos el archivo **`index.html`** podemos ver que ha vuelto a su estructura que tenia en el último **`commit`** realizado\n",
    "\n",
    "<center><img src=\"https://i.postimg.cc/wjTnmjhJ/gh17.png\"></center>"
   ]
  }
 ],
 "metadata": {
  "language_info": {
   "name": "python"
  },
  "orig_nbformat": 4
 },
 "nbformat": 4,
 "nbformat_minor": 2
}
