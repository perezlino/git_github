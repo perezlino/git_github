{
 "cells": [
  {
   "attachments": {},
   "cell_type": "markdown",
   "metadata": {},
   "source": [
    "### **1.4 - Visualizar la rama en la que nos encontramos**\n",
    "___"
   ]
  },
  {
   "attachments": {},
   "cell_type": "markdown",
   "metadata": {},
   "source": [
    "#### Comando **git branch**\n",
    "\n",
    "El comando **`git branch`** es un comando que nos va a decir en qué rama estamos trabajando. Es parecido a **`git status`**, solo que **`git status`** nos da más información que solo la rama.\n",
    "\n",
    "<center><img src=\"https://i.postimg.cc/43F1SJ7D/gh20.png\"></center>\n",
    "\n",
    "**Ahora, ¿qué es eso de la `rama`?**\n",
    "\n",
    "En pocas palabras, una rama es el lugar en el cual ustedes se encuentran trabajando. Podemos tener múltiples ramas. Las ramas, hacen la analogía a las ramas de un árbol. Es decir, ustedes han visto que un árbol tiene de diferentes ramas. Si ustedes fueran una hormiga y empiezan a escalar ese árbol, pueden decir acá hay una rama, me puedo ir por esta rama y sigo caminando por esa rama y esa rama puede tener otra rama y por ahí va la cuestión. Es la misma analogía. Eventualmente las ramas pueden regresar a la rama principal, que sería en este caso el **`main`**.\n",
    "\n",
    "El comando de **`git branch`** está enfocado en mostrarles a ustedes cuales son las ramas. También pone en otro color y un asterisco indicando cuál es la rama en la cual ustedes están trabajando. ¿Por qué? Porque ustedes pueden trabajar en diferentes ramas. Una rama podría verse también como una versión alterna de la realidad en la que ustedes se encuentran. Es como que puedan crear diferentes universos o multi universos, en el cual pudiera ser que ustedes se van por una rama en particular, empezar a trabajar y probablemente poder decidir que todo el trabajo hecho en dicha rama no sirve para nada y simplemente eliminamos la rama.\n",
    "\n",
    "Yo les aconsejaría que ustedes hagan la menor cantidad de modificaciones en la rama **`main`**. ¿Por qué? Porque si ustedes están trabajando con otras personas o inclusive ustedes mismos, siempre es buena práctica que el **`main`** tenga únicamente lo que es realmente que va para producción o la versión final de su proyecto, o son cambios que han sido revisados y están seguros que tienen que impactar esta versión final de proyecto o de su repositorio.\n",
    "\n",
    "Usualmente se aconseja que siempre, siempre trabajen en ramas. ¿Por qué? Por la misma razón que pudiera ser que ustedes digan ¿saben qué? vamos a desechar todo lo que hicimos hasta el momento y vamos a regresar cómo estaba el proyecto en su momento original o antes de hacer la separación. \n"
   ]
  }
 ],
 "metadata": {
  "language_info": {
   "name": "python"
  },
  "orig_nbformat": 4
 },
 "nbformat": 4,
 "nbformat_minor": 2
}
