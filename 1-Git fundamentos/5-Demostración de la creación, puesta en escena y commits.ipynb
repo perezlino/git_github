{
 "cells": [
  {
   "attachments": {},
   "cell_type": "markdown",
   "metadata": {},
   "source": [
    "### **1.5 - Demostración de la creación, puesta en escena y commits**\n",
    "___"
   ]
  },
  {
   "attachments": {},
   "cell_type": "markdown",
   "metadata": {},
   "source": [
    "#### Comando **git commit -am 'descripcion'**\n",
    "\n",
    "- En esta clase lo que vamos a hacer es añadir (crear) un nuevo archivo a nuestro proyecto.\n",
    "\n",
    "- **`README.md`** es un archivo especial con la extensión \"md\" que proviene de Markdown. Markdown es muy utilizado, especialmente a la hora de subir sus repositorios, a sitios como por ejemplo, GitHub, BitBucket, los cuales van a trabajar o trabajan en base a estos archivos \"md\" para colocar información visual en ciertas páginas. Y si ustedes le ponen el nombre README de esta manera, entonces cuando alguien navegue a esa página en particular de su repositorio, van a observar todo su contenido del archivo pero ya formateado de manera HTML.\n",
    "\n",
    "- **`Este archivo README es Untracked`**, es decir, no se le está dando seguimiento\n",
    "\n",
    "<center><img src=\"https://i.postimg.cc/3JHsKHnM/gh21.png\"></center>\n",
    "\n",
    "- Vamos a agregarlo al stage usando **`git add README.md`**\n",
    "\n",
    "<center><img src=\"https://i.postimg.cc/MZ4FTJ5Z/gh22.png\"></center>\n",
    "<center><img src=\"https://i.postimg.cc/g2btVy1f/gh23.png\"></center>\n",
    "\n",
    "- O podemos removerlo del stage usando **`git reset`** README.md\n",
    "\n",
    "<center><img src=\"https://i.postimg.cc/J4kdHYYN/gh24.png\"></center>\n",
    "<center><img src=\"https://i.postimg.cc/ZqTfgbbH/gh25.png\"></center>\n",
    "\n",
    "- Pero lo volveremos a agregar y le haremos un commit\n",
    "\n",
    "<center><img src=\"https://i.postimg.cc/qvcbjhTg/gh26.png\"></center>\n",
    "<center><img src=\"https://i.postimg.cc/KYJ9h642/gh27.png\"></center>\n",
    "\n",
    "- Vamos a modificar el texto de Notas y utilizaremos el comando **`git commit -am`** para hacer el commit\n",
    "\n",
    "- Este comando de **`git commit -am`** solo funciona si ustedes ya le están dando seguimiento al archivo\n",
    "\n",
    "<center><img src=\"https://i.postimg.cc/Kzj0G0gg/gh28.png\"></center>\n",
    "<center><img src=\"https://i.postimg.cc/j2JvNCcx/gh29.png\"></center>\n",
    "<center><img src=\"https://i.postimg.cc/50rn68wK/gh30.png\"></center>\n",
    "\n",
    "___"
   ]
  },
  {
   "attachments": {},
   "cell_type": "markdown",
   "metadata": {},
   "source": [
    "#### Comando **git log**\n",
    "\n",
    "El objeto alfanumérico es el **`HASH`** del commit y es ÚNICO. Es como el identificador único del commit. Luego tenemos una bandera importante aquí que es el **`HEAD`**, el HEAD es, por decirlo así, un punto en el cual se encuentra en la última versión de nuestro repositorio.\n",
    "\n",
    "<center><img src=\"https://i.postimg.cc/fRhtMk0c/gh31.png\"></center>\n",
    "\n",
    "___"
   ]
  }
 ],
 "metadata": {
  "language_info": {
   "name": "python"
  },
  "orig_nbformat": 4
 },
 "nbformat": 4,
 "nbformat_minor": 2
}
