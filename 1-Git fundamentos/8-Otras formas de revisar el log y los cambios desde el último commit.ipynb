{
 "cells": [
  {
   "attachments": {},
   "cell_type": "markdown",
   "metadata": {},
   "source": [
    "### **1.8 - Otras formas de revisar el log y los cambios desde el último commit**\n",
    "___"
   ]
  },
  {
   "attachments": {},
   "cell_type": "markdown",
   "metadata": {},
   "source": [
    "#### Comando **git log --oneline**\n",
    "\n",
    "Haremos una comparación entre el uso del comando **`git log`** y el comando **`git log --oneline`** para contrastar sus diferencias\n",
    "\n",
    "<center><img src=\"https://i.postimg.cc/1t7HnVGx/gh51.png\"></center>\n",
    "<center><img src=\"https://i.postimg.cc/904BGXbD/gh52.png\"></center>\n",
    "\n",
    "___"
   ]
  },
  {
   "attachments": {},
   "cell_type": "markdown",
   "metadata": {},
   "source": [
    "#### Comando **git log --oneline --decorate --all --graph**\n",
    "\n",
    "También podemos hacer uso del comando **`git log --oneline --decorate --all --graph`**\n",
    "\n",
    "<center><img src=\"https://i.postimg.cc/3xDJzsS2/gh53.png\"></center>\n",
    "\n",
    "___"
   ]
  },
  {
   "attachments": {},
   "cell_type": "markdown",
   "metadata": {},
   "source": [
    "#### Comando **git status -s, git status --short y git status -s -b**\n",
    "\n",
    "Vamos a comenzar editando el archivo **`css/main.css`**\n",
    "\n",
    "<center><img src=\"https://i.postimg.cc/K8F9RH4B/gh54.png\"></center>\n",
    "\n",
    "Y también el archivo **ìndex.html`**\n",
    "\n",
    "<center><img src=\"https://i.postimg.cc/RZRgfLn8/gh55.png\"></center>\n",
    "\n",
    "Guardamos los cambios\n",
    "\n",
    "<center><img src=\"https://i.postimg.cc/TP3Cc5VP/gh56.png\"></center>\n",
    "\n",
    "Y vamos a utilizar un comando más eficiente y ligero para visualizar las modificaciones realizadas **`git status --short`**\n",
    "\n",
    "<center><img src=\"https://i.postimg.cc/qR9w0m9t/gh57.png\"></center>\n",
    "\n",
    "También podemos utilizar este comando de la siguiente manera: **`git status -s`**\n",
    "\n",
    "<center><img src=\"https://i.postimg.cc/SK1V1Qdf/gh58.png\"></center>\n",
    "\n",
    "Si añadimos al **stage** el archivo **`css/main.css`** y luego utilizamos el comando **`git status -s`**, podemos ver que ambos están representados con un icono **`M`**, el cual nos indica que al tener el color **`verde`** el archivo se encuentra en el **stage** y en **`rojo`** cuando el archivo no se encuentra en el **stage**\n",
    "\n",
    "<center><img src=\"https://i.postimg.cc/kGKc5QmT/gh59.png\"></center>\n",
    "\n",
    "También podriamos utilizar el comando **`git status -s -b`** el cual tiene el mismo objetivo que el comando **`git status -s`**, pero indicandonos además en que rama nos encontramos. Nosotros nos encontramos en la rama **main**\n",
    "\n",
    "<center><img src=\"https://i.postimg.cc/xCk5wrFD/gh60.png\"></center>\n",
    "\n",
    "___"
   ]
  },
  {
   "attachments": {},
   "cell_type": "markdown",
   "metadata": {},
   "source": [
    "\n",
    "\n",
    "\n",
    "\n",
    "\n",
    "\n"
   ]
  }
 ],
 "metadata": {
  "language_info": {
   "name": "python"
  },
  "orig_nbformat": 4
 },
 "nbformat": 4,
 "nbformat_minor": 2
}
