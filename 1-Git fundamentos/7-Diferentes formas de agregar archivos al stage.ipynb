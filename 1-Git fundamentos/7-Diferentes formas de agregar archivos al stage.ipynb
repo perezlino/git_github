{
 "cells": [
  {
   "attachments": {},
   "cell_type": "markdown",
   "metadata": {},
   "source": [
    "### **1.7 - Diferentes formas de agregar archivos al stage**\n",
    "___"
   ]
  },
  {
   "attachments": {},
   "cell_type": "markdown",
   "metadata": {},
   "source": [
    "#### **Agregar solo archivos según la extensión**\n",
    "\n",
    "Hacemos uso del comando **`git add *.png`** para añadir al stage solo los archivos con extension **`png`** que se encuentren en el directorio **`demo_02`**\n",
    "\n",
    "<center><img src=\"https://i.postimg.cc/JhGbCk5F/gh41.png\"></center>\n",
    "<center><img src=\"https://i.postimg.cc/tgwFq4r4/gh42.png\"></center>\n",
    "\n",
    "___"
   ]
  },
  {
   "attachments": {},
   "cell_type": "markdown",
   "metadata": {},
   "source": [
    "#### **Agregar solo archivos según la extensión dentro de un directorio**\n",
    "\n",
    "Hacemos uso del comando **`git add fonts/*.eot`** para añadir al stage solo los archivos con extension **`eot`** que se encuentren del directorio **`fonts`**\n",
    "\n",
    "<center><img src=\"https://i.postimg.cc/8P6SCpTn/gh43.png\"></center>\n",
    "<center><img src=\"https://i.postimg.cc/ht8R92zL/gh44.png\"></center>\n",
    "\n",
    "___"
   ]
  },
  {
   "attachments": {},
   "cell_type": "markdown",
   "metadata": {},
   "source": [
    "#### **Agregar todos los archivos dentro de un directorio**\n",
    "\n",
    "Hacemos uso del comando **`git add css/`** para añadir al stage todos los archivos que se encuentren en el directorio **`css`**\n",
    "\n",
    "<center><img src=\"https://i.postimg.cc/cLqyPpGy/gh45.png\"></center>\n",
    "<center><img src=\"https://i.postimg.cc/XYwSWsnZ/gh46.png\"></center>\n",
    "\n",
    "___"
   ]
  },
  {
   "attachments": {},
   "cell_type": "markdown",
   "metadata": {},
   "source": [
    "#### **Agregar todos los archivos dentro de un subdirectorio**\n",
    "\n",
    "Hacemos uso del comando **`git add js/vendor/`** para añadir al stage todos los archivos que se encuentren en el subdirectorio **`vendor`** del directorio **`js`**\n",
    "\n",
    "<center><img src=\"https://i.postimg.cc/Z5MBkPxy/gh47.png\"></center>\n",
    "<center><img src=\"https://i.postimg.cc/CKnZwZcr/gh48.png\"></center>\n",
    "\n",
    "___"
   ]
  },
  {
   "attachments": {},
   "cell_type": "markdown",
   "metadata": {},
   "source": [
    "#### **Agregar todos los archivos menos archivos de una extension en particular**\n",
    "\n",
    "Pongamos el caso especial de que queremos agregar todos los archivos del directorio **`demo_02`** menos los archivos que tengan extensión **`xml`**. Para ello podemos hacer uso del comando **`git add --all`** **(git add .** o **git add -A)** para agregar todos los archivos al **stage**, y luego utilizar el comando **`git reset *.xml`** para sacar del **stage** a todos los archivos de extensión **`xml`**\n",
    "\n",
    "___"
   ]
  }
 ],
 "metadata": {
  "language_info": {
   "name": "python"
  },
  "orig_nbformat": 4
 },
 "nbformat": 4,
 "nbformat_minor": 2
}
