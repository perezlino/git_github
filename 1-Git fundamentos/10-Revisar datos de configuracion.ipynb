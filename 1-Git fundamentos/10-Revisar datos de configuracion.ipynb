{
 "cells": [
  {
   "attachments": {},
   "cell_type": "markdown",
   "metadata": {},
   "source": [
    "### **1.10 - Revisar datos de configuración**\n",
    "___"
   ]
  },
  {
   "attachments": {},
   "cell_type": "markdown",
   "metadata": {},
   "source": [
    "#### Comando **git config --global -l**\n",
    "\n",
    "Vamos a utilizar el comando **`git config --global -l`** para visualizar el nombre se usuario, email, comandos que utilicen alias, etc.\n",
    "\n",
    "<center><img src=\"https://i.postimg.cc/c4khTLJ1/gh62.png\"></center>\n",
    "\n",
    "___"
   ]
  }
 ],
 "metadata": {
  "language_info": {
   "name": "python"
  },
  "orig_nbformat": 4
 },
 "nbformat": 4,
 "nbformat_minor": 2
}
