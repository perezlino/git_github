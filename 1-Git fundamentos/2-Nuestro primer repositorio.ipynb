{
 "cells": [
  {
   "attachments": {},
   "cell_type": "markdown",
   "metadata": {},
   "source": [
    "### **1.2 - Nuestro primer repositorio**\n",
    "___"
   ]
  },
  {
   "attachments": {},
   "cell_type": "markdown",
   "metadata": {},
   "source": [
    "#### Comando **git init**\n",
    "\n",
    "- Comando que utilizamos para inicializar el repositorio. \n",
    "\n",
    "- Si ustedes borran el directorio **`.git`**, borran su repositorio. Es más, Git ya no podría darle seguimiento al proyecto. Toda la configuración de cómo le da seguimiento a los cambios, como puede hacer viajes en el tiempo y todo sucede dentro de este directorio git. Si ustedes borran ese directorio, borran todo lo que es su repositorio, pero obviamente los otros archivos se mantienen.\n",
    "\n",
    "Tenemos la ruta **C:/git_guthub/**\n",
    "\n",
    "<center><img src=\"https://i.postimg.cc/PrnSjRC7/gh8.png\"></center>\n",
    "\n",
    "Ejecutamos para la ruta indicada el comando **git init**\n",
    "\n",
    "<center><img src=\"https://i.postimg.cc/ZYdwXS53/gh9.png\"></center>\n",
    "\n",
    "Ya hemos inicializado el directorio de ruta **C:/git_guthub/** creando el directorio oculto **.git**\n",
    "\n",
    "<center><img src=\"https://i.postimg.cc/jd6Zd4NS/gh10.png\"></center>\n",
    "\n",
    "___"
   ]
  },
  {
   "attachments": {},
   "cell_type": "markdown",
   "metadata": {},
   "source": [
    "#### Comando **git status**\n",
    "\n",
    "- Nos dice que nos encontramos en la rama **main**\n",
    "\n",
    "- Que no se han realizado **commits**\n",
    "\n",
    "- Luego tenemos un mensaje que nos dice que estos archivos no se les está dando seguimiento. Son archivos que Git sabe que existen dentro de la ruta **C:/git_github** pero no han sido registradas en ningún lugar **=>** **`Untracked files`**\n",
    "\n",
    "- Esto significa de que Git no sabe o si se hiciera alguna modificación dentro de estas carpetas o archivos, Git es como que ok, me vale, si algo se borra, si algo le pasa, eso no me importa. ¿Por qué? Porque yo no le he dicho que estos archivos son importantes para mi. Entonces Git me está diciendo que todos estos archivos y directorios no se les está dando seguimiento.\n",
    "\n",
    "- Sería bueno que lo hiciéramos el **git add** para empezar a darle seguimiento.\n",
    "\n",
    "<center><img src=\"https://i.postimg.cc/5yD0hz9c/gh11.png\"></center>\n",
    "\n",
    "___"
   ]
  },
  {
   "attachments": {},
   "cell_type": "markdown",
   "metadata": {},
   "source": [
    "#### Comando **git add** y **git add . (git add --all o git add -A)**\n",
    "\n",
    "- Vamos a escribir **git add** y podemos añadir cada uno de estos archivos manualmente, como por ejemplo el **`index.html`**.\n",
    "\n",
    "- Me dice que este archivo está listo para que le haga un **commit**, donde un `commit` es básicamente tomar una fotografía. Por tanto, dice que este archivo que está aquí en verde está listo para esa fotografía. \n",
    "\n",
    "- Este archivo ahora se encuentra en el **`stage`**\n",
    "\n",
    "<center><img src=\"https://i.postimg.cc/brLJv5Rh/gh12.png\"></center>\n",
    "\n",
    "- Vamos a agregar todos los archivos para que Git este pendiente de los cambios\n",
    "\n",
    "- Podemos subir al **`stage`** todos los archivos que no tienen seguimiento a la vez utilizando **`git add .`**\n",
    "\n",
    "<center><img src=\"https://i.postimg.cc/QxxCzXXx/gh13.png\"></center>\n",
    "\n",
    "- Todo aparecerá en verde y esto quiere decir que Git ya sabe que todos esos registros, que todos esos archivos estan listos para formar parte del snapshot (fotografía) que vamos a realizar a continuación con **`git commit`**.\n",
    "\n",
    "<center><img src=\"https://i.postimg.cc/ZYL0j9zM/gh14.png\"></center>\n",
    "\n",
    "___"
   ]
  },
  {
   "attachments": {},
   "cell_type": "markdown",
   "metadata": {},
   "source": [
    "#### **Diagrama: `Directorio de trabajo` --> `Stage` --> `Repositorio`**\n",
    "\n",
    "<center><img src=\"https://i.postimg.cc/T1gQbr4Q/gh7.png\"></center>\n",
    "\n",
    "___"
   ]
  },
  {
   "attachments": {},
   "cell_type": "markdown",
   "metadata": {},
   "source": [
    "#### Comando **git reset**\n",
    "\n",
    "- Si por accidente colocamos un archivo y lo queremos remover, por ejemplo el archivo **`index.html`**\n",
    "\n",
    "- Utilizando **`git reset`** le indicamos a Git que remueva este archivo del **`stage`**\n",
    "\n",
    "<center><img src=\"https://i.postimg.cc/HkbLcjzz/gh15.png\"></center>\n",
    "\n",
    "___"
   ]
  },
  {
   "attachments": {},
   "cell_type": "markdown",
   "metadata": {},
   "source": [
    "#### Comando **git commit -m 'descripcion'**\n",
    "\n",
    "- En ese momento cuando usemos el **`commit`** ya crea un registro histórico de los cambios que sucedieron con todos los archivos que estaban en el escenario (stage) en ese preciso momento\n",
    "\n",
    "- Volvemos a llevar al archivo **`index.html`** al stage\n",
    "\n",
    "<center><img src=\"https://i.postimg.cc/QM4gP67H/gh16.png\"></center>\n",
    "\n",
    "___"
   ]
  }
 ],
 "metadata": {
  "language_info": {
   "name": "python"
  },
  "orig_nbformat": 4
 },
 "nbformat": 4,
 "nbformat_minor": 2
}
