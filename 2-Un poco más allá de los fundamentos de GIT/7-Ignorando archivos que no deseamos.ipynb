{
 "cells": [
  {
   "attachments": {},
   "cell_type": "markdown",
   "metadata": {},
   "source": [
    "### **2.7 - Ignorando archivos que no deseamos**\n",
    "\n",
    "Aprenderemos a ignorar los archivos o carpetas que no queremos que Git realice el seguimiento, pero sin borrar dichos archivos de nuestro ordenador.\n",
    "___"
   ]
  },
  {
   "attachments": {},
   "cell_type": "markdown",
   "metadata": {},
   "source": [
    "#### **Crear archivo .gitignore**\n",
    "\n",
    "En el directorio **`demo_04`** vamos a crear el archivo **`.gitignore`**. Dentro del archivo **`.gitignore`** vamos a indicar (especificar) todos los archivos y directorios que no nos interesa darle seguimiento. A este archivo **`.gitignore`** **SI TENEMOS QUE DARLE SEGUIMIENTO**\n",
    "\n",
    "Creamos dos archivos con extensión **`.log`** y el directorio **`node_modules`** el cual contiene un archivo\n",
    "\n",
    "<center><img src=\"https://i.postimg.cc/NGPJZc1d/gh107.png\"></center>\n",
    "\n",
    "Luego, creamos el archivo **`.gitignore`** e indicamos aquellos archivos y directorios que queremos ignorar y luego guardamos:\n",
    "\n",
    "<center><img src=\"https://i.postimg.cc/L6YCpbD2/gh108.png\"></center>\n",
    "\n",
    "Finalmente, añadimos el cambio al **`stage`** y ejecutamos un commit\n",
    "\n",
    "<center><img src=\"https://i.postimg.cc/TYzkYJNm/gh109.png\"></center>\n",
    "\n",
    "___\n"
   ]
  }
 ],
 "metadata": {
  "language_info": {
   "name": "python"
  },
  "orig_nbformat": 4
 },
 "nbformat": 4,
 "nbformat_minor": 2
}
