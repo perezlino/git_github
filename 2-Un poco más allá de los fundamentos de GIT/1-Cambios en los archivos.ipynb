{
 "cells": [
  {
   "attachments": {},
   "cell_type": "markdown",
   "metadata": {},
   "source": [
    "### **2.1 - Cambios en los archivos**\n",
    "\n",
    "Aquí aprenderemos a revisar las diferencias que hacemos en los archivos y deshacer los cambios \n",
    "___"
   ]
  },
  {
   "attachments": {},
   "cell_type": "markdown",
   "metadata": {},
   "source": [
    "#### Comando **git diff**\n",
    "\n",
    "Lo utilizaremos para ver las modificaciones que se han realizado en un directorio, en este caso en el directorio **`demo_03`**, para **archivos donde se guardaron los cambios, pero aún no se llevan al stage**\n",
    "\n",
    "Si hemos realizado modificaciones en varios archivos, nos aparecerá un listado de las modificaciones para cada uno\n",
    "\n",
    "En el directorio **`demo_03`** vamos a crear un archivo **`README.md`** al cual le ingresaremos un texto. Lo añadiremos al **stage** y luego haremos un **commit**. También revisaremos el **log**\n",
    "\n",
    "<center><img src=\"https://i.postimg.cc/5NWcMsxh/gh63.png\"></center>\n",
    "\n",
    "A continuación vamos a realizarle una modificación a este archivo y solo guardaremos los cambios, aún no lo llevaremos al **stage**\n",
    "\n",
    "<center><img src=\"https://i.postimg.cc/mZJXHjhm/gh64.png\"></center>\n",
    "\n",
    "Para ver las modificaciones que he realizado en el archivo, utilizo el comando **`git diff`**. Podemos ver que en **rojo** se especifica el texto original y en **verde** se especifica la modificación\n",
    "\n",
    "<center><img src=\"https://i.postimg.cc/3wz4BkpQ/gh65.png\"></center>\n",
    "\n",
    "___"
   ]
  },
  {
   "attachments": {},
   "cell_type": "markdown",
   "metadata": {},
   "source": [
    "#### Comando **git diff --staged**\n",
    "\n",
    "Lo utilizaremos para ver las modificaciones que se han realizado en un directorio, en este caso en el directorio **`demo_03`**, para **archivos que ya se encuentran en stage**\n",
    "\n",
    "Si hemos realizado modificaciones en varios archivos, y estos son llevados al **stage**, nos aparecerá un listado de las modificaciones para cada uno\n",
    "\n",
    "Supongamos que el archivo visto anteriormente, lo añadimos al **stage**. Para ver las modificaciones que hicimos y su estado previo no podemos utilizar **`git diff`**. Debemos utilizar **`git diff --staged`**\n",
    "\n",
    "<center><img src=\"https://i.postimg.cc/rprk2sdJ/gh66.png\"></center>\n",
    "\n",
    "___"
   ]
  },
  {
   "attachments": {},
   "cell_type": "markdown",
   "metadata": {},
   "source": [
    "#### Revertir la carga de un archivo al **stage**\n",
    "\n",
    "Tenemos dos formas de realizarlo:\n",
    "\n",
    "1. Utilizando el comando **`git reset archivo`**\n",
    "\n",
    "<center><img src=\"https://i.postimg.cc/dV2yJ2hH/gh67.png\"></center>\n",
    "\n",
    "2. Utilizando el comando **`git reset HEAD archivo`**\n",
    "\n",
    "<center><img src=\"https://i.postimg.cc/BvJ1bjDq/gh68.png\"></center>\n",
    "\n",
    "En el caso de existir más archivos en el **stage** y necesitamos revertir a varios archivos, da igual que forma utilizar y en que orden. Podemos usar cualquiera de las dos indicadas\n",
    "\n",
    "___"
   ]
  },
  {
   "attachments": {},
   "cell_type": "markdown",
   "metadata": {},
   "source": [
    "#### Revertir la modificación de un archivo después de haber sido guardado\n",
    "\n",
    "Podemos utilizar el comando **`git checkout -- .`** y podemos ver que nuestro archivo de ejemplo **`README.md`** ha vuelto a su estado inicial\n",
    "\n",
    "<center><img src=\"https://i.postimg.cc/qqHGmkSg/gh69.png\"></center>\n",
    "\n",
    "___"
   ]
  }
 ],
 "metadata": {
  "language_info": {
   "name": "python"
  },
  "orig_nbformat": 4
 },
 "nbformat": 4,
 "nbformat_minor": 2
}
