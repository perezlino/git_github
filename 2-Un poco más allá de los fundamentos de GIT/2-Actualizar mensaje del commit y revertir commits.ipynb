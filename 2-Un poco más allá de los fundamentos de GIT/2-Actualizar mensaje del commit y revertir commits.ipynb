{
 "cells": [
  {
   "attachments": {},
   "cell_type": "markdown",
   "metadata": {},
   "source": [
    "### **2.2 - Actualizar mensaje del commit y revertir commits**\n",
    "\n",
    "Aquí aprenderemos como actualizar el mensaje de un commit y ademas como revertir completamente un commit para poder adicionar otras cosas que se nos pudieron haber olvidado.\n",
    "___"
   ]
  },
  {
   "attachments": {},
   "cell_type": "markdown",
   "metadata": {},
   "source": [
    "#### Comando **git commit --amend -m \"descripcion\"**\n",
    "\n",
    "Siguiendo con este archivo **`README.md`** que creamos en el punto 2.1, ahora le hemos realizado una modificación, agregandole más texto. Ya lo hemos añadido al **stage** y realizamos un commit. Pero tuvimos un problema con el nombre que asignamos al commit, ya que, escribimos mal una palabra. Si nos fijamos escribimos **Archivo Readme actualiz**, quedando la palabra **actualiz** incompleta\n",
    "\n",
    "<center><img src=\"https://i.postimg.cc/4xs6MfPh/gh70.png\"></center>\n",
    "\n",
    "Para resolver este problema debemos utiliza el comando **`git commit --amend -m \"descripcion\"`**. Con este comando podemos **renombrar el commit**. En teoria, **`git commit --amend`** no reescribe el antiguo commit, si no, crea un commit completamente nuevo (por eso tiene un nuevo hash). La diferencia es que el antiguo commit ya no estará en tu rama actual. Esto funciona bien si trabajas de manera local, pero se debe evitar si ya le hiciste push al último commit de manera remota\n",
    "\n",
    "<center><img src=\"https://i.postimg.cc/ZnjwsWNj/gh71.png\"></center>\n",
    "\n",
    "___"
   ]
  },
  {
   "attachments": {},
   "cell_type": "markdown",
   "metadata": {},
   "source": [
    "#### Comando **git reset --soft HEAD^**\n",
    "\n",
    "Siguiendo con este archivo **`README.md`**, lo volvemos a modificar agregandole un par de lineas más, pero nos damos cuenta que necesitamos que estos cambios se guarden en el último commit realizado **Archivo Readme actualizado** \n",
    "\n",
    "<center><img src=\"https://i.postimg.cc/MZY3pFLR/gh72.png\"></center>\n",
    "\n",
    "Para ello primeramente utilizamos el comando **`git reset --soft HEAD^`**\n",
    "\n",
    "<center><img src=\"https://i.postimg.cc/HssZctGN/gh73.png\"></center>\n",
    "\n",
    "**Con este comando borramos el último commit realizado**\n",
    "\n",
    "<center><img src=\"https://i.postimg.cc/ZKnqf1tx/gh74.png\"></center>\n",
    "\n",
    "El HEAD apunta al último commit. Si estoy en la rama main y ustedes ven que el HEAD está apuntando al main, significa que este es el último commit que se encuentra en la rama main. Luego, cuando veamos otra Rama, ustedes van a ver que eso cambia un poco. Luego está el techito “^” que indica el último commit antes de este HEAD. El HEAD también podría ser reemplazado por el HASH de un commit.\n",
    "\n",
    "<center><img src=\"https://i.postimg.cc/ZKnqf1tx/gh74.png\"></center>\n",
    "\n",
    "Ahora que borramos el último commit, tenemos la chance de quizás seguir modificando el archivo **`README.md`**. Ya finalmente, ejecutaremos el commit y este tendrá las nuevas modificaciones hechas al archivo \n",
    "\n",
    "<center><img src=\"https://i.postimg.cc/Hk7kmXLJ/gh75.png\"></center>"
   ]
  },
  {
   "attachments": {},
   "cell_type": "markdown",
   "metadata": {},
   "source": [
    "\n",
    "\n",
    "\n"
   ]
  }
 ],
 "metadata": {
  "language_info": {
   "name": "python"
  },
  "orig_nbformat": 4
 },
 "nbformat": 4,
 "nbformat_minor": 2
}
